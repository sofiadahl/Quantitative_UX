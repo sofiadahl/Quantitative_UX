{
 "cells": [
  {
   "cell_type": "markdown",
   "metadata": {
    "id": "UG0faQnuDQOs"
   },
   "source": [
    "# UX 5 Inferential Statistics\n",
    "\n",
    "Author:\n",
    "- |\n",
    "    Sofia Dahl, sof@create.aau.dk\\\n",
    "    Dept. Architecture, Design and Media Technology, Aalborg University Copenhagen\n",
    "---\n",
    "\n",
    "## Learning goals\n",
    "After working your way through this notebook you should be able to...\n",
    "- Explain basic concepts of probability\n",
    "- Explain the relationship between probability and frequency distributions\n",
    "- Calculate z-scores (when population mean is known)\n",
    "\n",
    "## Table of Contents\n",
    "- [1 Probability](#Probability)\n",
    "- [2 From Probability to Hypothesis testing](#Hypothesis)  \n",
    "    - [2.1 A Practical Example: Heights](#Heights) \n",
    "- [3 Significance Levels](#Significance)\n",
    "    - [3.1 Z-scores](#Z-scores)\n",
    "- [4 Single sample t-test](#SingleSampleTtest)\n",
    "    - [4.1 One tail example](#OneTail)\n",
    "- [5 Binary Data and Small Samples](#SmallSamples)\n",
    "    - [5.1 Binomial](#Binomial)    \n",
    "    - [5.2 Task completion for small samples](#TaskCompletionSmallSamples)\n",
    "- [6 Adjusted Wald Confidence Intervals](#AdjustedWald)"
   ]
  },
  {
   "cell_type": "code",
   "execution_count": 2,
   "metadata": {
    "executionInfo": {
     "elapsed": 498,
     "status": "ok",
     "timestamp": 1620474091606,
     "user": {
      "displayName": "Prithvi Kantan",
      "photoUrl": "https://lh3.googleusercontent.com/a-/AOh14GiCLUP5h_S53ydSDrgq_SLOZBd5_3wFs87fFb5XQA=s64",
      "userId": "18111691564717832004"
     },
     "user_tz": -120
    },
    "id": "ZsJ2pXUrDQO0"
   },
   "outputs": [],
   "source": [
    "%matplotlib inline\n",
    "\n",
    "import numpy as np\n",
    "import pandas as pd\n",
    "import matplotlib.pyplot as plt\n",
    "\n",
    "import scipy.stats as stats"
   ]
  },
  {
   "cell_type": "markdown",
   "metadata": {
    "id": "6S8L4bMwDQO1"
   },
   "source": [
    "<a id= 'Probability'> </a>"
   ]
  },
  {
   "cell_type": "markdown",
   "metadata": {
    "id": "iuE950Y-DQO2"
   },
   "source": [
    "## 1. Probability\n",
    "\n",
    "In previous chapters we have looked at frequency distributions of data. The reason why frequency distributions are so interesting is that they can be related to probabilities. That is, how likely (or unlikely) it is for a particular outcome to occur.\n",
    "\n",
    "The probability of an event, *p(A)* is defined as number of outcomes classified as A divided by the total number of possible outcomes, and can vary between 0 and 1. \n",
    "\n",
    "For example, the probability of getting a 6\n",
    "when rolling a six-sided die is:\n",
    "\n",
    "$$p(6) = {{ 1} \\over{6} }$$\n",
    "\n",
    "p(A) = 1 if the event *ALWAYS* happens (e.g. to get either a 1, 2, 3, 4,\n",
    "5, or 6 when rolling a dice).\n",
    "\n",
    "p(A) = 0 if A is something that never happens (e.g. that the same die\n",
    "shows 7 after a roll).\n",
    "\n",
    "When two or more outcomes cannot occur simultaneously, they are said to be *mutually exclusive*.\n",
    "\n",
    "If several outcomes are mutually exclusive, **the probability that any one of these outcomes will occur is the sum of their individual probabilities**. For instance, the probability of rolling an even number with a six-sided die would be the sum of the probabilities of the individual even number outcomes as follows:\n",
    "\n",
    "$$p(even) = p(2)+p(4)+p(6)={{1} \\over{6}}+{{1} \\over{6}} +{{1} \\over{6} }={{1} \\over{2}}$$\n",
    "\n",
    "\n"
   ]
  },
  {
   "cell_type": "markdown",
   "metadata": {
    "id": "Q-lTAHjFDQO2"
   },
   "source": [
    "If we consider a set of data as describing the full population, we can easily calculate the probability of randomly drawing a particular sample from it. \n",
    "Let us take an example with data on age and gender collected from 38 BSc students:"
   ]
  },
  {
   "cell_type": "code",
   "execution_count": 3,
   "metadata": {
    "colab": {
     "base_uri": "https://localhost:8080/"
    },
    "executionInfo": {
     "elapsed": 510,
     "status": "ok",
     "timestamp": 1620474094001,
     "user": {
      "displayName": "Prithvi Kantan",
      "photoUrl": "https://lh3.googleusercontent.com/a-/AOh14GiCLUP5h_S53ydSDrgq_SLOZBd5_3wFs87fFb5XQA=s64",
      "userId": "18111691564717832004"
     },
     "user_tz": -120
    },
    "id": "w8S6JwtBDQO2",
    "outputId": "78b56280-4e6d-4383-85b4-20f963220e54"
   },
   "outputs": [
    {
     "data": {
      "text/plain": [
       "(38, 2)"
      ]
     },
     "execution_count": 3,
     "metadata": {},
     "output_type": "execute_result"
    }
   ],
   "source": [
    "# Data on Medialogy Students' Age and Gender (male=0; female=1)\n",
    "\n",
    "array=np.array([[21,0],[22,0],[26,0],[21,0],\n",
    "[20,0],[23,0],[22,0],[25,0],[21,0],\n",
    "[27,0],[21,0],[20,1],[21,0],[23,0],\n",
    "[22,0],[23,0],[20,0],[22,0],\n",
    "[24,1],[23,0],[22,0],[25,0],[21,0],\n",
    "[24,0],[22,0],[21,0],[25,0],[24,0],\n",
    "[24,0],[21,0],[26,0],[23,0],[20,0],\n",
    "[23,0],[26,0],[21,0],[21,1],[29,0]])\n",
    "\n",
    "data = pd.DataFrame(array, columns=([\"Age\",\"Gender\"]))\n",
    "\n",
    "# Result shows number of rows and columns\n",
    "data.shape\n"
   ]
  },
  {
   "cell_type": "markdown",
   "metadata": {
    "id": "HLpvmiopDQO3"
   },
   "source": [
    "Based on this data, we can calculate the probability of a randomly selected student to be female. Like in the example with the die, we then divide the number of this outcome (female) with the total number of possible outcomes (total number of students):"
   ]
  },
  {
   "cell_type": "code",
   "execution_count": 4,
   "metadata": {
    "colab": {
     "base_uri": "https://localhost:8080/"
    },
    "executionInfo": {
     "elapsed": 493,
     "status": "ok",
     "timestamp": 1620474100890,
     "user": {
      "displayName": "Prithvi Kantan",
      "photoUrl": "https://lh3.googleusercontent.com/a-/AOh14GiCLUP5h_S53ydSDrgq_SLOZBd5_3wFs87fFb5XQA=s64",
      "userId": "18111691564717832004"
     },
     "user_tz": -120
    },
    "id": "3Fx0GKNoDQO4",
    "outputId": "82f4e5bc-c943-4e19-de05-17f26a581f4e"
   },
   "outputs": [
    {
     "name": "stdout",
     "output_type": "stream",
     "text": [
      "0.07894736842105263\n"
     ]
    }
   ],
   "source": [
    "# Calculate how many females there are in the sample\n",
    "fem=sum(data.iloc[:,1]>0)\n",
    "\n",
    "# Divide by the total number of observations\n",
    "p_fem=fem/data.shape[0]\n",
    "print(p_fem)"
   ]
  },
  {
   "cell_type": "markdown",
   "metadata": {
    "id": "s46oGdenDQO4"
   },
   "source": [
    "### Try out 1:\n",
    "What is the probability of randomly picking a student from the group that is older than 25? \n"
   ]
  },
  {
   "cell_type": "code",
   "execution_count": 5,
   "metadata": {
    "executionInfo": {
     "elapsed": 506,
     "status": "ok",
     "timestamp": 1620474104718,
     "user": {
      "displayName": "Prithvi Kantan",
      "photoUrl": "https://lh3.googleusercontent.com/a-/AOh14GiCLUP5h_S53ydSDrgq_SLOZBd5_3wFs87fFb5XQA=s64",
      "userId": "18111691564717832004"
     },
     "user_tz": -120
    },
    "id": "E6rzcXQbDQO4"
   },
   "outputs": [],
   "source": [
    "# Start by finding the number of ages above 25 \n",
    "over25 = data.iloc[:,0] > 25\n",
    "\n",
    "# Divide by total number of observations\n",
    "# p_over25 = ........\n",
    "# print(p_over25)\n"
   ]
  },
  {
   "cell_type": "markdown",
   "metadata": {
    "id": "YBQ0itRTDQO5"
   },
   "source": [
    "<a id= 'Hypothesis'> </a>"
   ]
  },
  {
   "cell_type": "markdown",
   "metadata": {
    "id": "vii8xiKEDQO5"
   },
   "source": [
    "## 2. From Probability to Hypothesis testing\n",
    "\n",
    "While descriptive statistics is useful to summarize and present data, inferential statistics provides systems and techniques that allow us to make good decisions and accurate *predictions* based on data. We can use it to model patterns of data and make inferences about the population studied. That is, without having the whole population, we can still use these tools to predict something about it and test these predictions. \n",
    "\n",
    "In research, we use this for testing of hypotheses. A hypothesis is a prediction (often based on theory or earlier studies). In order for it to be a good hypothesis, it should be possible to falsify it. \n",
    "\n",
    "The confirmation or rejection of a hypothesis is based on the probability of an outcome. And the probability is linked to the frequency distribution of a population. "
   ]
  },
  {
   "cell_type": "markdown",
   "metadata": {
    "id": "ePw6V7hEDQO5"
   },
   "source": [
    "Many types of data quantities (e.g. heights) are normally distributed. Meaning that the frequencies of different heights form a symmetric, bell shaped (Gaussian) curve (as we have seen in an earlier chapter). The normal distribution is commonly found in nature, and is also conveniently described by the mean and standard deviation. Having a common, and well-defined distribution makes it possible to calculate probabilities of obtaining a particular value. \n",
    "\n",
    "If we have normally distributed data, we can calculate the probability of obtaining a score in a specific range, or the likelihood of a randomly\n",
    "drawn score being part of the natural variation of the distribution. That is: if we know the mean and standard deviation of the population, we can\n",
    "say how likely a score is to belong to that population."
   ]
  },
  {
   "cell_type": "markdown",
   "metadata": {
    "id": "N-jNlyzqDQO6"
   },
   "source": [
    "<a id= 'Heights'> </a>"
   ]
  },
  {
   "cell_type": "markdown",
   "metadata": {
    "id": "nPjUB-2aDQO6"
   },
   "source": [
    "### 2.1 A practical example: heights\n",
    "\n",
    "Let us return to the example of heights. According to \n",
    "https://ourworldindata.org/human-height#what-explains-changes-and-differences-in-human-height\n",
    "the mean male height in Denmark was 181.39 cm in 1996, and among the taller ones in the world. \n",
    "We can compare this to the overall mean of a larger part of the world's population as illustrated in this graph: \n",
    "\n",
    "<img src=\"https://github.com/sofiadahl/Design_and_Analysis_of_Experiments/blob/main/Heightdistribution.png?raw=1\" width=\"800\">\n",
    "https://ourworldindata.org/human-height#height-is-normally-distributed\n",
    "\n",
    "\n",
    "Let us plot the corresponding figure, and mark the average Dane height."
   ]
  },
  {
   "cell_type": "code",
   "execution_count": 6,
   "metadata": {
    "colab": {
     "base_uri": "https://localhost:8080/",
     "height": 265
    },
    "executionInfo": {
     "elapsed": 814,
     "status": "ok",
     "timestamp": 1620474146125,
     "user": {
      "displayName": "Prithvi Kantan",
      "photoUrl": "https://lh3.googleusercontent.com/a-/AOh14GiCLUP5h_S53ydSDrgq_SLOZBd5_3wFs87fFb5XQA=s64",
      "userId": "18111691564717832004"
     },
     "user_tz": -120
    },
    "id": "SESxgigKDQO6",
    "outputId": "99fb2b7c-6da9-49a2-cd3b-7c0789067aa4"
   },
   "outputs": [
    {
     "data": {
      "image/png": "[encoded data removed]",
      "text/plain": [
       "<Figure size 432x288 with 1 Axes>"
      ]
     },
     "metadata": {
      "needs_background": "light"
     },
     "output_type": "display_data"
    }
   ],
   "source": [
    "# Plot a normal distribution of heights with mean and standard deviation corresponding to the figure above\n",
    "\n",
    "# Generate an x-vector with a range of heights in cm and 1 mm intervals\n",
    "cm = np.arange(130, 230, 0.1)\n",
    "\n",
    "# From figure (in normal distributions median, mean and mode are the same)\n",
    "muM = 178.4 \n",
    "# From the figure we also get the height one standard deviation away from the mean \n",
    "# From this, the standard deviation for males is\n",
    "sigmaM = (186 - muM) \n",
    "\n",
    "# Rather than typing the full equation for the normal distribution (as we did in earlier chapters), \n",
    "# we can use functions to get its probability density function.\n",
    "# For example norm in this library\n",
    "from scipy.stats import norm\n",
    "\n",
    "# Here loc refers to mean, and scale to standard deviation\n",
    "pdf = norm.pdf(cm , loc = muM, scale = sigmaM) \n",
    "\n",
    "plt.plot(cm,pdf)\n",
    "\n",
    "plt.axvline(muM, 0, 1) #plots the mean value as vertical line from 0 to 1\n",
    "plt.axvline(181, 0, 1, c='orange') #plot the average male Dane height\n",
    "plt.show()\n"
   ]
  },
  {
   "cell_type": "markdown",
   "metadata": {
    "id": "l5Ew3_RIDQO7"
   },
   "source": [
    "The average male Dane height is slightly greater than the average male height in the above figure. From all these males, what is the probability to randomly pick a male who is 181 cm or taller?\n",
    "\n",
    "Since the data is normally distributed, we do not need to have exact information about all males to answer this. **We can estimate the probability from the area under the Gaussian curve that interests us.** \n",
    "\n",
    "In the plot above, we used a probability density function, where the occurances are normalized. The total area under a standardized normal distribution is 1 and represents the probability of ALL male heights. \n",
    "\n",
    "Thus, the portion of the curve from 181 cm to the right tail corresponds to the probability of a male being 181 cm or taller."
   ]
  },
  {
   "cell_type": "code",
   "execution_count": 15,
   "metadata": {
    "colab": {
     "base_uri": "https://localhost:8080/"
    },
    "executionInfo": {
     "elapsed": 862,
     "status": "ok",
     "timestamp": 1620474115641,
     "user": {
      "displayName": "Prithvi Kantan",
      "photoUrl": "https://lh3.googleusercontent.com/a-/AOh14GiCLUP5h_S53ydSDrgq_SLOZBd5_3wFs87fFb5XQA=s64",
      "userId": "18111691564717832004"
     },
     "user_tz": -120
    },
    "id": "c1C6vUnxDQO7",
    "outputId": "7ceb45b4-15f0-42e4-e3f2-78beef69a779"
   },
   "outputs": [
    {
     "name": "stdout",
     "output_type": "stream",
     "text": [
      "p=\n"
     ]
    },
    {
     "data": {
      "text/plain": [
       "0.3661358383738287"
      ]
     },
     "execution_count": 15,
     "metadata": {},
     "output_type": "execute_result"
    }
   ],
   "source": [
    "# The cumulative distribution function of norm gives the area up until the given value (in this case 181 cm)\n",
    "norm(loc = muM, scale = sigmaM).cdf(181)\n",
    "\n",
    "print(\"p=\")\n",
    "# We get the probability of 181 cm or higher by subtracting the above from 1 (the probability of all heights)  \n",
    "1- norm(loc = muM, scale = sigmaM).cdf(181)\n"
   ]
  },
  {
   "cell_type": "markdown",
   "metadata": {
    "id": "wbBvoJRUDQO7"
   },
   "source": [
    "So if we randomly select one male, the probability is close to 37% that he is 181 cm or taller."
   ]
  },
  {
   "cell_type": "markdown",
   "metadata": {
    "id": "DotfuEnvDQO8"
   },
   "source": [
    "Now we draw not just one person, but a *sample* of five persons and measure their heights: 180, 190, 188, 194 and 197 cm. "
   ]
  },
  {
   "cell_type": "code",
   "execution_count": 11,
   "metadata": {
    "colab": {
     "base_uri": "https://localhost:8080/",
     "height": 284
    },
    "executionInfo": {
     "elapsed": 500,
     "status": "ok",
     "timestamp": 1620474116960,
     "user": {
      "displayName": "Prithvi Kantan",
      "photoUrl": "https://lh3.googleusercontent.com/a-/AOh14GiCLUP5h_S53ydSDrgq_SLOZBd5_3wFs87fFb5XQA=s64",
      "userId": "18111691564717832004"
     },
     "user_tz": -120
    },
    "id": "k0A28YWoDQO8",
    "outputId": "ca2daa3a-6c44-4486-f103-f86f84fda7ba"
   },
   "outputs": [
    {
     "data": {
      "text/html": [
       "<div>\n",
       "<style scoped>\n",
       "    .dataframe tbody tr th:only-of-type {\n",
       "        vertical-align: middle;\n",
       "    }\n",
       "\n",
       "    .dataframe tbody tr th {\n",
       "        vertical-align: top;\n",
       "    }\n",
       "\n",
       "    .dataframe thead th {\n",
       "        text-align: right;\n",
       "    }\n",
       "</style>\n",
       "<table border=\"1\" class=\"dataframe\">\n",
       "  <thead>\n",
       "    <tr style=\"text-align: right;\">\n",
       "      <th></th>\n",
       "      <th>Height</th>\n",
       "    </tr>\n",
       "  </thead>\n",
       "  <tbody>\n",
       "    <tr>\n",
       "      <th>count</th>\n",
       "      <td>5.000000</td>\n",
       "    </tr>\n",
       "    <tr>\n",
       "      <th>mean</th>\n",
       "      <td>189.800000</td>\n",
       "    </tr>\n",
       "    <tr>\n",
       "      <th>std</th>\n",
       "      <td>6.496153</td>\n",
       "    </tr>\n",
       "    <tr>\n",
       "      <th>min</th>\n",
       "      <td>180.000000</td>\n",
       "    </tr>\n",
       "    <tr>\n",
       "      <th>25%</th>\n",
       "      <td>188.000000</td>\n",
       "    </tr>\n",
       "    <tr>\n",
       "      <th>50%</th>\n",
       "      <td>190.000000</td>\n",
       "    </tr>\n",
       "    <tr>\n",
       "      <th>75%</th>\n",
       "      <td>194.000000</td>\n",
       "    </tr>\n",
       "    <tr>\n",
       "      <th>max</th>\n",
       "      <td>197.000000</td>\n",
       "    </tr>\n",
       "  </tbody>\n",
       "</table>\n",
       "</div>"
      ],
      "text/plain": [
       "           Height\n",
       "count    5.000000\n",
       "mean   189.800000\n",
       "std      6.496153\n",
       "min    180.000000\n",
       "25%    188.000000\n",
       "50%    190.000000\n",
       "75%    194.000000\n",
       "max    197.000000"
      ]
     },
     "execution_count": 11,
     "metadata": {
      "tags": []
     },
     "output_type": "execute_result"
    }
   ],
   "source": [
    "height = pd.DataFrame([180, 190, 188, 194, 197], columns=([\"Height\"]))\n",
    "# We can easily get information about the sample using .describe()\n",
    "height.describe()"
   ]
  },
  {
   "cell_type": "markdown",
   "metadata": {
    "id": "AGAFIT7sDQO8"
   },
   "source": [
    "This sample was collected anonymously, and we do NOT know whether these heights correspond to males or females. But because we know heights are normally distributed, we can say something about the probability that this sample was drawn from male and female distributions respectively."
   ]
  },
  {
   "cell_type": "markdown",
   "metadata": {
    "id": "GYCtQXf5DQO8"
   },
   "source": [
    "### Try out 2:\n",
    "Compute the probability of randomly picking a person that is between 180-197 cm tall among males and females, respectively? "
   ]
  },
  {
   "cell_type": "code",
   "execution_count": 17,
   "metadata": {
    "colab": {
     "base_uri": "https://localhost:8080/"
    },
    "executionInfo": {
     "elapsed": 768,
     "status": "ok",
     "timestamp": 1620474119556,
     "user": {
      "displayName": "Prithvi Kantan",
      "photoUrl": "https://lh3.googleusercontent.com/a-/AOh14GiCLUP5h_S53ydSDrgq_SLOZBd5_3wFs87fFb5XQA=s64",
      "userId": "18111691564717832004"
     },
     "user_tz": -120
    },
    "id": "M4CYRfWpDQO9",
    "outputId": "54dab59a-991d-4b99-cc8d-3df64306a099"
   },
   "outputs": [
    {
     "name": "stdout",
     "output_type": "stream",
     "text": [
      "p_Male=\n",
      "p_Fem= \n"
     ]
    }
   ],
   "source": [
    "# Like before, we can use the data in the figure\n",
    "muF=164.7 # Female mean height from figure\n",
    "sigmaF=(171.8-muF) # Female standard deviation from figure\n",
    "\n",
    "# Then you will need to get the value from the cumulative distribution function\n",
    "# Only this time you do it for two values that then should be subtracted.\n",
    "# For males:\n",
    "norm(loc = muM, scale = sigmaM).cdf(180)\n",
    "norm(loc = muM, scale = sigmaM).cdf(197)\n",
    "\n",
    "print(\"p_Male=\")\n",
    "\n",
    "print(\"p_Fem= \")\n"
   ]
  },
  {
   "cell_type": "markdown",
   "metadata": {
    "id": "GHQ-EaKqDQO9"
   },
   "source": [
    "You should see that, on average, it is much more likely that the sample would come from male persons than females. Still, the probability of randomly drawing females within this range indicates that you are likely to do so more than 2 out of 100 times you draw a sample. \n",
    "\n",
    "So *how different* should the heights be before we can, with some certainity, conclude that it is UNLIKELY to be from the female distribution?"
   ]
  },
  {
   "cell_type": "markdown",
   "metadata": {},
   "source": [
    "<a id= 'Significance'> </a>"
   ]
  },
  {
   "cell_type": "markdown",
   "metadata": {
    "id": "hVpVND_gDQO9"
   },
   "source": [
    "## 3. Significantly different\n",
    "In statistic jargon, we often hear that something is \"significantly different\" from something else. It may sound like something very fixed and certain but that is not really the case, it is still about probability.\n",
    "\n",
    "A result is generally seen as being statistically significant from that predicted by the null hypothesis, when the *probability of obtaining it by random* is lower than a particular criteria. \n",
    "\n",
    "The \"statistical signifcant level\" of 0.05 (5% or 1/20) is a standard used for testing significance. The significance level is used to see if a score belongs to the outer \"tail\" of the normal distribution (at a distance of more than $1.96 * \\sigma $ from the mean). If the score only has a 5% chance or less of occurring, it is considered to be so different from the expected value that the difference is significant.\n",
    "\n",
    "For example, let's say that our sample of heights is so far out in the rightmost tail of the female distribution that the chance of it popping up by chance is less than 5%. Then it would make sense in rejecting the hypothesis that the sample is from (only) females, because it is much more likely that we would get this sample from the male heights distribution. "
   ]
  },
  {
   "cell_type": "markdown",
   "metadata": {
    "id": "GYCtQXf5DQO8"
   },
   "source": [
    "### Try out 3:\n",
    "Return to the probabilities you calculated in Try out 2. Would you say that *one, none or both* probabilities are lower than the 5% significance level?"
   ]
  },
  {
   "cell_type": "markdown",
   "metadata": {},
   "source": [
    "<a id= 'Z-scores'> </a>"
   ]
  },
  {
   "cell_type": "markdown",
   "metadata": {},
   "source": [
    "### 3.1 Z- Scores\n",
    "A straight forward way of quickly testing whether a value is \"far enough out\" is to translate values into z-scores. We get the z-score by \n",
    "- deducting the population mean from each score \n",
    "- divide by the population standard deviation\n",
    "\n",
    "$$z= \\frac{x-\\mu}{\\sigma} $$\n",
    "\n",
    "and this results in a dimensionless number that *reveals how far away from the mean the score is*. That is, just judging from the value, we can say if it is in the \"common\" (bell) or \"unusual\" (tail) part of the distribution. And since the values are standardized we can compare different z-scores as well.\n",
    "\n",
    "Let us return to a randomly selected person with a height of 181 cm. What are the z-scores for the male and female distributions, respectively?"
   ]
  },
  {
   "cell_type": "code",
   "execution_count": 6,
   "metadata": {},
   "outputs": [
    {
     "name": "stdout",
     "output_type": "stream",
     "text": [
      "z-score males: 0.34210526315789425\n",
      "z-score females: 2.295774647887318\n"
     ]
    }
   ],
   "source": [
    "# Our data point\n",
    "x=181\n",
    "\n",
    "# Like before, we take Male and Female population mean and standard deviations from figure \n",
    "muM = 178.4 \n",
    "sigmaM = (186 - muM)\n",
    "\n",
    "# z-score in male distribution of heights\n",
    "z_M=(x-muM)/sigmaM\n",
    "\n",
    "print('z-score males:',z_M)\n",
    "\n",
    "muF=164.7 #female mean height from figure\n",
    "sigmaF=(171.8-muF) #female standard deviation from figure\n",
    "\n",
    "# z-score in female distribution of heights\n",
    "z_F=(x-muF)/sigmaF\n",
    "\n",
    "print('z-score females:',z_F)"
   ]
  },
  {
   "cell_type": "markdown",
   "metadata": {},
   "source": [
    "The z-scores tell us that the same height is only 0.34 standard deviations away from the male mean (so clearly within the main bulk of the distribution of male heights), but 2.29 standard deviations away from the mean of female heights. That is (on average, across all these 20 countries where the data was collected) we are much less likely to meet a female person 181 cm tall. You can enter other heights and see how the z-scores change.\n",
    "\n",
    "We can only really use z-scores if the *true mean and standard deviation are known*. Otherwise we need to estimate them. But hey, we have a good distribution very similar to the normal distribution except that it also compensates for small sample sizes: t-distribution!"
   ]
  },
  {
   "cell_type": "markdown",
   "metadata": {},
   "source": [
    "<a id= 'SingleSampleTtest'> </a>"
   ]
  },
  {
   "cell_type": "markdown",
   "metadata": {},
   "source": [
    "## 4 Single sample t-test \n",
    "In UX testing we might want to compare the results from our sample to a goal or bench mark. Do the ratings of our product show that we meet or exceed the goal set? \n",
    "For instance, the System Usability Scale (SUS) has been used extensively and there are industry averages that we can compare to. That is, we investigate whether usability ratings for our product result in a significantly different score compared to the reported industry average score for similar products.\n",
    "\n",
    "\n",
    "We earlier saw that the t-distribution compensates for smaller sample sizes by having a slightly different shape. The t-statistic is calculated as:\n",
    "\n",
    "$$t= \\frac{\\bar{x}-\\mu}{\\frac{s}{\\sqrt{n}}} $$\n",
    "\n",
    "(You might recognize the standard error of the mean $\\sigma_{\\bar{x}}=\\frac{s}{\\sqrt{n}}$ in in the denominator.)\n",
    "\n",
    "Unlike the z-score, we cannot conclude how far out in the tail this value is, without information about the degrees of freedom. But there are functions that will take care of that job for us. What we need to do, is be careful that we use them right.\n"
   ]
  },
  {
   "cell_type": "markdown",
   "metadata": {},
   "source": [
    "<a id= 'OneTail'> </a>"
   ]
  },
  {
   "cell_type": "markdown",
   "metadata": {},
   "source": [
    "### 4.1 One tail example \n",
    "As an example based on [Sauro & Lewis](https://books.google.dk/books?hl=en&lr=&id=USPfCQAAQBAJ&oi=fnd&pg=PP1&dq=Quantifying+the+User+Experience+Practical+Statistics+for+User+Research&ots=Vy_iZ_dmMj&sig=4VbjNb1uUOsABOLFmGGaqpziuLk&redir_esc=y#v=onepage&q=Quantifying%20the%20User%20Experience%20Practical%20Statistics%20for%20User%20Research&f=false) (Chapter 4, p. 48) we can take the responses from 20 users filling out the System Usability Scale (SUS). We would like to conclude whether the user's mean score is significantly *better* than the industry average SUS score for this product. In other words, did we do better in terms of usability?\n",
    "\n",
    "Asking *\"is it better?\"* rather than *\"is it a significant difference?\"* means this is a directional *ONE TAILED TEST*. That is, we are interested whether the score is far enough out to the *right* tail, but do not really care whether it is in the leftmost tail. That means that our alpha level of significance will refer to an area corresponding to 5% of the total *IN ONE TAIL*. This means, in turn, that the cut-off point (critical value) will move a bit closer to the main bell of the curve, since the 5% will be all on one side.\n",
    "\n",
    "Most researchers discourage doing one-tailed test and there are several reasons for that, but with respect to benchmark comparisons like this example, it does make sense. However, since the functions in several software packages does not automatically support one-tailed tests, one has to know how to deal with the output. "
   ]
  },
  {
   "cell_type": "code",
   "execution_count": 27,
   "metadata": {},
   "outputs": [
    {
     "data": {
      "text/plain": [
       "75.22022542349006"
      ]
     },
     "execution_count": 27,
     "metadata": {},
     "output_type": "execute_result"
    }
   ],
   "source": [
    "# First we generate SUS scores corresponding to the Sauro & Lewis example:\n",
    "\n",
    "mu = 67.0\n",
    "alpha = 0.05\n",
    "\n",
    "# We generate random normally distributed scores with\n",
    "x_mean = 73 # sample mean\n",
    "s = 19 # sample standard deviation\n",
    "n = 20 # sample size\n",
    "\n",
    "# We can do this using a function\n",
    "scores = np.random.normal(x_mean,s,n)\n",
    "\n",
    "# ...but note that these scores are randomly drawn, \n",
    "# and with small sample sizes of course the mean may also vary and not correspond to x_mean:\n",
    "np.mean(scores)\n"
   ]
  },
  {
   "cell_type": "code",
   "execution_count": 28,
   "metadata": {},
   "outputs": [
    {
     "name": "stdout",
     "output_type": "stream",
     "text": [
      "t_two_tailed: 2.09\n",
      "p_two_tailed: 0.05\n"
     ]
    }
   ],
   "source": [
    "# We proceed to test whether this is significantly different (with criteria 0.05) \n",
    "# scipy.stats has a function for one-sample t-test, note that this is *TWO TAILED*\n",
    "t,p = stats.ttest_1samp(scores, mu)\n",
    "\n",
    "# The t-statistic and probability for a *TWO TAILED TEST* \n",
    "print ('t_two_tailed:', round(t,2))\n",
    "print ('p_two_tailed:',round(p,2))\n"
   ]
  },
  {
   "cell_type": "markdown",
   "metadata": {},
   "source": [
    "This output tells us the t-statistic and the probability of randomly getting this mean by chance. \n",
    "If the probability is less than 5%, we say that it is significantly different from the industry average (= population mean). BUT since we are only interested in whether it is better, we can \"put all our eggs\" in that one tail:\n",
    "\n",
    "<img src=\"https://upload.wikimedia.org/wikipedia/en/0/00/P-value_Graph.png\" width=\"400\">\n",
    "\n",
    "...which in effect means dividing our p-value. But we can only do that if the t-statistic is in the right direction (that is > 0). \n"
   ]
  },
  {
   "cell_type": "code",
   "execution_count": 29,
   "metadata": {},
   "outputs": [
    {
     "name": "stdout",
     "output_type": "stream",
     "text": [
      "p/2: 0.025248240090518532\n",
      "Reject Null Hypothesis for greater-than test\n"
     ]
    }
   ],
   "source": [
    "# We explicitly wanted to see whether we *EXCEED* the bench mark (mu) \n",
    "# Since scipy does not provide one-tailed tests (any more) we can adjust by dividing p/2 \n",
    "\n",
    "if (p/2 < alpha) and t > 0:\n",
    "    print ('p/2:',p/2)\n",
    "    print ('Reject Null Hypothesis for greater-than test')\n",
    "\n",
    "# Rejecting the null hypothesis would mean saying that to obtain this value by chance is *unlikely*."
   ]
  },
  {
   "cell_type": "markdown",
   "metadata": {},
   "source": [
    "### Try out 4\n",
    "\n",
    "Now go back, re-generate the scores and see how the p-value (and decision) changes. What can you conclude from this and the alpha level/criteria?"
   ]
  },
  {
   "cell_type": "markdown",
   "metadata": {},
   "source": [
    "<a id= 'SmallSamples'> </a>"
   ]
  },
  {
   "cell_type": "markdown",
   "metadata": {},
   "source": [
    "## 5 Binary Data and Small Samples\n",
    "\n",
    "The previous examples have dealt with continous data. But what about discrete data? \n",
    "\n",
    "Let us say we have a small sample testing our product and we make note wether they all can manage the task they are asked to do using the product. We record whether the users completed the task successfully and this leads to binary discrete data that can take one of two values only (success/failure). \n",
    "We hope to use our data to conclude whether they support that at least 70% of all users can complete the same task. \n",
    "\n",
    "For larger sample sizes, these could be transformed into percentages that would enable us to use t-distribution or even z-score (if the average population completion rate is known). But for small sample sizes this will not give us a correct estimate. \n",
    "\n",
    "As Sauro & Lewis put it our sample size is small when we do not have at least 15 successes and 15 failures in the sample. For usability tests in the lab we often deal with samples smaller than 30 so we need another solution"
   ]
  },
  {
   "cell_type": "markdown",
   "metadata": {
    "id": "16RjC-EhDQO9"
   },
   "source": [
    "<a id= 'Binomial'> </a>"
   ]
  },
  {
   "cell_type": "markdown",
   "metadata": {},
   "source": [
    "### 5.1 Binomial probability\n",
    "\n",
    "The binomial distribution shows the number of a specific outcome in relation to successful outcomes in \n",
    "\n",
    "\n",
    "This is typically demonstrated with coin flips, e.g. the number of k heads in n flips. \n",
    "\n",
    "The binomial distribution gives the probability of obtaining k heads in n flips (or k successes in a sample of n):\n",
    "\n",
    "$$ p(k)= \\frac{n!}{k!(n-k)!}p^x (1-p)^{n-k} $$\n",
    "\n",
    "where $n!$ means \"n factorial\" and stands for $n \\times (n-1)\\times(n-2)\\times ... \\times 2\\times 1$\n",
    "\n",
    "For coin flipping, $p=0.5$ and so we can calculate the probability of getting 4 heads in 5 tosses\n"
   ]
  },
  {
   "cell_type": "code",
   "execution_count": 34,
   "metadata": {},
   "outputs": [
    {
     "name": "stdout",
     "output_type": "stream",
     "text": [
      "0.15624999999999994\n"
     ]
    }
   ],
   "source": [
    "from scipy.stats import binom\n",
    "\n",
    "# print the probability of obtaining 4 heads in 5 tosses\n",
    "print(binom.pmf(k=4,n=5,p=0.5))"
   ]
  },
  {
   "cell_type": "markdown",
   "metadata": {},
   "source": [
    "The binomial distribution is used for discrete binary data (i.e. the outcome can be one of two values only). \n",
    "\n",
    "Even though the distribution itself is discrete and only exist for a specific number of values, the shape of the distribution comes closer and closer to that of a normal distributioon with increasing number of runs. You can try this out for yourself here:\n",
    "\n",
    "https://www.fourmilab.ch/rpkp/experiments/pipeorgan/"
   ]
  },
  {
   "cell_type": "markdown",
   "metadata": {},
   "source": [
    "<a id= 'TaskCompletionSmallSamples'> </a>"
   ]
  },
  {
   "cell_type": "markdown",
   "metadata": {},
   "source": [
    "### 5.2 Task Completion for Small samples\n",
    "\n",
    "We now return to the task completion as this is more relevant for our UX-purposes. \n",
    "\n",
    "With respect to task completion, we can now use the binomial distribution to find the probability of obtaining our observed data with the bench mark (or success criteria) p that at least 70% complete the task.\n",
    " \n",
    "Let us find this probability for our observed data showing 8 out of 9 users successfully completing. \n",
    "\n",
    "- k = 8 (number of users successesfully completing the task)\n",
    "- n = 9 (total number of users in the sample)\n",
    "- p = 0.7 (success criteria)\n",
    "\n",
    "\n",
    "What we want to find here is the probability that *eight or more* in our sample complete the task. We therefore use the binom function to give us the probability for both 8/9 and 9/9 and then we need to add these together.  "
   ]
  },
  {
   "cell_type": "code",
   "execution_count": 42,
   "metadata": {},
   "outputs": [
    {
     "name": "stdout",
     "output_type": "stream",
     "text": [
      "p exceeding 70% success rate: 0.8039967660000003\n"
     ]
    }
   ],
   "source": [
    "\n",
    "# The probability of 8/9 successful completions\n",
    "p_8 = binom.pmf(k=8,n=9,p=0.7)\n",
    "\n",
    "# The probability of 9/9 successful completions\n",
    "p_9 = binom.pmf(k=9,n=9,p=0.7)\n",
    "\n",
    "# We get the probability of exceeding the 70% success goal by subtracting the two added probabilies from 1\n",
    "print('p exceeding 70% success rate:', 1-(p_8+p_9))\n"
   ]
  },
  {
   "cell_type": "markdown",
   "metadata": {
    "id": "uA5S7jGRDQO_"
   },
   "source": [
    "If this was a formative test, this result indicates that the task completion rate is ok and we can allocate resources to other more pressing problems."
   ]
  },
  {
   "cell_type": "markdown",
   "metadata": {},
   "source": [
    "<a id= 'AdjustedWald'> </a>"
   ]
  },
  {
   "cell_type": "markdown",
   "metadata": {},
   "source": [
    "### 6 Adjusted Wald Confidence Intervals\n",
    "\n",
    "Also for discrete binary data it is recommended to add confidence interval to our estimate. For small sample sizes, one should use the Adjusted-Wald where the adjusted probability \n",
    "\n",
    "$$ \\hat{p}_{adj}= \\frac{k+\\frac{1.96^2}{2}}{n+1.96^2}$$\n",
    "\n",
    "is added to the standard Wald formula for confidence intervals\n",
    "\n",
    "$$ \\hat{p}_{adj}\\pm z_{(1-\\frac{\\alpha}{2})} \\sqrt{\\frac{\\hat{p}_{adj}(1-\\hat{p}_{adj})}{n_{adj}}}$$\n",
    "\n",
    "where $n_{adj}=n+1.96^2$\n",
    "\n",
    "Let us take an example with a small sample of users, where 7 out of 10 complete the task. What is the confidence interval for such a success rate?"
   ]
  },
  {
   "cell_type": "code",
   "execution_count": 20,
   "metadata": {
    "id": "myqXTaGZDQPG"
   },
   "outputs": [
    {
     "data": {
      "text/plain": [
       "0.6444919662466767"
      ]
     },
     "execution_count": 20,
     "metadata": {},
     "output_type": "execute_result"
    }
   ],
   "source": [
    "# If 7 of 10 users completed task \n",
    "\n",
    "k=7\n",
    "n=10\n",
    "\n",
    "crit=1.96\n",
    "\n",
    "# We can thus calculate n_adjusted as\n",
    "n_adj= n+(crit ** 2)\n",
    "\n",
    "# and p_adjusted as\n",
    "p_adj= (k+((crit  ** 2)/2))/(n_adj)\n",
    "p_adj\n",
    "\n"
   ]
  },
  {
   "cell_type": "code",
   "execution_count": 90,
   "metadata": {},
   "outputs": [
    {
     "name": "stdout",
     "output_type": "stream",
     "text": [
      "95% upper confidence limit: 0.9\n",
      "95% lower confidence limit: 0.39\n"
     ]
    }
   ],
   "source": [
    "# and then find the upper and lower confidence intervals by entering these\n",
    "\n",
    "Wald_upper=p_adj + crit * np.sqrt((p_adj*(1-p_adj))/n_adj)\n",
    "print('95% upper confidence limit:', round(Wald_upper,2))\n",
    "\n",
    "Wald_lower=p_adj - crit * np.sqrt((p_adj*(1-p_adj))/n_adj)\n",
    "print('95% lower confidence limit:', round(Wald_lower,2))"
   ]
  },
  {
   "cell_type": "markdown",
   "metadata": {},
   "source": [
    "So we can be 95% confident that the true completion rate is somewhere in the interval 39-90%...not very impressive perhaps.\n",
    "\n",
    "BUT perhaps we are too stringent with 95% confidence interval? We are once again interested in the one upper tail of the distribution, so we should adjust this in our confidence level. This means that rather than using 1.96 times the standard error, we now change this to 1.645. Similar to adjusting $\\alpha / 2$ in the examples earlier, we adjust to one tail by settling for 90% confidence. This makes sense, because we do not require the limits to be so far away from the main bell as for the 95% confidence so the distance (measured in numbers of standard errors from the mean) is smaller.\n"
   ]
  },
  {
   "cell_type": "markdown",
   "metadata": {},
   "source": [
    "### Try out 5\n",
    "\n",
    "Copy the code above and changing so that you calculate  90% adjusted Wald confidence intervals \n",
    "for 18 of 20 users completing the task. "
   ]
  },
  {
   "cell_type": "code",
   "execution_count": null,
   "metadata": {},
   "outputs": [],
   "source": []
  }
 ],
 "metadata": {
  "colab": {
   "collapsed_sections": [],
   "name": "UX5_Inferential.ipynb",
   "provenance": [
    {
     "file_id": "https://github.com/sofiadahl/Design_and_Analysis_of_Experiments/blob/main/DAE6_Inferential.ipynb",
     "timestamp": 1620396960985
    }
   ]
  },
  "kernelspec": {
   "display_name": "Python 3",
   "language": "python",
   "name": "python3"
  },
  "language_info": {
   "codemirror_mode": {
    "name": "ipython",
    "version": 3
   },
   "file_extension": ".py",
   "mimetype": "text/x-python",
   "name": "python",
   "nbconvert_exporter": "python",
   "pygments_lexer": "ipython3",
   "version": "3.7.4"
  }
 },
 "nbformat": 4,
 "nbformat_minor": 4
}
