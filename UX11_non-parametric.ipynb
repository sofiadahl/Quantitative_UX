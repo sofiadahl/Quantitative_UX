{
 "cells": [
  {
   "cell_type": "markdown",
   "id": "77265528-ee59-444b-9f3d-bc91b569d9ab",
   "metadata": {},
   "source": [
    "# UX 11 Non-parametric tests\n",
    "\n",
    "Author:\n",
    "- |\n",
    "    Sofia Dahl, sof@create.aau.dk\\\n",
    "    Dept. Architecture, Design and Media Technology, Aalborg University Copenhagen\n",
    "---\n",
    "\n",
    "## Learning goals\n",
    "\n",
    "After working your way through this notebook, you should be able to..\n",
    "- Explain when and why we use non-parametric tests\n",
    "- Perform common non parametric tests:\n",
    "    - Mann-Whitney test\n",
    "    - Wilcoxon rank-sum test\n",
    "    - Wilcoxon signed-rank test\n",
    "    - Kruskal–Wallis test\n",
    "    - Friedman’s ANOVA\n",
    "\n",
    "## Table of Contents\n",
    "\n",
    "- [1. Parametric vs. Non-parametric tests](#Nonpar)\n",
    "- [2. Comparing two groups of scores](#Interval)\n",
    "    - [2.1 Independent samples: Mann-Whitney test](#MannWhitney)\n",
    "    - [2.2 Related samples: Wilcoxon signed-rank test](#Wilcoxon)\n",
    "- [3. More than two conditions](#Moresamples)\n",
    "    - [3.1 Independent groups: Kruskal-Wallis Test](#Kruskal)\n",
    "    - [3.2 Repeated measures: Friedman’s Test](#Friedmans)"
   ]
  },
  {
   "cell_type": "code",
   "execution_count": 1,
   "id": "26530737-c310-47a0-b69e-0f0e75fdb328",
   "metadata": {},
   "outputs": [],
   "source": [
    "%matplotlib inline\n",
    "import numpy as np\n",
    "import pandas as pd\n",
    "import matplotlib.pyplot as plt\n",
    "import scipy.stats as stats\n",
    "import pingouin as pg"
   ]
  },
  {
   "cell_type": "markdown",
   "id": "f47925b3-117c-4986-8921-36aee470e5f1",
   "metadata": {},
   "source": [
    "<a id= 'Nonpar'> </a>"
   ]
  },
  {
   "cell_type": "markdown",
   "id": "191750fd-6fb1-428b-9d8b-d815f57e0253",
   "metadata": {},
   "source": [
    "## 1. Parametric vs. Non-parametric tests\n",
    "Previously we have looked at categorical data and how chi-square tests can be used to compare frequencies in different categories, where the sample size is small. When we cannot calculate proportions/percentages we cannot use parametric tests such as the t-test but chi-square is not parametric. That is, it does not assume, for instance, that the population the data sample is drawn from is normally distributed. \n",
    "\n",
    "While chi-square is used for categorical data we will here go through the non-parametric test alternatives to be used for other types of data. So why do we not just rely on them all the time? Why go through the trouble of checking parametric assumptions such as normality if we can skip straight to a non parametric test? \n",
    "\n",
    "The answer is that parametric tests typically have more statistical power to detect an effect. If you recall from UX6, smaller effects could mean that a less powerful test would miss an existing effect (\n",
    "resulting in a Type II error). That is, given a specific alpha-level, we are more likely to detect a real change with smaller sample sizes when we use parametric tests than when we use non-parametric tests.\n",
    "\n",
    "So there are plenty of reasons for us to want parametric data and to check whether our data fulfill the assumtions to use them. But if these are violated, there are alternatives that can be used.\n",
    "\n",
    "It is difficult to remember what test to use in what situation. Again, flow-charts such as this here below are helpful to find the right non-parametric tests for the type of data you have https://pingouin-stats.org/build/html/guidelines.html#non-parametric\n",
    "\n",
    "![flowchart_non-parametric](https://pingouin-stats.org/build/html/_images/flowchart_nonparametric.svg)\n"
   ]
  },
  {
   "cell_type": "markdown",
   "id": "0e86ac7a-e8fc-461c-9b32-d4ff109a2554",
   "metadata": {
    "id": "I5xQCab0C07G"
   },
   "source": [
    "<a id= 'Interval'> </a>"
   ]
  },
  {
   "cell_type": "markdown",
   "id": "b13aa1df-b6a5-4741-a847-6a97a78bbdd3",
   "metadata": {},
   "source": [
    "## 2. Comparing Two Groups of Scores\n",
    "\n",
    "In many cases we have quantitative data that does not fulfil the assumptions for parametric tests. Perhaps the plan was to run a t-test, but the scores are skewed or variances too different between groups. \n",
    "\n",
    "Rather than relying on the mean and variance as we would for parametric data, the approach is then to *rank* it. Instead of using the actual scores in the data, we arrange them such that the lowest score receive the rank of 1, the next highest score 2, etc. The test statistic is then calculated on these ranks. This also means that we do not have to make any assumptions about the data (with respect to the shape of their distribution for example). In the process we also lose information, and hence these tests are not as powerful at detecting effects as parametric tests. \n"
   ]
  },
  {
   "cell_type": "code",
   "execution_count": 2,
   "id": "f004b6d8-815e-4c54-a510-cbbb0d16dd39",
   "metadata": {},
   "outputs": [
    {
     "data": {
      "image/png": "[encoded data removed]",
      "text/plain": [
       "<Figure size 640x480 with 1 Axes>"
      ]
     },
     "metadata": {},
     "output_type": "display_data"
    }
   ],
   "source": [
    "# Generate two sets of univariate observations with 100 observations\n",
    "N = 100\n",
    "data1 = 5 * np.random.randn(N) + 50\n",
    "data2 = 5 * np.random.randn(N) + 53\n",
    "# Summarize\n",
    "plt.boxplot([data1,data2])\n",
    "plt.show()\n"
   ]
  },
  {
   "cell_type": "markdown",
   "id": "daa6db38-b791-40f2-ad59-c23d5e689b31",
   "metadata": {},
   "source": [
    "<a id= 'MannWhitney'> </a>"
   ]
  },
  {
   "cell_type": "markdown",
   "id": "8e129d4e-0ef6-4e2f-89e6-e5f78f759f50",
   "metadata": {},
   "source": [
    "### 2.1 Independent Samples: Mann-Whitney Rank-Sum Test\n",
    "The Mann-Whitney Rank-Sum Test compares two independent groups of scores and is the non-parametric equivalent of the independent t-test. \n",
    "\n",
    "The test compares the ranked positions of scores in the two groups. The pingouin function returns the probability that these two samples are from the same distribution (but, again, based on ranks and without assumptions on the shape)."
   ]
  },
  {
   "cell_type": "code",
   "execution_count": 3,
   "id": "738b41ec-c70f-43bd-8ef2-506c60c2afa8",
   "metadata": {},
   "outputs": [
    {
     "data": {
      "text/html": [
       "<div>\n",
       "<style scoped>\n",
       "    .dataframe tbody tr th:only-of-type {\n",
       "        vertical-align: middle;\n",
       "    }\n",
       "\n",
       "    .dataframe tbody tr th {\n",
       "        vertical-align: top;\n",
       "    }\n",
       "\n",
       "    .dataframe thead th {\n",
       "        text-align: right;\n",
       "    }\n",
       "</style>\n",
       "<table border=\"1\" class=\"dataframe\">\n",
       "  <thead>\n",
       "    <tr style=\"text-align: right;\">\n",
       "      <th></th>\n",
       "      <th>U-val</th>\n",
       "      <th>alternative</th>\n",
       "      <th>p-val</th>\n",
       "      <th>RBC</th>\n",
       "      <th>CLES</th>\n",
       "    </tr>\n",
       "  </thead>\n",
       "  <tbody>\n",
       "    <tr>\n",
       "      <th>MWU</th>\n",
       "      <td>3264.0</td>\n",
       "      <td>two-sided</td>\n",
       "      <td>0.000022</td>\n",
       "      <td>-0.3472</td>\n",
       "      <td>0.3264</td>\n",
       "    </tr>\n",
       "  </tbody>\n",
       "</table>\n",
       "</div>"
      ],
      "text/plain": [
       "      U-val alternative     p-val     RBC    CLES\n",
       "MWU  3264.0   two-sided  0.000022 -0.3472  0.3264"
      ]
     },
     "execution_count": 3,
     "metadata": {},
     "output_type": "execute_result"
    }
   ],
   "source": [
    "# Mann-Whitney rank-sum test on data1 and data2\n",
    "#returns table \n",
    "pg.mwu(data1, data2)"
   ]
  },
  {
   "cell_type": "markdown",
   "id": "871855b3-1683-4c8a-8f2e-0e5e90e4aa24",
   "metadata": {},
   "source": [
    "In the table returned by function we can see the statistic (U-val) and probability, as well as two measures of effect size: rank-biserial correlation (RBC) and the common language effect size (CLES).\n",
    "\n",
    "The effect-size for the Mann-Whitney test can also be calculated from the number of observations (N) and the z-score. Check the function notes to see how this is done. "
   ]
  },
  {
   "cell_type": "code",
   "execution_count": 4,
   "id": "ef6de03f-86de-421b-aafa-dcd8bc6f86d9",
   "metadata": {},
   "outputs": [],
   "source": [
    "# Learn more about the functions \n",
    "# help(pg.mwu)\n",
    "#or\n",
    "# help(stats.mannwhitneyu)"
   ]
  },
  {
   "cell_type": "markdown",
   "id": "202d5c79-050d-497f-ad26-7e8f6ad864c7",
   "metadata": {},
   "source": [
    "### Try out 1: \n",
    "Go back up to the generation of data and change N to 30. Redo the Mann-Whitney rank-sum test and compare. "
   ]
  },
  {
   "cell_type": "markdown",
   "id": "7bcfb520-2bb5-4ebe-b09c-cc8dc947e0b8",
   "metadata": {},
   "source": [
    "<a id= 'Wilcoxon'> </a>"
   ]
  },
  {
   "cell_type": "markdown",
   "id": "55fa41d4-1bab-4823-bd41-680d6050c7f5",
   "metadata": {},
   "source": [
    "### 2.2 Related samples: Wilcoxon signed-rank test\n",
    "The Mann-Whitney test is for *independent* samples. If we instead want to compares two related groups of scores we use the Wilcoxon signed rank test.\n",
    "\n",
    "Again, data is ranked and the test examines the difference between the ranks in the two groups. This can be either negative (the 2nd condition rank is smaller than that in the first), positive (the 2nd condition rank is larger than that in the first), or tied (no difference between the ranks in the two conditions)."
   ]
  },
  {
   "cell_type": "markdown",
   "id": "9a8c893f-05b9-44b5-8ebe-ee36a93f9f02",
   "metadata": {},
   "source": [
    "In this example we use data from a known psychological experiment \"Stroop test\" and shows the time (in seconds) each participant needed to label the colours in, where the colours can be either \"congruent\" with the word or \"incongruent\" as here:\n",
    "\n",
    "![stroop-text](https://upload.wikimedia.org/wikipedia/commons/d/dd/Stroop_icon.svg)\n",
    "Grutness at en.wikipediaOwn work, Public domain, via Wikimedia Commons"
   ]
  },
  {
   "cell_type": "code",
   "execution_count": 5,
   "id": "3e1a2707-821e-45c1-884b-d106ce4ecc38",
   "metadata": {},
   "outputs": [
    {
     "data": {
      "image/png": "[encoded data removed]",
      "text/plain": [
       "<Figure size 640x480 with 1 Axes>"
      ]
     },
     "metadata": {},
     "output_type": "display_data"
    }
   ],
   "source": [
    "#Load participant reaction times for congruent and incongruent\n",
    "df= pd.DataFrame([[ 0,12.079,19.278],\n",
    "    [1, 16.791,18.741],\n",
    "    [2, 9.564,21.214],\n",
    "    [3, 8.630,15.687],\n",
    "    [4, 14.669, 22.803],\n",
    "    [5, 12.238, 20.878],\n",
    "    [6, 14.692, 24.572],\n",
    "    [7, 8.987, 17.394],\n",
    "    [8, 9.401, 20.762],\n",
    "    [9, 14.480, 26.282],\n",
    "    [10, 22.328, 24.524],\n",
    "    [11, 15.298, 18.644],\n",
    "    [12, 15.073, 17.510],\n",
    "    [13, 16.929, 20.330],\n",
    "    [14, 18.200, 35.255],\n",
    "    [15, 12.130, 22.158],\n",
    "    [16, 18.495, 25.139],\n",
    "    [17, 10.639, 20.429],\n",
    "    [18, 11.344, 17.425], \n",
    "    [19, 12.369, 34.288],\n",
    "    [20, 12.944, 23.894]], columns=([\"Participant\",\"Congruent\",\"Incongruent\"]))\n",
    "plt.boxplot([df.Congruent,df.Incongruent])\n",
    "plt.show()"
   ]
  },
  {
   "cell_type": "markdown",
   "id": "66e3f7c2-dfd8-4e48-82dc-dd7f29509046",
   "metadata": {},
   "source": [
    "The test has related samples because each participant had both congruent and incongruent stimuli to respond to.\n",
    "Like most reaction time data, the values are likely to be skewed, so for instance a q-q plot will indicate problems with normality."
   ]
  },
  {
   "cell_type": "code",
   "execution_count": 6,
   "id": "1ec8a474-b60e-40a0-baf9-fe3827f84202",
   "metadata": {},
   "outputs": [
    {
     "data": {
      "image/png": "[encoded data removed]",
      "text/plain": [
       "<Figure size 640x480 with 1 Axes>"
      ]
     },
     "metadata": {},
     "output_type": "display_data"
    }
   ],
   "source": [
    "# Plot q-q plot\n",
    "stats.probplot(df.Incongruent, plot=plt);\n",
    "\n",
    "plt.show()"
   ]
  },
  {
   "cell_type": "markdown",
   "id": "0eaa1671-0eef-406e-8d55-29b84ae3ac2f",
   "metadata": {},
   "source": [
    "We can use the Wilcoxon signed rank test to test the hypothesis that two related samples come from the same distribution. Similar to the related t-test, it checks whether differences between scores (reaction times) are different from zero."
   ]
  },
  {
   "cell_type": "code",
   "execution_count": 7,
   "id": "4d7a470f-d8c4-4ac6-b25a-095081f70608",
   "metadata": {},
   "outputs": [
    {
     "data": {
      "text/html": [
       "<div>\n",
       "<style scoped>\n",
       "    .dataframe tbody tr th:only-of-type {\n",
       "        vertical-align: middle;\n",
       "    }\n",
       "\n",
       "    .dataframe tbody tr th {\n",
       "        vertical-align: top;\n",
       "    }\n",
       "\n",
       "    .dataframe thead th {\n",
       "        text-align: right;\n",
       "    }\n",
       "</style>\n",
       "<table border=\"1\" class=\"dataframe\">\n",
       "  <thead>\n",
       "    <tr style=\"text-align: right;\">\n",
       "      <th></th>\n",
       "      <th>W-val</th>\n",
       "      <th>alternative</th>\n",
       "      <th>p-val</th>\n",
       "      <th>RBC</th>\n",
       "      <th>CLES</th>\n",
       "    </tr>\n",
       "  </thead>\n",
       "  <tbody>\n",
       "    <tr>\n",
       "      <th>Wilcoxon</th>\n",
       "      <td>0.0</td>\n",
       "      <td>two-sided</td>\n",
       "      <td>9.536743e-07</td>\n",
       "      <td>-1.0</td>\n",
       "      <td>0.052154</td>\n",
       "    </tr>\n",
       "  </tbody>\n",
       "</table>\n",
       "</div>"
      ],
      "text/plain": [
       "          W-val alternative         p-val  RBC      CLES\n",
       "Wilcoxon    0.0   two-sided  9.536743e-07 -1.0  0.052154"
      ]
     },
     "execution_count": 7,
     "metadata": {},
     "output_type": "execute_result"
    }
   ],
   "source": [
    "# Perform Wilcoxon test (from pingouin) on the difference between conditions\n",
    "pg.wilcoxon(df.Congruent,df.Incongruent)"
   ]
  },
  {
   "cell_type": "markdown",
   "id": "424ea5bc-a0ad-4459-ac66-5c388f9043e0",
   "metadata": {},
   "source": [
    "Similar to the Mann-Whitney test, we get a table with statistic (W-val), probability (p-val) and two measures of effect size (rank-biserial correlation RBC and common language effect size CLES)\n",
    "\n",
    "The resulting p-value shows that it is highly unlikely that the two sets of scores would come from the same distribution. So the test confirms what might be guessed from the plot: it takes considerably longer to read the colour in the incongruent condition. \n"
   ]
  },
  {
   "cell_type": "markdown",
   "id": "8a830a68-2266-4476-9f43-aab7b4848ee4",
   "metadata": {},
   "source": [
    "<a id= 'Moresamples'> </a>"
   ]
  },
  {
   "cell_type": "markdown",
   "id": "c819614a-303e-44d0-aaec-03fbd30f007d",
   "metadata": {},
   "source": [
    "\n",
    "## 3 More than Two Groups\n",
    "\n",
    "As in the parametric case, we should avoid multiple comparisons when we have more than two samples or conditions. So just as we use ANOVA to examine main effects for groups when we have more than two conditions, we use the non-parametric equivalents when the parametric assumptions are not fulfilled.\n",
    "\n",
    "We can generate some data to demonstrate this."
   ]
  },
  {
   "cell_type": "code",
   "execution_count": 8,
   "id": "d953d51d-4bbc-4494-8512-fb53aecdbb9e",
   "metadata": {},
   "outputs": [
    {
     "data": {
      "text/html": [
       "<div>\n",
       "<style scoped>\n",
       "    .dataframe tbody tr th:only-of-type {\n",
       "        vertical-align: middle;\n",
       "    }\n",
       "\n",
       "    .dataframe tbody tr th {\n",
       "        vertical-align: top;\n",
       "    }\n",
       "\n",
       "    .dataframe thead th {\n",
       "        text-align: right;\n",
       "    }\n",
       "</style>\n",
       "<table border=\"1\" class=\"dataframe\">\n",
       "  <thead>\n",
       "    <tr style=\"text-align: right;\">\n",
       "      <th></th>\n",
       "      <th>A</th>\n",
       "      <th>B</th>\n",
       "      <th>C</th>\n",
       "    </tr>\n",
       "  </thead>\n",
       "  <tbody>\n",
       "    <tr>\n",
       "      <th>0</th>\n",
       "      <td>54.743140</td>\n",
       "      <td>46.407976</td>\n",
       "      <td>56.655698</td>\n",
       "    </tr>\n",
       "    <tr>\n",
       "      <th>1</th>\n",
       "      <td>57.574112</td>\n",
       "      <td>54.254761</td>\n",
       "      <td>54.993255</td>\n",
       "    </tr>\n",
       "    <tr>\n",
       "      <th>2</th>\n",
       "      <td>43.846065</td>\n",
       "      <td>41.777707</td>\n",
       "      <td>51.137331</td>\n",
       "    </tr>\n",
       "    <tr>\n",
       "      <th>3</th>\n",
       "      <td>50.548049</td>\n",
       "      <td>53.796151</td>\n",
       "      <td>58.033631</td>\n",
       "    </tr>\n",
       "    <tr>\n",
       "      <th>4</th>\n",
       "      <td>50.588226</td>\n",
       "      <td>60.153266</td>\n",
       "      <td>51.265550</td>\n",
       "    </tr>\n",
       "  </tbody>\n",
       "</table>\n",
       "</div>"
      ],
      "text/plain": [
       "           A          B          C\n",
       "0  54.743140  46.407976  56.655698\n",
       "1  57.574112  54.254761  54.993255\n",
       "2  43.846065  41.777707  51.137331\n",
       "3  50.548049  53.796151  58.033631\n",
       "4  50.588226  60.153266  51.265550"
      ]
     },
     "execution_count": 8,
     "metadata": {},
     "output_type": "execute_result"
    }
   ],
   "source": [
    "data_array1 = np.array([np.random.randn(100)*5 + 50, np.random.randn(100)*5 + 50, np.random.randn(100)*5 + 54])\n",
    "\n",
    "df=pd.DataFrame(data_array1.T, columns=([\"A\",\"B\",\"C\"]))\n",
    "df.head()\n"
   ]
  },
  {
   "cell_type": "markdown",
   "id": "9d9d4f5c-7161-44ae-840b-146221cf2331",
   "metadata": {},
   "source": [
    "Note that the data frame is in wide format. We change it to long format to use the pingouin function kruskal."
   ]
  },
  {
   "cell_type": "code",
   "execution_count": 9,
   "id": "f6443c5b-b3b5-4e0b-ba18-da4c4051916d",
   "metadata": {},
   "outputs": [
    {
     "data": {
      "text/plain": [
       "(300, 2)"
      ]
     },
     "execution_count": 9,
     "metadata": {},
     "output_type": "execute_result"
    }
   ],
   "source": [
    "#Our data is in wide format, but we need to change it to long format to make use of the pingouin function \n",
    "longdf=df.melt( value_vars=['A', 'B', 'C'], var_name='Condition', value_name='Score')\n",
    "\n",
    "#Check size of dataframe, instead of 100 rows, you should now have 100x3 rows\n",
    "longdf.shape"
   ]
  },
  {
   "cell_type": "markdown",
   "id": "78492f20-e23d-4d74-849f-3f845edb9ef6",
   "metadata": {},
   "source": [
    "<a id= 'Kruskal'> </a>"
   ]
  },
  {
   "cell_type": "markdown",
   "id": "3964bdaf-9226-4d46-bf84-deb55054e238",
   "metadata": {},
   "source": [
    "### 3.1  Independent Groups: Kruskal-Wallis Test\n",
    "\n",
    "In case we have more than two independent samples, the Kruskal-Wallis is the non-parametric alternative to one-way independent ANOVA. It tests the hypothesis that the population median of all groups are equal. \n",
    "\n",
    "Similar to the two-group examples above, the test is performed on ranked data. The sample sizes of the different groups can be different, but must not be too small. As always, it is a good idea to check the details of the function beforehand. "
   ]
  },
  {
   "cell_type": "code",
   "execution_count": 10,
   "id": "14e04c94-a09f-4a56-8bcd-0aaf5814472a",
   "metadata": {},
   "outputs": [
    {
     "data": {
      "text/html": [
       "<div>\n",
       "<style scoped>\n",
       "    .dataframe tbody tr th:only-of-type {\n",
       "        vertical-align: middle;\n",
       "    }\n",
       "\n",
       "    .dataframe tbody tr th {\n",
       "        vertical-align: top;\n",
       "    }\n",
       "\n",
       "    .dataframe thead th {\n",
       "        text-align: right;\n",
       "    }\n",
       "</style>\n",
       "<table border=\"1\" class=\"dataframe\">\n",
       "  <thead>\n",
       "    <tr style=\"text-align: right;\">\n",
       "      <th></th>\n",
       "      <th>Source</th>\n",
       "      <th>ddof1</th>\n",
       "      <th>H</th>\n",
       "      <th>p-unc</th>\n",
       "    </tr>\n",
       "  </thead>\n",
       "  <tbody>\n",
       "    <tr>\n",
       "      <th>Kruskal</th>\n",
       "      <td>Condition</td>\n",
       "      <td>2</td>\n",
       "      <td>36.254132</td>\n",
       "      <td>1.341267e-08</td>\n",
       "    </tr>\n",
       "  </tbody>\n",
       "</table>\n",
       "</div>"
      ],
      "text/plain": [
       "            Source  ddof1          H         p-unc\n",
       "Kruskal  Condition      2  36.254132  1.341267e-08"
      ]
     },
     "execution_count": 10,
     "metadata": {},
     "output_type": "execute_result"
    }
   ],
   "source": [
    "# kruskal from pingouin\n",
    "pg.kruskal(data=longdf, dv='Score', between='Condition')"
   ]
  },
  {
   "cell_type": "markdown",
   "id": "94c0ef20-93fc-4e8b-a628-529fe2b7c38b",
   "metadata": {},
   "source": [
    "Out from the function we get a table with degrees of freedom (ddof1), the Kruskal-Wallis H statistic and the p-value. \n",
    "\n",
    "From the result we can conclude that at least one of the groups has a median that is significantly different from the other two. To check which group, we need to follow up with pairwise tests (just like normal ANOVA). In the flow chart at the top there is a function suggested. Field & Hole (2003) also suggest using Mann-Whitney tests but with Bonferroni correction of the significance level, and being selective about the pairwise comparisons needed. "
   ]
  },
  {
   "cell_type": "markdown",
   "id": "70c1ae7e-f782-4762-a47d-1bec43712162",
   "metadata": {},
   "source": [
    "<a id= 'Friedmans'> </a>"
   ]
  },
  {
   "cell_type": "markdown",
   "id": "64bbd51b-2679-43d7-bd8c-0cff18b4a815",
   "metadata": {},
   "source": [
    "### 3.2 Repeated measures: Friedman Test\n",
    "When we have used the same participants in all conditions, the observations are related. The Friedman test compares more than two paired samples and is the non-parametric version of repeated measures ANOVA. \n",
    "\n",
    "The pingouin function can take both wide and long data format, so we will just use the wide data frame we generated above."
   ]
  },
  {
   "cell_type": "code",
   "execution_count": 11,
   "id": "f1983fcd-a4e0-4bd2-b1c5-8ccd343ff493",
   "metadata": {},
   "outputs": [
    {
     "data": {
      "image/png": "[encoded data removed]",
      "text/plain": [
       "<Figure size 640x480 with 1 Axes>"
      ]
     },
     "metadata": {},
     "output_type": "display_data"
    }
   ],
   "source": [
    "plt.boxplot(df)\n",
    "plt.show()"
   ]
  },
  {
   "cell_type": "markdown",
   "id": "7a0f2885-4759-4578-94fc-f57ae2cc455e",
   "metadata": {},
   "source": [
    "Since the data is in wide format, we do not have to specify much in the function call. Check help(pg.friedman) for what parameters to use in long data format."
   ]
  },
  {
   "cell_type": "code",
   "execution_count": 12,
   "id": "682063f8-953a-4340-9309-be7ffff54581",
   "metadata": {},
   "outputs": [
    {
     "data": {
      "text/html": [
       "<div>\n",
       "<style scoped>\n",
       "    .dataframe tbody tr th:only-of-type {\n",
       "        vertical-align: middle;\n",
       "    }\n",
       "\n",
       "    .dataframe tbody tr th {\n",
       "        vertical-align: top;\n",
       "    }\n",
       "\n",
       "    .dataframe thead th {\n",
       "        text-align: right;\n",
       "    }\n",
       "</style>\n",
       "<table border=\"1\" class=\"dataframe\">\n",
       "  <thead>\n",
       "    <tr style=\"text-align: right;\">\n",
       "      <th></th>\n",
       "      <th>Source</th>\n",
       "      <th>W</th>\n",
       "      <th>ddof1</th>\n",
       "      <th>Q</th>\n",
       "      <th>p-unc</th>\n",
       "    </tr>\n",
       "  </thead>\n",
       "  <tbody>\n",
       "    <tr>\n",
       "      <th>Friedman</th>\n",
       "      <td>Within</td>\n",
       "      <td>0.2061</td>\n",
       "      <td>2</td>\n",
       "      <td>41.22</td>\n",
       "      <td>1.119930e-09</td>\n",
       "    </tr>\n",
       "  </tbody>\n",
       "</table>\n",
       "</div>"
      ],
      "text/plain": [
       "          Source       W  ddof1      Q         p-unc\n",
       "Friedman  Within  0.2061      2  41.22  1.119930e-09"
      ]
     },
     "execution_count": 12,
     "metadata": {},
     "output_type": "execute_result"
    }
   ],
   "source": [
    "#Since data is in wide format, we do not have to specify much.\n",
    "pg.friedman(data=df)"
   ]
  },
  {
   "cell_type": "markdown",
   "id": "65c9ac9d-f183-4292-9ea5-2d0381b19970",
   "metadata": {},
   "source": [
    "The function return Kendall's W, which can be used for assessing inter-rater reliability (where 1 is complete agreement), the degrees of freedom, and  Q, which is the Friedman $\\chi^2$ statistic. The probability (p-unc) indicates that at least one of the conditions produce results significantly different than the other two. Similar to the independent Kruskal-Wallis case, we need to follow up with pairwise comparisons to answer the question what condition that is different."
   ]
  },
  {
   "cell_type": "markdown",
   "id": "9bf7efbc-5295-41e7-ae7e-0b8d87b03c77",
   "metadata": {},
   "source": [
    "### Try out 2: \n",
    "Redo the Friedman test using the longdf data frame in the call, specifying the dependent variable and within factor."
   ]
  },
  {
   "cell_type": "code",
   "execution_count": null,
   "id": "4a4ea93a-eade-4336-aaa7-6a7b3f823696",
   "metadata": {},
   "outputs": [],
   "source": []
  }
 ],
 "metadata": {
  "kernelspec": {
   "display_name": "Python 3 (ipykernel)",
   "language": "python",
   "name": "python3"
  },
  "language_info": {
   "codemirror_mode": {
    "name": "ipython",
    "version": 3
   },
   "file_extension": ".py",
   "mimetype": "text/x-python",
   "name": "python",
   "nbconvert_exporter": "python",
   "pygments_lexer": "ipython3",
   "version": "3.12.7"
  }
 },
 "nbformat": 4,
 "nbformat_minor": 5
}
