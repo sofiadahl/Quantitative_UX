{
 "cells": [
  {
   "cell_type": "markdown",
   "id": "08e44e39-c17d-402f-9a8d-22b6c25562a8",
   "metadata": {},
   "source": [
    "# UX 9 Analysis of Variance (ANOVA)\n",
    "\n",
    "author:\n",
    "- |\n",
    "    Sofia Dahl, sof@create.aau.dk\\\n",
    "    Dept. Architecture, Design and Media Technology, Aalborg University Copenhagen\n",
    "---\n",
    "\n",
    "## Learning goals\n",
    "\n",
    "After working your way through this notebook you should be able to..\n",
    "- Explain why one ANOVA is preferred to multiple t-tests\n",
    "- Perform and interpret a one-way ANOVA using available functions\n",
    "- Structure data in long and wide format required\n",
    "- \n",
    "## Table of Contents\n",
    "\n",
    "- [1. Multiple comparisons](#MulitipleComp)\n",
    "    - [1.1. ANOVA](#ANOVA)\n",
    "    - [1.2. Assumptions for using ANOVA](#ANOVAassump)\n",
    "- [2. Independent one-way ANOVA](#IndepANOVA)\n",
    "   - [2.1 Defining model and performing ANOVA](#Definemodel)\n",
    "- [3. Pairwise Contrasts and Reporting Results](#contrasts)\n",
    "- [4. Setting up data](#Settingup)\n"
   ]
  },
  {
   "cell_type": "code",
   "execution_count": 1,
   "id": "8440a776-ba6c-4ceb-acf9-243b3c0eb467",
   "metadata": {},
   "outputs": [
    {
     "name": "stderr",
     "output_type": "stream",
     "text": [
      "Matplotlib is building the font cache; this may take a moment.\n"
     ]
    }
   ],
   "source": [
    "%matplotlib inline\n",
    "import numpy as np\n",
    "import pandas as pd\n",
    "import matplotlib.pyplot as plt\n",
    "import scipy.stats as stats\n",
    "import pingouin as pg"
   ]
  },
  {
   "cell_type": "markdown",
   "id": "4c47de8e-14f1-4b96-a9e1-4e8f96644fd2",
   "metadata": {},
   "source": [
    "<a id= 'MulitipleComp'> </a>"
   ]
  },
  {
   "cell_type": "markdown",
   "id": "a0b39717-5c91-49ee-bbef-9a0ccdd80acd",
   "metadata": {},
   "source": [
    "## 1. Multiple comparisons\n",
    "We frequently have more than two conditions we want to compare. For instance we might want to investigate players'  scores with different settings in a factorial design. This could mean we want to compare obtained scores with 2 settings x 3 levels of players expertise (measured by some standard).\n",
    "\n",
    "Technically, we can compare for effects with pairwise comparisons using t-tests but it is a bad idea. The probability of  making a type I error is 5\\%  ($\\alpha$ =.05) for *each* test. The more comparisons we make, the higher the risk of finding a significant difference purely by chance\n",
    "\n",
    "If three experimental groups have sample means from the same distributions, that is if $\\mu_1$ = $\\mu_2$ =$\\mu_3$, we need to make three pairwise comparisons (1 versus 2, 2 versus 3, and 1 versus 3). The probability  of NO  Type I error is $(0.95)^3=0.86$ ($\\alpha$ =.05). That is, the probability of making *at least* one Type I error when doing these three comparisons is $1-0.86=0.14$, or 14\\%. Much higher! \n",
    "\n",
    "Typically one of two solutions to this problem is used. If multiple t-tests are used, the $\\alpha$-level can be adjusted so that each test is more strictly performed. Typically such a *Bonferroni* correction is used to compensate for the increased probability of Type I errors when doing multiple t-tests. But a better approach is to do ONE test,  an *omnibus test*, that looks for an overall effect, and drop all the pairwise comparisons being the source of the increased Type I error risk. This is what ANOVA does."
   ]
  },
  {
   "cell_type": "markdown",
   "id": "051dfc9c-f362-4426-93f7-2c3a3f37a1ca",
   "metadata": {},
   "source": [
    "### Try out 1:\n",
    "\n",
    "How large probability of making at least one Type 1 error is there for pairwise testing with five experimental groups?"
   ]
  },
  {
   "cell_type": "markdown",
   "id": "62fe9536-b04f-4b03-98a2-ee984b63e27a",
   "metadata": {},
   "source": [
    "<a id= 'ANOVA'> </a>"
   ]
  },
  {
   "cell_type": "markdown",
   "id": "cdea7d01-ff5c-4284-927a-b19cfc45a378",
   "metadata": {},
   "source": [
    "### 1.1. ANOVA\n",
    "\n",
    "A commonly used omnibus test is Analysis of Variance (ANOVA), which includes all categories and factors at once. A very commonly used test is Analysis of Variance (ANOVA). There are many different kinds of ANOVAs, those that are intended for repeated measurements and multiple factors (for instance, there might be several levels of auditory and visual feedback in the example above, or perhaps you would like to include the age and handedness as a factor that might influence player performance). The general principle, however, is to compare the variance between different groups (i.e. conditions or  treatments) with the variance occurring within each group.\n",
    "\n",
    "$$F  =\\frac {variance -between - treatments} {variance - within-  treatments} =\\frac {variance_{explained}} {variance_{unexplained}} $$\n",
    "\n",
    "Hopefully the talk of variance now rings a bell, because again the sum of squares are at the basis of these calculations. In the Inferental chapter we calculated the effect size from the ratio between the model $ SS_M$ and the total $SS_T$ sum of squares. The F statistic is essentially ratio between the explained variance of the model $SS_{M}$ and the residual variance $SS_{Res}$:\n",
    "$$\\frac {SS_{M}} {SS_{Res}}$$\n",
    "\n",
    "\n",
    "The model in the case of ANOVA is a bit more complex in that we typically have more means than two to do the sum of squares for (one for each treatment /group). Because we calculate this for the full model at once, the test itself cannot say if ALL or just ONE of the groups differ significantly. For this we need to make follow-up comparisons that *contrasts* the different groups (just as you would in t-tests). These contrast tests can be *planned* already at the start of the experiment, or *post-hoc*, after the ANOVA has been run. In both cases, precautions againt multiple tests have to be taken, for instance by dividing the significance level by the number of tests done as (Bonferroni correction). \n",
    "\n",
    "So when reporting results from an ANOVA, we would both report the results from the overall test on the full model, but also the results of the follow-up pairwise comparisons. Some software reports these contrasts, perhaps even using different tests. Which ones to report depend a bit. \n"
   ]
  },
  {
   "cell_type": "markdown",
   "id": "908a76ac-3797-427d-a6d2-25bf02c7a4dd",
   "metadata": {},
   "source": [
    "### Try out 2:\n",
    "Consider that you have data from 4 groups like in the code below and that an ANOVA shows a significant effect. How many pairwise comparisons should you plan to detect *which* differences between the groups that causes the overall effect?"
   ]
  },
  {
   "cell_type": "code",
   "execution_count": 2,
   "id": "e10118ba-058d-41fd-aaa4-a516a7cadfc8",
   "metadata": {},
   "outputs": [
    {
     "data": {
      "image/png": "[encoded data removed]",
      "text/plain": [
       "<Figure size 640x480 with 1 Axes>"
      ]
     },
     "metadata": {},
     "output_type": "display_data"
    }
   ],
   "source": [
    "#We generate four randomly drawn samples from  normally distributions \n",
    "\n",
    "K=40 #variable for sample size\n",
    "score1=np.random.normal(0.025,0.25,K)\n",
    "score2=np.random.normal(0.01,0.25,K)\n",
    "score3=np.random.normal(0.3,0.25,K)\n",
    "score4=np.random.normal(0.56,0.25,K)\n",
    "\n",
    "plt.boxplot([score1,score2, score3,score4])\n",
    "plt.show()\n"
   ]
  },
  {
   "cell_type": "markdown",
   "id": "fe19fe84-2718-419e-94a1-ff9095059c77",
   "metadata": {},
   "source": [
    "<a id= 'ANOVAassump'> </a>"
   ]
  },
  {
   "cell_type": "markdown",
   "id": "c2500cea-7368-4a92-85a6-b110b2fed97d",
   "metadata": {},
   "source": [
    "### 1.3 Assumptions for using ANOVA\n",
    "Similar to t-tests, there are some conditions that should be met, if the analysis should show the correct result. Most importantly, the samples must be *representative of the population*.\n",
    "\n",
    "Furthermore data must fulfill the following assumptions for parametric data. \n",
    "That is\n",
    "- Variance should be approximately equal for each group (homogeneity of variance)\n",
    "-  Sampling distributions should be normal for each group (normality)\n",
    "\n",
    "In ANOVA and multiple regression, it is  more the *residuals* (the unexplained variance) that must fulfill these criteria, and some statistic software report the diagnostics for this with the model statistics.  \n",
    "\n",
    "Similar to t-test, we also need to know whether the data points are *related* or *unrelated*. That is, if you have different groups of participants, each testing one condition (e.g. type of controller), the data points are clearly independent observations. For normal ANOVA the samples must be *independent* , that is the scores do not affect each other. \n",
    "\n",
    "If you choose a within-group design, with the same participants in all the groups, several observations will be from the same person and are therefore dependent. You *DO NOT* get the correct result if you attempt to do a normal ANOVA on dependent values. For dependent repeated measures an Repeated Measures ANOVA must be used and in this case, there is an additional assumption of *sphericity*, or that variances of tifferences between condition levels are equal."
   ]
  },
  {
   "cell_type": "markdown",
   "id": "8bb58867-065d-4864-93f4-c264f1f0ad7e",
   "metadata": {},
   "source": [
    "<a id= 'IndepANOVA'> </a>"
   ]
  },
  {
   "cell_type": "markdown",
   "id": "d2694574-efd4-4b17-83d9-10999d958ec2",
   "metadata": {},
   "source": [
    "## 2. Independent one-way ANOVA\n",
    "\n",
    "\n",
    "When comparing two different groups, as in a between groups design, the\n",
    "samples from the two groups should be independent."
   ]
  },
  {
   "cell_type": "markdown",
   "id": "e8de8cda-db62-4c72-9071-13d916865285",
   "metadata": {},
   "source": [
    "Let us take the example of a digital instrument played using different controllers. One group played using standard mouse and keyboard (\"Mouse\"), while two other groups tested other controllers (\"Control1\" and \"Control2\"). Is there a difference in the dependent variable (e.g. their score or rating) depending on the controller used?\n",
    "\n",
    "We can set up the null and alternative hypothesis\n",
    "\n",
    "- H0: There is no significant difference in scores between the different controllers. \n",
    "- H1: There is a significant difference in scores between the different controllers."
   ]
  },
  {
   "cell_type": "code",
   "execution_count": 10,
   "id": "cfd4f23b-7c25-48b6-93c1-160d5b1b64b2",
   "metadata": {},
   "outputs": [
    {
     "data": {
      "image/png": "[encoded data removed]",
      "text/plain": [
       "<Figure size 640x480 with 1 Axes>"
      ]
     },
     "metadata": {},
     "output_type": "display_data"
    }
   ],
   "source": [
    "# Data for different controllers\n",
    "df= pd.DataFrame([[ 13.5, 14.6, 12.7],\n",
    "    [14.6, 15.6, 13.4],\n",
    "    [ 12.7, 13.6, 12.1],\n",
    "    [ 15.5, 16.7, 15.0],\n",
    "    [ 11.1, 12.1, 10.9],\n",
    "    [ 16.4, 17.6, 15.7],\n",
    "    [ 13.2, 14.2, 12.8],\n",
    "    [ 19.3, 19.5, 17.9],\n",
    "    [ 16.7, 17.8, 16.1],\n",
    "    [ 18.4, 19.7, 17.9]], columns=([\"Mouse\",\"Control1\",\"Control2\"]), index=[1,2,3,4,5,6,7,8,9,10])\n",
    "\n",
    "# We first look at the data \n",
    "plt.boxplot([df.Mouse,df.Control1,df.Control2])\n",
    "plt.show()"
   ]
  },
  {
   "cell_type": "markdown",
   "id": "e46590a7-6bd7-4be0-821e-970397f34dff",
   "metadata": {},
   "source": [
    "We start by testing the assumptions for ANOVA. The box plot looks promising with respect to equal variance, but we should do the Levene variance test nonetheless. We also use Shapiro-Wilks test to check for normality."
   ]
  },
  {
   "cell_type": "code",
   "execution_count": 11,
   "id": "feb54ddb-b0a8-4f7e-9e03-69869718ff38",
   "metadata": {},
   "outputs": [
    {
     "data": {
      "text/plain": [
       "LeveneResult(statistic=0.005508899933893261, pvalue=0.9945073637505352)"
      ]
     },
     "execution_count": 11,
     "metadata": {},
     "output_type": "execute_result"
    }
   ],
   "source": [
    "# The Levene variance test tests the null hypothesis that \n",
    "# all samples come from populations with equal variances\n",
    "stats.levene(df.Mouse,df.Control1,df.Control2)"
   ]
  },
  {
   "cell_type": "code",
   "execution_count": 12,
   "id": "4aa802d0-ae4f-4579-aaf4-c41101abaab4",
   "metadata": {},
   "outputs": [
    {
     "data": {
      "text/plain": [
       "(ShapiroResult(statistic=0.9758614502079733, pvalue=0.9392499148746949),\n",
       " ShapiroResult(statistic=0.9599998483116511, pvalue=0.7858707323505119),\n",
       " ShapiroResult(statistic=0.936767066219863, pvalue=0.5176317548751614))"
      ]
     },
     "execution_count": 12,
     "metadata": {},
     "output_type": "execute_result"
    }
   ],
   "source": [
    "#To test the null hypothesis that the data was drawn from a normal distribution\n",
    "#we start with Shapiro-Wilks test: \n",
    "stats.shapiro(df.Mouse), stats.shapiro(df.Control1), stats.shapiro(df.Control2) "
   ]
  },
  {
   "cell_type": "markdown",
   "id": "6c03c5ca-60f1-46d7-884f-aa80ce608416",
   "metadata": {},
   "source": [
    "None of the above tests indicate that we should reject the null hypothesis as they \n",
    "show p-values > 0.05. Which is good for since we want to use a parametric test (ANOVA). It seems promising to proceed to the actual test.\n"
   ]
  },
  {
   "cell_type": "markdown",
   "id": "11084bfc-6f6a-4370-985c-12339f6ceec1",
   "metadata": {},
   "source": [
    "<a id= 'Definemodel'> </a>"
   ]
  },
  {
   "cell_type": "markdown",
   "id": "6b4d463b-ac91-4255-8975-d48a56ed808b",
   "metadata": {},
   "source": [
    "### 2.1 Defining model and performing ANOVA\n",
    "\n",
    "We are now ready to define the model we want to test as our dependent variable \"Score\" and the independent \"Controller\". \n",
    "\n",
    "For the one-way independent ANOVA we can enter the dependent and independent variable in the function and get the F-statistic and probability out:"
   ]
  },
  {
   "cell_type": "code",
   "execution_count": 13,
   "id": "5d8d50fb-b088-4a44-89f2-90621347a0bf",
   "metadata": {},
   "outputs": [
    {
     "name": "stdout",
     "output_type": "stream",
     "text": [
      "F statistic = 1.128 and probability p = 0.339\n"
     ]
    }
   ],
   "source": [
    "F, p = stats.f_oneway(df.Mouse,df.Control1,df.Control2)\n",
    "print('F statistic = {:5.3f} and probability p = {:5.3f}'.format(F, p)) "
   ]
  },
  {
   "cell_type": "markdown",
   "id": "0658602f-3f38-4742-89d3-4e679e024ea2",
   "metadata": {},
   "source": [
    "Based on this result, we retain the null hypothesis, because the probability of obtaining our results by random is not below our criterion ($\\alpha <0.05$) \n",
    "\n",
    "To report the result of an ANOVA we will need the F-statistic, probability and also the degrees of freedom. Unlike the t-test, we now have several means that are estimated and recuding our degrees of freedom, and we report two kinds: One for the effect of the model ($df_M$) and  one for the residuals of the model ($df_R$). \n",
    "\n",
    "\n",
    "$df_M$, calculated as the number of factors/groups k - 1 \n",
    "$df_R$, calculated as the number of observations N -k\n",
    "\n",
    "In our example, we have 3 controllers,  which leads to $df_M=3-1=2$\n",
    "and a total of 30 observations (10 for each controller), which yields $df_R=30-3=27$.\n"
   ]
  },
  {
   "cell_type": "markdown",
   "id": "6939f960-f38b-4cc6-a2a1-9916300f8d67",
   "metadata": {},
   "source": [
    "### Try out 1: \n",
    "Add a fourth group by copying the data of Controller 1 and modifying by reducing 3.5 overall. Would you say from the box plot, that it is likely to be an overall difference between groups now?"
   ]
  },
  {
   "cell_type": "code",
   "execution_count": 14,
   "id": "9be5f625-ced1-4ce7-b7cb-a5329a73f8af",
   "metadata": {},
   "outputs": [
    {
     "data": {
      "image/png": "[encoded data removed]",
      "text/plain": [
       "<Figure size 640x480 with 1 Axes>"
      ]
     },
     "metadata": {},
     "output_type": "display_data"
    }
   ],
   "source": [
    "#adding fourth controller\n",
    "data['Controller3']=data.Control1-3.5\n",
    "\n",
    "# plot the data \n",
    "plt.boxplot([data.Mouse,data.Control1,data.Control2,data.Controller3])\n",
    "plt.show()"
   ]
  },
  {
   "cell_type": "markdown",
   "id": "aa12dfed-e8f4-4a5c-8da4-dc6315dd39f1",
   "metadata": {},
   "source": [
    "### Try out 2: \n",
    "Redo the one-way anova analysis with the new controller. Would you still retain the null hypothesis?"
   ]
  },
  {
   "cell_type": "code",
   "execution_count": null,
   "id": "d4573ca1-7a4d-4461-8753-d20aef3e1d2a",
   "metadata": {},
   "outputs": [],
   "source": [
    "#F, p = stats.f_oneway(data.Mouse,data.Control1,data.Control2,data.Controller3)\n"
   ]
  },
  {
   "cell_type": "markdown",
   "id": "713d2f2f-ee15-4edb-9286-345b251a3baa",
   "metadata": {},
   "source": [
    "Even if the anova shows a *main effect* we do not know WHICH of the controllers that actually cause the difference in scores. A bit further on we will look do some paired comparisons, but first let's discuss something else that also is important. "
   ]
  },
  {
   "cell_type": "markdown",
   "id": "016b8883-c1b2-4659-863c-31a7e6049ee8",
   "metadata": {},
   "source": [
    "### 2.2. Effect size One-way Independent ANOVA\n",
    "\n",
    "Like in for t-tests or correlation, it is good practice to investigate and report the effect size. \n",
    "\n",
    "It is possible to calculate $r^2$ (and then r) from the sum of squares \n",
    "\n",
    "$$r^2 =\\frac {SS_{M}} {SS_{T}}$$\n",
    "\n",
    "Where $SS_{M}$ is the sum of squares for the model and $SS_{T}$ is the total sum of squares.\n",
    "\n",
    "But as explained in Fields & Hole, there are more accurate measures of effect size. For instance $\\omega$ based on the mean squared like this\n",
    "\n",
    "$$\\omega^2 =\\frac {MS_{M}-MS_{R}} {MS_{M}+((n-1)\\times MS_{R})}$$\n",
    "\n",
    "where $MS_{M}$ is the mean squares of the model, $MS_{R}$ is the mean residual squares, and n is the number of participants/observations in a group.\n",
    "\n",
    "Both Sum of squares and Mean squares are reported by a lot of statistical software (e.g. SPSS, R). Another common measure of effects size also typically reported in statistics is *eta squared* $\\eta^2$ or *partial eta squared*.\n",
    "\n",
    "These measures are not readily available from the f_oneway output so we would have to calculate them separately. But now that you have the basis of what an ANOVA is, let's use the Pinguin package to do the analysis."
   ]
  },
  {
   "cell_type": "markdown",
   "id": "1f976a2e-5257-47fa-afae-86dffe73acf0",
   "metadata": {},
   "source": [
    "## 3. Pairwise Contrasts and Reporting Results\n",
    "\n",
    "As mentioned above, our task is not done with the ANOVA output table. Any main effect should be investigated to sort out *which* of the groups that contributed toward it. In order to answer this qustion, one perform tests to find out which differences that contributed to the main effect. \n",
    "Here we will not go into details about what tests that are best to use where. For pairwise *post-hoc tests* (that is, the contrasts were not planned before doing the ANOVA) the more commonly used ones are Bonferroni and Tukey HSD test.\n",
    "\n",
    "Now is a good time to introduce Pinguin package because then we get more functionality to check assumptions and calculate diffrent kinds of analysis. You find information on how to install Pinguin and what it can do https://pingouin-stats.org/build/html/index.html# For simplicity, we will use their example data:"
   ]
  },
  {
   "cell_type": "code",
   "execution_count": 25,
   "id": "0a1e5326-d489-4eff-a396-e82f57e239c6",
   "metadata": {},
   "outputs": [
    {
     "data": {
      "text/html": [
       "<div>\n",
       "<style scoped>\n",
       "    .dataframe tbody tr th:only-of-type {\n",
       "        vertical-align: middle;\n",
       "    }\n",
       "\n",
       "    .dataframe tbody tr th {\n",
       "        vertical-align: top;\n",
       "    }\n",
       "\n",
       "    .dataframe thead th {\n",
       "        text-align: right;\n",
       "    }\n",
       "</style>\n",
       "<table border=\"1\" class=\"dataframe\">\n",
       "  <thead>\n",
       "    <tr style=\"text-align: right;\">\n",
       "      <th></th>\n",
       "      <th>Subject</th>\n",
       "      <th>Hair color</th>\n",
       "      <th>Pain threshold</th>\n",
       "    </tr>\n",
       "  </thead>\n",
       "  <tbody>\n",
       "    <tr>\n",
       "      <th>0</th>\n",
       "      <td>1</td>\n",
       "      <td>Light Blond</td>\n",
       "      <td>62</td>\n",
       "    </tr>\n",
       "    <tr>\n",
       "      <th>1</th>\n",
       "      <td>2</td>\n",
       "      <td>Light Blond</td>\n",
       "      <td>60</td>\n",
       "    </tr>\n",
       "    <tr>\n",
       "      <th>2</th>\n",
       "      <td>3</td>\n",
       "      <td>Light Blond</td>\n",
       "      <td>71</td>\n",
       "    </tr>\n",
       "    <tr>\n",
       "      <th>3</th>\n",
       "      <td>4</td>\n",
       "      <td>Light Blond</td>\n",
       "      <td>55</td>\n",
       "    </tr>\n",
       "    <tr>\n",
       "      <th>4</th>\n",
       "      <td>5</td>\n",
       "      <td>Light Blond</td>\n",
       "      <td>48</td>\n",
       "    </tr>\n",
       "    <tr>\n",
       "      <th>5</th>\n",
       "      <td>6</td>\n",
       "      <td>Dark Blond</td>\n",
       "      <td>63</td>\n",
       "    </tr>\n",
       "    <tr>\n",
       "      <th>6</th>\n",
       "      <td>7</td>\n",
       "      <td>Dark Blond</td>\n",
       "      <td>57</td>\n",
       "    </tr>\n",
       "    <tr>\n",
       "      <th>7</th>\n",
       "      <td>8</td>\n",
       "      <td>Dark Blond</td>\n",
       "      <td>52</td>\n",
       "    </tr>\n",
       "    <tr>\n",
       "      <th>8</th>\n",
       "      <td>9</td>\n",
       "      <td>Dark Blond</td>\n",
       "      <td>41</td>\n",
       "    </tr>\n",
       "    <tr>\n",
       "      <th>9</th>\n",
       "      <td>10</td>\n",
       "      <td>Dark Blond</td>\n",
       "      <td>43</td>\n",
       "    </tr>\n",
       "    <tr>\n",
       "      <th>10</th>\n",
       "      <td>11</td>\n",
       "      <td>Light Brunette</td>\n",
       "      <td>42</td>\n",
       "    </tr>\n",
       "    <tr>\n",
       "      <th>11</th>\n",
       "      <td>12</td>\n",
       "      <td>Light Brunette</td>\n",
       "      <td>50</td>\n",
       "    </tr>\n",
       "    <tr>\n",
       "      <th>12</th>\n",
       "      <td>13</td>\n",
       "      <td>Light Brunette</td>\n",
       "      <td>41</td>\n",
       "    </tr>\n",
       "    <tr>\n",
       "      <th>13</th>\n",
       "      <td>14</td>\n",
       "      <td>Light Brunette</td>\n",
       "      <td>37</td>\n",
       "    </tr>\n",
       "    <tr>\n",
       "      <th>14</th>\n",
       "      <td>15</td>\n",
       "      <td>Dark Brunette</td>\n",
       "      <td>32</td>\n",
       "    </tr>\n",
       "    <tr>\n",
       "      <th>15</th>\n",
       "      <td>16</td>\n",
       "      <td>Dark Brunette</td>\n",
       "      <td>39</td>\n",
       "    </tr>\n",
       "    <tr>\n",
       "      <th>16</th>\n",
       "      <td>17</td>\n",
       "      <td>Dark Brunette</td>\n",
       "      <td>51</td>\n",
       "    </tr>\n",
       "    <tr>\n",
       "      <th>17</th>\n",
       "      <td>18</td>\n",
       "      <td>Dark Brunette</td>\n",
       "      <td>30</td>\n",
       "    </tr>\n",
       "    <tr>\n",
       "      <th>18</th>\n",
       "      <td>19</td>\n",
       "      <td>Dark Brunette</td>\n",
       "      <td>35</td>\n",
       "    </tr>\n",
       "  </tbody>\n",
       "</table>\n",
       "</div>"
      ],
      "text/plain": [
       "    Subject      Hair color  Pain threshold\n",
       "0         1     Light Blond              62\n",
       "1         2     Light Blond              60\n",
       "2         3     Light Blond              71\n",
       "3         4     Light Blond              55\n",
       "4         5     Light Blond              48\n",
       "5         6      Dark Blond              63\n",
       "6         7      Dark Blond              57\n",
       "7         8      Dark Blond              52\n",
       "8         9      Dark Blond              41\n",
       "9        10      Dark Blond              43\n",
       "10       11  Light Brunette              42\n",
       "11       12  Light Brunette              50\n",
       "12       13  Light Brunette              41\n",
       "13       14  Light Brunette              37\n",
       "14       15   Dark Brunette              32\n",
       "15       16   Dark Brunette              39\n",
       "16       17   Dark Brunette              51\n",
       "17       18   Dark Brunette              30\n",
       "18       19   Dark Brunette              35"
      ]
     },
     "execution_count": 25,
     "metadata": {},
     "output_type": "execute_result"
    }
   ],
   "source": [
    "#Note that you may have to install pinguin before importing\n",
    "#pip install pingouin\n",
    "\n",
    "import pingouin as pg\n",
    "\n",
    "# Load an example dataset comparing pain threshold as a function of hair color\n",
    "df = pg.read_dataset('anova')\n",
    "df\n"
   ]
  },
  {
   "cell_type": "markdown",
   "id": "0a44d12c-24d2-46b5-b303-01264bea8327",
   "metadata": {},
   "source": [
    "First we need to check assumptions such as equality of variances:"
   ]
  },
  {
   "cell_type": "code",
   "execution_count": 23,
   "id": "0d775dcd-6975-4bf0-aa24-d94c8ea46d5e",
   "metadata": {},
   "outputs": [
    {
     "data": {
      "text/html": [
       "<div>\n",
       "<style scoped>\n",
       "    .dataframe tbody tr th:only-of-type {\n",
       "        vertical-align: middle;\n",
       "    }\n",
       "\n",
       "    .dataframe tbody tr th {\n",
       "        vertical-align: top;\n",
       "    }\n",
       "\n",
       "    .dataframe thead th {\n",
       "        text-align: right;\n",
       "    }\n",
       "</style>\n",
       "<table border=\"1\" class=\"dataframe\">\n",
       "  <thead>\n",
       "    <tr style=\"text-align: right;\">\n",
       "      <th></th>\n",
       "      <th>W</th>\n",
       "      <th>pval</th>\n",
       "      <th>equal_var</th>\n",
       "    </tr>\n",
       "  </thead>\n",
       "  <tbody>\n",
       "    <tr>\n",
       "      <th>levene</th>\n",
       "      <td>0.392743</td>\n",
       "      <td>0.760016</td>\n",
       "      <td>True</td>\n",
       "    </tr>\n",
       "  </tbody>\n",
       "</table>\n",
       "</div>"
      ],
      "text/plain": [
       "               W      pval  equal_var\n",
       "levene  0.392743  0.760016       True"
      ]
     },
     "execution_count": 23,
     "metadata": {},
     "output_type": "execute_result"
    }
   ],
   "source": [
    "# We first test the assumption of equality of variances\n",
    "pg.homoscedasticity(data=df, dv='Pain threshold', group='Hair color')\n"
   ]
  },
  {
   "cell_type": "markdown",
   "id": "dbc0abdf-1e98-4e8e-92d9-7aa724897d30",
   "metadata": {},
   "source": [
    "Note how different this output is, and that it provides the output of what the p-value means in terms of the null hypothesis.\n",
    "\n",
    "Since Levene's test suggest variances are equal between groups, we proceed with the ANOVA:"
   ]
  },
  {
   "cell_type": "code",
   "execution_count": 24,
   "id": "9c59cc0b-b08f-4294-9221-69130bbd6fe7",
   "metadata": {},
   "outputs": [
    {
     "data": {
      "text/html": [
       "<div>\n",
       "<style scoped>\n",
       "    .dataframe tbody tr th:only-of-type {\n",
       "        vertical-align: middle;\n",
       "    }\n",
       "\n",
       "    .dataframe tbody tr th {\n",
       "        vertical-align: top;\n",
       "    }\n",
       "\n",
       "    .dataframe thead th {\n",
       "        text-align: right;\n",
       "    }\n",
       "</style>\n",
       "<table border=\"1\" class=\"dataframe\">\n",
       "  <thead>\n",
       "    <tr style=\"text-align: right;\">\n",
       "      <th></th>\n",
       "      <th>Source</th>\n",
       "      <th>ddof1</th>\n",
       "      <th>ddof2</th>\n",
       "      <th>F</th>\n",
       "      <th>p-unc</th>\n",
       "      <th>np2</th>\n",
       "    </tr>\n",
       "  </thead>\n",
       "  <tbody>\n",
       "    <tr>\n",
       "      <th>0</th>\n",
       "      <td>Hair color</td>\n",
       "      <td>3</td>\n",
       "      <td>15</td>\n",
       "      <td>6.791407</td>\n",
       "      <td>0.004114</td>\n",
       "      <td>0.575962</td>\n",
       "    </tr>\n",
       "  </tbody>\n",
       "</table>\n",
       "</div>"
      ],
      "text/plain": [
       "       Source  ddof1  ddof2         F     p-unc       np2\n",
       "0  Hair color      3     15  6.791407  0.004114  0.575962"
      ]
     },
     "execution_count": 24,
     "metadata": {},
     "output_type": "execute_result"
    }
   ],
   "source": [
    "#a regular one-way ANOVA\n",
    "pg.anova(data=df, dv='Pain threshold', between='Hair color')"
   ]
  },
  {
   "cell_type": "markdown",
   "id": "f4dc147e-edb2-4915-952a-cdd724c45865",
   "metadata": {},
   "source": [
    "Again, we get more output that we need in order to understand and interpret the data. \n",
    "- Source is the independent variable\n",
    "- ddof1 are the degrees of freedom for the independent variable (that is, levels of hair color)\n",
    "- ddof2 are the degrees of freedom for the dependent variable (the data points of pain threshold)\n",
    "- F is the value of the F statistic\n",
    "- p-unc is the uncorrected p-value telling us the probability of obtaining the F statistic given the H0\n",
    "- np2 is the effect size as partial eta-squared\n",
    "\n",
    "You can also get Sum of squares and other values out (see help(pg.anova))\n",
    "\n",
    "So from this output we have the F-statistic and its probability, and the effect size. Now we can perform a post-hoc Tukey test, to see which of the different hair colors that contribute to the main effect."
   ]
  },
  {
   "cell_type": "code",
   "execution_count": 27,
   "id": "074a6f8d-6412-4ab0-b665-7e46ce7d0da6",
   "metadata": {},
   "outputs": [
    {
     "data": {
      "text/html": [
       "<div>\n",
       "<style scoped>\n",
       "    .dataframe tbody tr th:only-of-type {\n",
       "        vertical-align: middle;\n",
       "    }\n",
       "\n",
       "    .dataframe tbody tr th {\n",
       "        vertical-align: top;\n",
       "    }\n",
       "\n",
       "    .dataframe thead th {\n",
       "        text-align: right;\n",
       "    }\n",
       "</style>\n",
       "<table border=\"1\" class=\"dataframe\">\n",
       "  <thead>\n",
       "    <tr style=\"text-align: right;\">\n",
       "      <th></th>\n",
       "      <th>A</th>\n",
       "      <th>B</th>\n",
       "      <th>mean(A)</th>\n",
       "      <th>mean(B)</th>\n",
       "      <th>diff</th>\n",
       "      <th>se</th>\n",
       "      <th>T</th>\n",
       "      <th>p-tukey</th>\n",
       "      <th>hedges</th>\n",
       "    </tr>\n",
       "  </thead>\n",
       "  <tbody>\n",
       "    <tr>\n",
       "      <th>0</th>\n",
       "      <td>Dark Blond</td>\n",
       "      <td>Dark Brunette</td>\n",
       "      <td>51.2</td>\n",
       "      <td>37.4</td>\n",
       "      <td>13.8</td>\n",
       "      <td>5.168623</td>\n",
       "      <td>2.669957</td>\n",
       "      <td>0.074068</td>\n",
       "      <td>1.413596</td>\n",
       "    </tr>\n",
       "    <tr>\n",
       "      <th>1</th>\n",
       "      <td>Dark Blond</td>\n",
       "      <td>Light Blond</td>\n",
       "      <td>51.2</td>\n",
       "      <td>59.2</td>\n",
       "      <td>-8.0</td>\n",
       "      <td>5.168623</td>\n",
       "      <td>-1.547801</td>\n",
       "      <td>0.435577</td>\n",
       "      <td>-0.810661</td>\n",
       "    </tr>\n",
       "    <tr>\n",
       "      <th>2</th>\n",
       "      <td>Dark Blond</td>\n",
       "      <td>Light Brunette</td>\n",
       "      <td>51.2</td>\n",
       "      <td>42.5</td>\n",
       "      <td>8.7</td>\n",
       "      <td>5.482153</td>\n",
       "      <td>1.586968</td>\n",
       "      <td>0.414728</td>\n",
       "      <td>0.982361</td>\n",
       "    </tr>\n",
       "    <tr>\n",
       "      <th>3</th>\n",
       "      <td>Dark Brunette</td>\n",
       "      <td>Light Blond</td>\n",
       "      <td>37.4</td>\n",
       "      <td>59.2</td>\n",
       "      <td>-21.8</td>\n",
       "      <td>5.168623</td>\n",
       "      <td>-4.217758</td>\n",
       "      <td>0.003708</td>\n",
       "      <td>-2.336811</td>\n",
       "    </tr>\n",
       "    <tr>\n",
       "      <th>4</th>\n",
       "      <td>Dark Brunette</td>\n",
       "      <td>Light Brunette</td>\n",
       "      <td>37.4</td>\n",
       "      <td>42.5</td>\n",
       "      <td>-5.1</td>\n",
       "      <td>5.482153</td>\n",
       "      <td>-0.930291</td>\n",
       "      <td>0.789321</td>\n",
       "      <td>-0.626769</td>\n",
       "    </tr>\n",
       "    <tr>\n",
       "      <th>5</th>\n",
       "      <td>Light Blond</td>\n",
       "      <td>Light Brunette</td>\n",
       "      <td>59.2</td>\n",
       "      <td>42.5</td>\n",
       "      <td>16.7</td>\n",
       "      <td>5.482153</td>\n",
       "      <td>3.046249</td>\n",
       "      <td>0.036647</td>\n",
       "      <td>2.015280</td>\n",
       "    </tr>\n",
       "  </tbody>\n",
       "</table>\n",
       "</div>"
      ],
      "text/plain": [
       "               A               B  mean(A)  mean(B)  diff        se         T  \\\n",
       "0     Dark Blond   Dark Brunette     51.2     37.4  13.8  5.168623  2.669957   \n",
       "1     Dark Blond     Light Blond     51.2     59.2  -8.0  5.168623 -1.547801   \n",
       "2     Dark Blond  Light Brunette     51.2     42.5   8.7  5.482153  1.586968   \n",
       "3  Dark Brunette     Light Blond     37.4     59.2 -21.8  5.168623 -4.217758   \n",
       "4  Dark Brunette  Light Brunette     37.4     42.5  -5.1  5.482153 -0.930291   \n",
       "5    Light Blond  Light Brunette     59.2     42.5  16.7  5.482153  3.046249   \n",
       "\n",
       "    p-tukey    hedges  \n",
       "0  0.074068  1.413596  \n",
       "1  0.435577 -0.810661  \n",
       "2  0.414728  0.982361  \n",
       "3  0.003708 -2.336811  \n",
       "4  0.789321 -0.626769  \n",
       "5  0.036647  2.015280  "
      ]
     },
     "execution_count": 27,
     "metadata": {},
     "output_type": "execute_result"
    }
   ],
   "source": [
    "# Perform post-hoc Tukey test\n",
    "pg.pairwise_tukey(data=df, dv='Pain threshold', between='Hair color')"
   ]
  },
  {
   "cell_type": "markdown",
   "id": "2f9be6fa-edf6-40d9-82f1-90f8e554fdc5",
   "metadata": {},
   "source": [
    "Since the data set has four different levels of hair color, there are six pairwise comparisons to find out which of these that are contributing to the main effect. Looking at the reported probability for each comparison (p-tukey), only the compairson Dark Brunette and Light Blond have p<0.05, so the ANOVA main effect in pain threshold is mainly due to the difference between very dark and very light hair color. We can see what the means are, but it would be good to also check the variability for these."
   ]
  },
  {
   "cell_type": "code",
   "execution_count": 41,
   "id": "a725455b-02c2-4d2e-8c63-ff84a94fea2b",
   "metadata": {},
   "outputs": [
    {
     "data": {
      "text/html": [
       "<div>\n",
       "<style scoped>\n",
       "    .dataframe tbody tr th:only-of-type {\n",
       "        vertical-align: middle;\n",
       "    }\n",
       "\n",
       "    .dataframe tbody tr th {\n",
       "        vertical-align: top;\n",
       "    }\n",
       "\n",
       "    .dataframe thead tr th {\n",
       "        text-align: left;\n",
       "    }\n",
       "\n",
       "    .dataframe thead tr:last-of-type th {\n",
       "        text-align: right;\n",
       "    }\n",
       "</style>\n",
       "<table border=\"1\" class=\"dataframe\">\n",
       "  <thead>\n",
       "    <tr>\n",
       "      <th></th>\n",
       "      <th colspan=\"8\" halign=\"left\">Subject</th>\n",
       "      <th colspan=\"8\" halign=\"left\">Pain threshold</th>\n",
       "    </tr>\n",
       "    <tr>\n",
       "      <th></th>\n",
       "      <th>count</th>\n",
       "      <th>mean</th>\n",
       "      <th>std</th>\n",
       "      <th>min</th>\n",
       "      <th>25%</th>\n",
       "      <th>50%</th>\n",
       "      <th>75%</th>\n",
       "      <th>max</th>\n",
       "      <th>count</th>\n",
       "      <th>mean</th>\n",
       "      <th>std</th>\n",
       "      <th>min</th>\n",
       "      <th>25%</th>\n",
       "      <th>50%</th>\n",
       "      <th>75%</th>\n",
       "      <th>max</th>\n",
       "    </tr>\n",
       "    <tr>\n",
       "      <th>Hair color</th>\n",
       "      <th></th>\n",
       "      <th></th>\n",
       "      <th></th>\n",
       "      <th></th>\n",
       "      <th></th>\n",
       "      <th></th>\n",
       "      <th></th>\n",
       "      <th></th>\n",
       "      <th></th>\n",
       "      <th></th>\n",
       "      <th></th>\n",
       "      <th></th>\n",
       "      <th></th>\n",
       "      <th></th>\n",
       "      <th></th>\n",
       "      <th></th>\n",
       "    </tr>\n",
       "  </thead>\n",
       "  <tbody>\n",
       "    <tr>\n",
       "      <th>Dark Blond</th>\n",
       "      <td>5.0</td>\n",
       "      <td>8.0</td>\n",
       "      <td>1.581139</td>\n",
       "      <td>6.0</td>\n",
       "      <td>7.00</td>\n",
       "      <td>8.0</td>\n",
       "      <td>9.00</td>\n",
       "      <td>10.0</td>\n",
       "      <td>5.0</td>\n",
       "      <td>51.2</td>\n",
       "      <td>9.284396</td>\n",
       "      <td>41.0</td>\n",
       "      <td>43.0</td>\n",
       "      <td>52.0</td>\n",
       "      <td>57.0</td>\n",
       "      <td>63.0</td>\n",
       "    </tr>\n",
       "    <tr>\n",
       "      <th>Dark Brunette</th>\n",
       "      <td>5.0</td>\n",
       "      <td>17.0</td>\n",
       "      <td>1.581139</td>\n",
       "      <td>15.0</td>\n",
       "      <td>16.00</td>\n",
       "      <td>17.0</td>\n",
       "      <td>18.00</td>\n",
       "      <td>19.0</td>\n",
       "      <td>5.0</td>\n",
       "      <td>37.4</td>\n",
       "      <td>8.324662</td>\n",
       "      <td>30.0</td>\n",
       "      <td>32.0</td>\n",
       "      <td>35.0</td>\n",
       "      <td>39.0</td>\n",
       "      <td>51.0</td>\n",
       "    </tr>\n",
       "    <tr>\n",
       "      <th>Light Blond</th>\n",
       "      <td>5.0</td>\n",
       "      <td>3.0</td>\n",
       "      <td>1.581139</td>\n",
       "      <td>1.0</td>\n",
       "      <td>2.00</td>\n",
       "      <td>3.0</td>\n",
       "      <td>4.00</td>\n",
       "      <td>5.0</td>\n",
       "      <td>5.0</td>\n",
       "      <td>59.2</td>\n",
       "      <td>8.526429</td>\n",
       "      <td>48.0</td>\n",
       "      <td>55.0</td>\n",
       "      <td>60.0</td>\n",
       "      <td>62.0</td>\n",
       "      <td>71.0</td>\n",
       "    </tr>\n",
       "    <tr>\n",
       "      <th>Light Brunette</th>\n",
       "      <td>4.0</td>\n",
       "      <td>12.5</td>\n",
       "      <td>1.290994</td>\n",
       "      <td>11.0</td>\n",
       "      <td>11.75</td>\n",
       "      <td>12.5</td>\n",
       "      <td>13.25</td>\n",
       "      <td>14.0</td>\n",
       "      <td>4.0</td>\n",
       "      <td>42.5</td>\n",
       "      <td>5.446712</td>\n",
       "      <td>37.0</td>\n",
       "      <td>40.0</td>\n",
       "      <td>41.5</td>\n",
       "      <td>44.0</td>\n",
       "      <td>50.0</td>\n",
       "    </tr>\n",
       "  </tbody>\n",
       "</table>\n",
       "</div>"
      ],
      "text/plain": [
       "               Subject                                                  \\\n",
       "                 count  mean       std   min    25%   50%    75%   max   \n",
       "Hair color                                                               \n",
       "Dark Blond         5.0   8.0  1.581139   6.0   7.00   8.0   9.00  10.0   \n",
       "Dark Brunette      5.0  17.0  1.581139  15.0  16.00  17.0  18.00  19.0   \n",
       "Light Blond        5.0   3.0  1.581139   1.0   2.00   3.0   4.00   5.0   \n",
       "Light Brunette     4.0  12.5  1.290994  11.0  11.75  12.5  13.25  14.0   \n",
       "\n",
       "               Pain threshold                                                \n",
       "                        count  mean       std   min   25%   50%   75%   max  \n",
       "Hair color                                                                   \n",
       "Dark Blond                5.0  51.2  9.284396  41.0  43.0  52.0  57.0  63.0  \n",
       "Dark Brunette             5.0  37.4  8.324662  30.0  32.0  35.0  39.0  51.0  \n",
       "Light Blond               5.0  59.2  8.526429  48.0  55.0  60.0  62.0  71.0  \n",
       "Light Brunette            4.0  42.5  5.446712  37.0  40.0  41.5  44.0  50.0  "
      ]
     },
     "execution_count": 41,
     "metadata": {},
     "output_type": "execute_result"
    }
   ],
   "source": [
    "#group dataframe according to hair color\n",
    "grouped = df.groupby([\"Hair color\"])\n",
    "grouped.describe()"
   ]
  },
  {
   "cell_type": "markdown",
   "id": "bf32072e-a891-4e75-b94f-838eb9d1135b",
   "metadata": {},
   "source": [
    "  \n",
    "We are now ready to report the result of the analysis:\n",
    "\n",
    "\"A one-way independent ANOVA showed a main effect of hair color on participants' pain threshold, F(3,15)=6.79, p=0.004, $\\eta^2$=0.56). \n",
    "Post-hoc comparisons using the Tukey HSD test indicated that the mean pain threshold for Dark Brunette (M = 37.4, SD = 1.58) was significantly different compared to that of Light Blond (M = 59.2, SD = 1.58). \"\n"
   ]
  },
  {
   "cell_type": "markdown",
   "id": "654288c6-5e3e-4de5-b075-70feb18d646f",
   "metadata": {},
   "source": [
    "<a id= 'Settingup'> </a>"
   ]
  },
  {
   "cell_type": "markdown",
   "id": "ae1ced74-073c-43af-ac64-7b3b2abb2789",
   "metadata": {},
   "source": [
    "## 4. Setting up data\n",
    "Before we proceed to look at ANOVA for values that are dependent we need to adress different kinds of dataformats. As you start using different kinds of analysis and use different packages, you may need to set up data in a different way so that the functions can read and interpret the data properly. \n",
    "\n",
    "In some cases we have *wide format* where the dependent variable for each condition is collected in columns for each participant:\n",
    "\n",
    "|Participant|DVCase1 |DVCase2|DVCase3|\n",
    "|-----|-----|--------|-----|\n",
    "|1   |71   |72      |70  |\n",
    "|2   |61   |73      |71  |\n",
    "|:  |:     | .       |  .  | \n",
    "\n",
    "And in other cases we use *long format*, where the dependent variable is displayed in one columns over several rows:\n",
    "\n",
    "|Participant|Condition |DVScore|\n",
    "|-----|-----|--------|\n",
    "|1   |Case1  |71|\n",
    "|1   |Case2  |72 |\n",
    "|1   |Case2  |70 |\n",
    "|2   |Case1  |61|\n",
    "|2   |Case2  |73 |\n",
    "|2   |Case2  |71 |\n",
    "|:  |:     | .   |  \n",
    "\n",
    "\n",
    "Many softwares/function will expect data to be in one or the other format. Specifically for repeated measures analysis, *pivot table*, that contains means or other summaries of the data  are often required.\n",
    "https://en.wikipedia.org/wiki/Pivot_table\n",
    "\n",
    "Switching bewteen these data table formats can be a pain. A great tip is to consider the software and functions you will use already before actual data collection. In this way you can save data in the proper way already from the beginning (and save lots of time)."
   ]
  },
  {
   "cell_type": "markdown",
   "id": "3fbb4448-447d-42c3-bdfb-43852e4fb845",
   "metadata": {},
   "source": [
    "In order to practise the switch between table formats we return to the data frame \"data\" we used earlier, containing different scores using different input devices. To simplify the transition, we will add a variable \"id\" to denote each participant."
   ]
  },
  {
   "cell_type": "code",
   "execution_count": 42,
   "id": "c555b68c-24ca-41f4-a3e3-8e63230f91fb",
   "metadata": {},
   "outputs": [
    {
     "data": {
      "text/html": [
       "<div>\n",
       "<style scoped>\n",
       "    .dataframe tbody tr th:only-of-type {\n",
       "        vertical-align: middle;\n",
       "    }\n",
       "\n",
       "    .dataframe tbody tr th {\n",
       "        vertical-align: top;\n",
       "    }\n",
       "\n",
       "    .dataframe thead th {\n",
       "        text-align: right;\n",
       "    }\n",
       "</style>\n",
       "<table border=\"1\" class=\"dataframe\">\n",
       "  <thead>\n",
       "    <tr style=\"text-align: right;\">\n",
       "      <th></th>\n",
       "      <th>Mouse</th>\n",
       "      <th>Control1</th>\n",
       "      <th>Control2</th>\n",
       "      <th>Controller3</th>\n",
       "      <th>id</th>\n",
       "    </tr>\n",
       "  </thead>\n",
       "  <tbody>\n",
       "    <tr>\n",
       "      <th>1</th>\n",
       "      <td>13.5</td>\n",
       "      <td>14.6</td>\n",
       "      <td>12.7</td>\n",
       "      <td>11.1</td>\n",
       "      <td>1</td>\n",
       "    </tr>\n",
       "    <tr>\n",
       "      <th>2</th>\n",
       "      <td>14.6</td>\n",
       "      <td>15.6</td>\n",
       "      <td>13.4</td>\n",
       "      <td>12.1</td>\n",
       "      <td>2</td>\n",
       "    </tr>\n",
       "    <tr>\n",
       "      <th>3</th>\n",
       "      <td>12.7</td>\n",
       "      <td>13.6</td>\n",
       "      <td>12.1</td>\n",
       "      <td>10.1</td>\n",
       "      <td>3</td>\n",
       "    </tr>\n",
       "    <tr>\n",
       "      <th>4</th>\n",
       "      <td>15.5</td>\n",
       "      <td>16.7</td>\n",
       "      <td>15.0</td>\n",
       "      <td>13.2</td>\n",
       "      <td>4</td>\n",
       "    </tr>\n",
       "    <tr>\n",
       "      <th>5</th>\n",
       "      <td>11.1</td>\n",
       "      <td>12.1</td>\n",
       "      <td>10.9</td>\n",
       "      <td>8.6</td>\n",
       "      <td>5</td>\n",
       "    </tr>\n",
       "    <tr>\n",
       "      <th>6</th>\n",
       "      <td>16.4</td>\n",
       "      <td>17.6</td>\n",
       "      <td>15.7</td>\n",
       "      <td>14.1</td>\n",
       "      <td>6</td>\n",
       "    </tr>\n",
       "    <tr>\n",
       "      <th>7</th>\n",
       "      <td>13.2</td>\n",
       "      <td>14.2</td>\n",
       "      <td>12.8</td>\n",
       "      <td>10.7</td>\n",
       "      <td>7</td>\n",
       "    </tr>\n",
       "    <tr>\n",
       "      <th>8</th>\n",
       "      <td>19.3</td>\n",
       "      <td>19.5</td>\n",
       "      <td>17.9</td>\n",
       "      <td>16.0</td>\n",
       "      <td>8</td>\n",
       "    </tr>\n",
       "    <tr>\n",
       "      <th>9</th>\n",
       "      <td>16.7</td>\n",
       "      <td>17.8</td>\n",
       "      <td>16.1</td>\n",
       "      <td>14.3</td>\n",
       "      <td>9</td>\n",
       "    </tr>\n",
       "    <tr>\n",
       "      <th>10</th>\n",
       "      <td>18.4</td>\n",
       "      <td>19.7</td>\n",
       "      <td>17.9</td>\n",
       "      <td>16.2</td>\n",
       "      <td>10</td>\n",
       "    </tr>\n",
       "  </tbody>\n",
       "</table>\n",
       "</div>"
      ],
      "text/plain": [
       "    Mouse  Control1  Control2  Controller3  id\n",
       "1    13.5      14.6      12.7         11.1   1\n",
       "2    14.6      15.6      13.4         12.1   2\n",
       "3    12.7      13.6      12.1         10.1   3\n",
       "4    15.5      16.7      15.0         13.2   4\n",
       "5    11.1      12.1      10.9          8.6   5\n",
       "6    16.4      17.6      15.7         14.1   6\n",
       "7    13.2      14.2      12.8         10.7   7\n",
       "8    19.3      19.5      17.9         16.0   8\n",
       "9    16.7      17.8      16.1         14.3   9\n",
       "10   18.4      19.7      17.9         16.2  10"
      ]
     },
     "execution_count": 42,
     "metadata": {},
     "output_type": "execute_result"
    }
   ],
   "source": [
    "#We add a variable \"id\" to denote each participant\n",
    "data[\"id\"] = data.index\n",
    "\n",
    "data"
   ]
  },
  {
   "cell_type": "markdown",
   "id": "d8988f50-32cd-4ad4-a52c-366f7fd4acb7",
   "metadata": {},
   "source": [
    "In order to change from this \"wide\" format to \"long\" format we can use the pandas function \"melt\". Afterwards, there should be 10 rows for each input device (10 participants for each case)."
   ]
  },
  {
   "cell_type": "code",
   "execution_count": 44,
   "id": "b715f4ca-0e50-4218-8d78-e3f9c1457854",
   "metadata": {},
   "outputs": [],
   "source": [
    "#we go to \"long\" format using the pandas function \"melt\"\n",
    "\n",
    "longdata=data.melt(id_vars=['id'], value_vars=['Mouse', 'Control1', 'Control2'], var_name='Controller', value_name='Score')\n",
    "#longdata #Check data, instead of 10 rows, you should now have 10 rows for each case"
   ]
  },
  {
   "cell_type": "markdown",
   "id": "b3c366c0-27aa-4040-a0a3-d96e36bd33e0",
   "metadata": {},
   "source": [
    "We now have the *long* format and, because we only have one factor this conversion was not too complicated. But often there might be many independent and dependent variables in one data frame, as well as other factors (e.g. particpants' age, how trained musicians they are etc) and in these cases the conversion between long and wide format can quickly become cumbersome.\n"
   ]
  },
  {
   "cell_type": "markdown",
   "id": "070f5959-a1ef-4b89-9469-4e92517f6f47",
   "metadata": {},
   "source": [
    "### Try out 3: \n",
    "What type of data format (long or wide) is the Hair color and pain threshold data (Section 3) in?"
   ]
  },
  {
   "cell_type": "code",
   "execution_count": null,
   "id": "15c55a71-16a2-4a6c-a43c-ef5ae67c5586",
   "metadata": {},
   "outputs": [],
   "source": []
  }
 ],
 "metadata": {
  "kernelspec": {
   "display_name": "Python 3 (ipykernel)",
   "language": "python",
   "name": "python3"
  },
  "language_info": {
   "codemirror_mode": {
    "name": "ipython",
    "version": 3
   },
   "file_extension": ".py",
   "mimetype": "text/x-python",
   "name": "python",
   "nbconvert_exporter": "python",
   "pygments_lexer": "ipython3",
   "version": "3.12.7"
  }
 },
 "nbformat": 4,
 "nbformat_minor": 5
}
