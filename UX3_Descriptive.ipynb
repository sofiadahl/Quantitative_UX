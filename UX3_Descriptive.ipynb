{
 "cells": [
  {
   "cell_type": "markdown",
   "metadata": {
    "id": "lQj5MQxeuaff"
   },
   "source": [
    "# UX 3 Descriptive Statistics\n",
    "\n",
    "Author:\n",
    "- |\n",
    "    Sofia Dahl, sof@create.aau.dk\\\n",
    "    Dept. Architecture, Design and Media Technology, Aalborg University Copenhagen\n",
    "---\n",
    "## Learning goals\n",
    "After working your way through this notebook you should be able to:\n",
    "- Plot and summarise numerical data by showing\n",
    "  + Central Tendency\n",
    "  + Variability\n",
    "- Describe the distribution of data using histograms\n",
    "- Explain the relationship between standard error of mean and sample size\n",
    "\n",
    "## Table of Contents\n",
    " \n",
    "- [2. Summarizing data](#Summarizing)\n",
    "    + [2.1. Central Tendency](#Tendency)\n",
    "    + [2.2. Variability](#variability)\n",
    "- [3. Frequency Distributions](#Distributions)\n",
    "    + [3.1. Normal Distribution](#Normaldist)\n",
    "- [4. Sample means and sample size](#SampleMeanSize)\n",
    "- [5. Standard Error of the Mean](#StandardError)"
   ]
  },
  {
   "cell_type": "code",
   "execution_count": 1,
   "metadata": {
    "executionInfo": {
     "elapsed": 2456,
     "status": "ok",
     "timestamp": 1620288759987,
     "user": {
      "displayName": "",
      "photoUrl": "",
      "userId": ""
     },
     "user_tz": -120
    },
    "id": "SvwZEbtmuafl"
   },
   "outputs": [],
   "source": [
    "%matplotlib inline\n",
    "import numpy as np\n",
    "import pandas as pd\n",
    "import matplotlib.pyplot as plt\n",
    "import scipy.stats as stats"
   ]
  },
  {
   "cell_type": "markdown",
   "metadata": {
    "id": "llNylTZkuafo"
   },
   "source": [
    "<a id= 'Summarizing'> </a>"
   ]
  },
  {
   "cell_type": "markdown",
   "metadata": {
    "id": "6OOyBpFMuafp"
   },
   "source": [
    "\n",
    "## 1 Summarizing data\n",
    "\n",
    "Once we have our sample, we first want to collect, classify, summarize and present the data so we can interpret it. This is what we use descriptive statistics for. Ways of summarizing data differ depending on the type and spread of collected data.\n"
   ]
  },
  {
   "cell_type": "markdown",
   "metadata": {
    "id": "llNylTZkuafo"
   },
   "source": [
    "<a id= 'Tendency'> </a>"
   ]
  },
  {
   "cell_type": "markdown",
   "metadata": {},
   "source": [
    "### 1.1 Central tendency\n",
    "\n",
    "The central tendency is a single value that summarizes the data. If we are to pick one value to represent all measured values this is it.\n",
    "\n",
    "#### Arithmetic and Geometric Mean \n",
    "The most commonly used measure of central tendency is the *ARITHMETIC  MEAN* value, which is  based on ALL values (or scores). One can think of it as a kind of \"balancing point\". The arithmetic mean of a sample can be calculated as\n",
    "\n",
    "$$\\bar{x} =\\frac {\\sum_i^n{ x_i}} {N} $$\n",
    "\n",
    "where $x_i$ is each individual score (that is $x_1, x_2, ..., x_n$)\n",
    "\n",
    "Since all values are weighted equally, any extreme values become quite influential. \n",
    "\n",
    "An alternative is to use the *GEOMETRIC MEAN*, calculated as the nth root of the product between individual scores:\n",
    "\n",
    "$$ \\sqrt[n]{{ x_1}{ x_2}...{x_n}}$$\n",
    "\n",
    "#### Median\n",
    "The *MEDIAN* is also less sensitive to extreme values than the arithmetic mean. The median is the point below which half of the (numerically ordered) scores fall and is also called the 50th percentile. A downside with this is that while the median takes the middle value, it does not incorporate *all* values in doing so. "
   ]
  },
  {
   "cell_type": "markdown",
   "metadata": {
    "id": "ydUOPdPSuafp"
   },
   "source": [
    "### Try out 1: \n",
    "First, calculate different measures of central tendency for \n",
    "A=[1, 1, 2, 3, 3, 3, 3, 4]\n",
    "\n",
    "Then, change A to include an extreme value and redo."
   ]
  },
  {
   "cell_type": "code",
   "execution_count": 7,
   "metadata": {
    "colab": {
     "base_uri": "https://localhost:8080/"
    },
    "executionInfo": {
     "elapsed": 1016,
     "status": "ok",
     "timestamp": 1620289256839,
     "user": {
      "displayName": "",
      "photoUrl": "",
      "userId": ""
     },
     "user_tz": -120
    },
    "id": "ONqB0Pq4uafp",
    "outputId": "c31296bd-4123-433f-9c96-36e44c46913c"
   },
   "outputs": [],
   "source": [
    "## Uncomment and run code for different measures of central tendency \n",
    "\n",
    "A=[1, 1, 2, 3, 3, 3, 3, 4]\n",
    "\n",
    "## Uncomment next line to display MEDIAN\n",
    "# print('Median:') \n",
    "# print(np.median(A))\n",
    "\n",
    "## Uncomment next line to display arithmetic MEAN\n",
    "# print('Arithmetic mean:') \n",
    "# np.mean(A)\n",
    "\n",
    "## Uncomment next line to display geometric MEAN\n",
    "# print('Geometric mean:') \n",
    "# stats.gmean(A)"
   ]
  },
  {
   "cell_type": "markdown",
   "metadata": {},
   "source": [
    "ANSWER: How do the three measures of central tendency change when A changes?\n"
   ]
  },
  {
   "cell_type": "markdown",
   "metadata": {
    "id": "Lh43U8F_uafp"
   },
   "source": [
    "#### Mode\n",
    "\n",
    "The *mode* is simply the most commonly occuring score in the data, and therefore a score always present in the data. This is used mostly for categorical (nominal) data.\n",
    "\n",
    "### Try out 2: \n",
    "what will be the answer for this call?"
   ]
  },
  {
   "cell_type": "code",
   "execution_count": 4,
   "metadata": {
    "colab": {
     "base_uri": "https://localhost:8080/"
    },
    "executionInfo": {
     "elapsed": 711,
     "status": "ok",
     "timestamp": 1620289419430,
     "user": {
      "displayName": "",
      "photoUrl": "",
      "userId": ""
     },
     "user_tz": -120
    },
    "id": "xg15mNE6uafq",
    "outputId": "f6c21935-dfad-4e08-c523-b53fee2b9e84"
   },
   "outputs": [],
   "source": [
    "## TRY OUT BY HAND FIRST: What will be the mode of the the following sample?\n",
    "# [\"red\", \"blue\", \"blue\", \"red\", \"green\", \"red\", \"red\"]\n",
    "\n",
    "## Uncomment next line to display MODE\n",
    "# stats.mode([\"red\", \"blue\", \"blue\", \"red\", \"green\", \"red\", \"red\"])\n"
   ]
  },
  {
   "cell_type": "markdown",
   "metadata": {
    "id": "Z9YlSekluafq"
   },
   "source": [
    "<a id= 'variability'> </a>"
   ]
  },
  {
   "cell_type": "markdown",
   "metadata": {
    "id": "EIsqv_Psuafq"
   },
   "source": [
    "### 1.2. Variability\n",
    "\n",
    "Reporting only central tendency is a start, but it typically does not tell us much about the true\n",
    "nature of the data, because it lacks information about *variability* (i.e. spread). The simplest way of reporting this variability is to specify the range of the data, i.e. the smallest and largest values. While this gives us some information, two variability measures that are more used are **variance** and **standard deviation**. These help us understand how closely to the central tendency  values are located.\n",
    "\n",
    "VARIANCE is the sum of the **squared difference** between *each individual\n",
    "score* and the *mean*, all divided by the *number* of scores\n",
    "\n",
    "$$\\sigma^2  =\\frac{\\sum_i^N{ (x_i-\\bar{x}})^2 } {N}$$ \n",
    "\n",
    "where $x_i$ is each\n",
    "individual value and $\\bar{x}$ is the\n",
    "arithmetic mean.\n",
    "The squared difference (\"sum of squares\") will re-appear in some of the statistical tests later on.\n",
    "\n",
    "STANDARD DEVIATION is simply the square root of the variance\n",
    "$$\\sigma  =\\sqrt {\\sigma^2}$$\n",
    "\n",
    "The standard deviation can be thought of as the average distance between all individual values and the sample mean. Assuming that data is normally distributed, most of the scores can be found within this distance (68.27% of them to be more precise).\n",
    "\n",
    "What you see above refers to the true variance and the true standard deviation of the population. For SAMPLE variance and standard deviation, the denominator is adjusted by replacing *N* by *(N-1)*. You can think of it as reducing the risk of underestimating the variance for small sample sizes (because the denominator N-1 is smaller than N, resulting in a higher calculated variance)."
   ]
  },
  {
   "cell_type": "markdown",
   "metadata": {
    "id": "x7iVYogEuafr"
   },
   "source": [
    "### Try out 3: \n",
    "Which of the following function calls calculate the sample standard deviation?\n",
    "\n",
    "    np.std(a)\n",
    "    np.std(a, ddof=1)"
   ]
  },
  {
   "cell_type": "code",
   "execution_count": 6,
   "metadata": {
    "colab": {
     "base_uri": "https://localhost:8080/"
    },
    "executionInfo": {
     "elapsed": 691,
     "status": "ok",
     "timestamp": 1620290437008,
     "user": {
      "displayName": "",
      "photoUrl": "",
      "userId": ""
     },
     "user_tz": -120
    },
    "id": "O9L9xubouafr",
    "outputId": "93d5ef57-bdf7-46af-a62b-76bedcf3229a"
   },
   "outputs": [
    {
     "name": "stdout",
     "output_type": "stream",
     "text": [
      "0.816496580927726\n",
      "1.0\n"
     ]
    }
   ],
   "source": [
    "# Which of the following function calls are calculating the sample mean?\n",
    "# 'ddof' Means Delta Degrees of Freedom. \n",
    "# The divisor used in calculations is N - ddof, where N represents the number of elements. \n",
    "# By default ddof is zero.\n",
    "\n",
    "a=np.arange(1,4)\n",
    "# Compare the following:\n",
    "print(np.std(a))\n",
    "print(np.std(a, ddof=1))\n",
    "\n",
    "# TIP look up ddof in: help(np.std)"
   ]
  },
  {
   "cell_type": "markdown",
   "metadata": {
    "id": "gxC1saKouafs"
   },
   "source": [
    "<a id= 'Distributions'> </a>"
   ]
  },
  {
   "cell_type": "markdown",
   "metadata": {
    "id": "MLmavQbeuafs"
   },
   "source": [
    "## 2. Frequency Distributions\n",
    "\n",
    "The central tendency and spread of the data summarize some characteristics of the sample, but to get a better overview we would like to know about the *distribution* of data points. Histograms will tell us about the shape of the distribution. There are a few shapes that can be expected to occur in different kinds of data:\n",
    "- *NORMAL* distributions (bell shaped and symmetrical),\n",
    "- *SKEWED* distributions (one tail longer than the other),\n",
    "- *UNIFORM* distributions (flat),\n",
    "- and *BIMODAL* (two main peaks)."
   ]
  },
  {
   "cell_type": "markdown",
   "metadata": {
    "id": "PeNcx4R5uaft"
   },
   "source": [
    "### Try out 4: \n",
    "What kind of distribution is this? Plot the histogram for different increasing N and try to determine from the shape what type of distribution that emerges (normal, skewed, uniform or bimodal?). "
   ]
  },
  {
   "cell_type": "code",
   "execution_count": 11,
   "metadata": {
    "colab": {
     "base_uri": "https://localhost:8080/",
     "height": 265
    },
    "executionInfo": {
     "elapsed": 792,
     "status": "ok",
     "timestamp": 1620290681990,
     "user": {
      "displayName": "",
      "photoUrl": "",
      "userId": ""
     },
     "user_tz": -120
    },
    "id": "NyFKv944uaft",
    "outputId": "e3d9840d-93ec-4709-8a51-c2e345c4385a"
   },
   "outputs": [
    {
     "data": {
      "image/png": "[encoded data removed]",
      "text/plain": [
       "<Figure size 432x288 with 1 Axes>"
      ]
     },
     "metadata": {
      "needs_background": "light"
     },
     "output_type": "display_data"
    }
   ],
   "source": [
    "# Try increasing the N  to draw a larger sample\n",
    "# Increase it by factors of 10 (4 - 40 - 400 - 4000 - 40000...) to see how the shape changes\n",
    "N=4\n",
    "scores=np.random.randint(1,6,N)\n",
    "plt.hist(scores)\n",
    "plt.show()\n",
    "\n",
    "# TIP: for more info, uncomment the next line and run\n",
    "# help(np.random)"
   ]
  },
  {
   "cell_type": "markdown",
   "metadata": {
    "id": "gxC1saKouafs"
   },
   "source": [
    "<a id= 'Normaldist'> </a>"
   ]
  },
  {
   "cell_type": "markdown",
   "metadata": {
    "id": "F3BNEZVJuaft"
   },
   "source": [
    "### 2.1 Normal distribution\n",
    "\n",
    "\n",
    "The *Gaussian* distribution is so common that it is also called a *normal* distribution. A lot of different biological processes give rise to data distributed in this fashion (e.g. heights, weights, bacteria growth...) \n",
    "\n",
    "The distribution is defined by the function:\n",
    "\n",
    "$$ y(x) =\\frac{1}{\\sigma \\sqrt{2 \\pi}} e^{-\\frac{(x-\\mu)^2}{2\\sigma^2}}$$ \n",
    "\n",
    "where $\\sigma$ is the standard devaiation and $\\mu$ is the\n",
    "arithmetic mean. Since normal distributions are perfectly symmetrical, the mean, median and mode are the same. Note that we here use *Greek* letters to denote the *TRUE* mean ($\\mu$) and standard deviation ($\\sigma$) of the population (as opposed to the *SAMPLE* mean $\\bar{x}$ and SAMPLE standard deviation $s$)."
   ]
  },
  {
   "cell_type": "code",
   "execution_count": null,
   "metadata": {
    "id": "jVLpRX9_uaft",
    "outputId": "6d3f3d8f-4cdf-4c2e-aa81-95174664b56f"
   },
   "outputs": [
    {
     "data": {
      "image/png": "[encoded data removed]",
      "text/plain": [
       "<Figure size 432x288 with 1 Axes>"
      ]
     },
     "metadata": {
      "needs_background": "light",
      "tags": []
     },
     "output_type": "display_data"
    }
   ],
   "source": [
    "# Plot a standard normal distribution where:\n",
    "# Standard deviation (sigma) = 1 \n",
    "# Mean (mu) = 0\n",
    "\n",
    "# Generate an x-vector\n",
    "x = np.arange(-4, 4, 0.1)\n",
    "\n",
    "sigma1 = 1\n",
    "mu1 = 0\n",
    "\n",
    "# Calculate a normal distribution of x with a mean of 0 \n",
    "y1 =1/(sigma1* np.sqrt(2*np.pi))*np.exp(-((x-mu1)**2)/(2 * sigma1**2))\n",
    "\n",
    "plt.plot(x,y1)\n",
    "\n",
    "# Plot the mean value as vertical line\n",
    "plt.axvline(mu1, 0, 1) \n",
    "plt.show()"
   ]
  },
  {
   "cell_type": "markdown",
   "metadata": {
    "id": "K3pUBK4Ruafu"
   },
   "source": [
    "### Try out 5: \n",
    "Plot the normal distribution with different mean and std. What changes in the plot?"
   ]
  },
  {
   "cell_type": "code",
   "execution_count": null,
   "metadata": {
    "id": "f_C0rKZ-uafu"
   },
   "outputs": [],
   "source": [
    "# Copy and modify the code above to plot the normal distribution again \n",
    "# But now with different values for mean and std.\n",
    "# What changes in the plot?\n"
   ]
  },
  {
   "cell_type": "markdown",
   "metadata": {
    "id": "0cmsr9scuafu"
   },
   "source": [
    "In a normal distribution, the majority of scores lie around the centre (main peak) of the distribution. The width of the bell says something about the variability of data, specifically how well-centered it is around the mean value. In fact, as seen in the equation above, the width is linked to the standard deviation. 68.26 % of all values can be found in the region $\\mu \\pm \\sigma$. If we increase the range to $\\mu \\pm 2\\sigma$, we account for almost ALL values, 96.44%.\n",
    "\n",
    "An example of normally distributed data can be seen in human height: \n",
    "https://ourworldindata.org/human-height#height-is-normally-distributed\n"
   ]
  },
  {
   "cell_type": "markdown",
   "metadata": {
    "id": "HMm_W3iSuafu"
   },
   "source": [
    "We can simulate drawing a sample measuring heights\n",
    "\n",
    "### Try out 6: \n",
    "Look at the code and histogram in the below code. What is the mean and the standard deviation for this distribution?"
   ]
  },
  {
   "cell_type": "code",
   "execution_count": 24,
   "metadata": {
    "colab": {
     "base_uri": "https://localhost:8080/",
     "height": 290
    },
    "executionInfo": {
     "elapsed": 1156,
     "status": "ok",
     "timestamp": 1620291443003,
     "user": {
      "displayName": "",
      "photoUrl": "",
      "userId": ""
     },
     "user_tz": -120
    },
    "id": "9kmS6l9Fuafv",
    "outputId": "04f594d3-33ae-4b3a-80b7-8f5385705327"
   },
   "outputs": [
    {
     "data": {
      "image/png": "[encoded data removed]",
      "text/plain": [
       "<Figure size 432x288 with 1 Axes>"
      ]
     },
     "metadata": {
      "needs_background": "light",
      "tags": []
     },
     "output_type": "display_data"
    }
   ],
   "source": [
    "# What is the mean and the standard deviation for this distribution\n",
    "\n",
    "# Sample size\n",
    "N = 50\n",
    "\n",
    "# Sample values\n",
    "sampleheights = np.random.normal(164,7,N)\n",
    "\n",
    "plt.hist(sampleheights)\n",
    "plt.ylabel('occurrences')\n",
    "plt.xlabel('height (cm)')\n",
    "plt.show()"
   ]
  },
  {
   "cell_type": "markdown",
   "metadata": {
    "id": "h9kYXZoouafv"
   },
   "source": [
    "### Try out 7: \n",
    "Go to the link on human heights https://ourworldindata.org/human-height#height-is-normally-distributed and find the mean and standard deviation values for of the opposite sex.\n",
    "Copy the code above and insert these values so that they correspond to samples of the opposite sex."
   ]
  },
  {
   "cell_type": "code",
   "execution_count": null,
   "metadata": {
    "id": "kHGI980yuafv"
   },
   "outputs": [],
   "source": [
    "# Copy the random sampling code above and insert the values from human height data\n",
    "# so that they correspond to samples of the opposite sex\n",
    "\n"
   ]
  },
  {
   "cell_type": "markdown",
   "metadata": {
    "id": "aptYtx83uafv"
   },
   "source": [
    "<a id= 'SampleMeanSize'> </a>"
   ]
  },
  {
   "cell_type": "markdown",
   "metadata": {
    "id": "Oawf5_4euafv"
   },
   "source": [
    "## 3. Sample mean and sample size\n",
    "\n",
    "We draw samples because it is impractical (or impossible) to measure all individuals in the whole population. We therefore need to consider the sample size needed for our sample mean ($\\bar{x}$) to be a good estimate of the true population mean ($\\mu$). \n",
    "As our sample size N increases it will start to approach the whole population, so the immediate answer is the larger the better. The reason for this we can see in the variability of sample means. Practically, however, larger samples cost resources and we will later return to what determines a reasonable N.\n",
    "\n",
    "We can investigate how the sample means vary in relation to the true population mean $\\mu$ by simulating samples from a normally distributed population. By repeatedly drawing means of a sample size N, calculating their respective sample means, and plotting these, we can see how they differ."
   ]
  },
  {
   "cell_type": "markdown",
   "metadata": {
    "id": "Ivvf_c6buafw"
   },
   "source": [
    "### Try out 8: \n",
    "Draw different samples, each with a sample size N. Then extend the code to add means for all samples and plot the histogram of the resulting scores. \n",
    "\n",
    "Compare to the true mean of the population (the one we send to the random-function). \n",
    "\n",
    "Repeat for different Ns."
   ]
  },
  {
   "cell_type": "code",
   "execution_count": 26,
   "metadata": {
    "executionInfo": {
     "elapsed": 657,
     "status": "ok",
     "timestamp": 1620291749368,
     "user": {
      "displayName": "",
      "photoUrl": "",
      "userId": ""
     },
     "user_tz": -120
    },
    "id": "ANrZ3YuVuafw"
   },
   "outputs": [],
   "source": [
    "# Draw different samples, each with a sample size N. \n",
    "\n",
    "# Sample size\n",
    "N=5\n",
    "# Mean of the population\n",
    "mean_pop = 164\n",
    "# Standard deviation of the population\n",
    "std_pop = 7\n",
    "\n",
    "# Randomly generate 5 sample from the same population\n",
    "sample1=np.random.normal(mean_pop, std_pop, N)\n",
    "sample2=np.random.normal(mean_pop, std_pop, N)\n",
    "sample3=np.random.normal(mean_pop, std_pop, N)\n",
    "sample4=np.random.normal(mean_pop, std_pop, N)\n",
    "sample5=np.random.normal(mean_pop, std_pop, N)\n",
    "\n",
    "# Extend this to add means for all samples\n",
    "allmeans= [np.mean(sample1), np.mean(sample2)]\n",
    "\n",
    "# Add code to plot the histogram of the resulting scores.\n",
    "\n",
    "# Compare to the true mean of the population\n",
    "\n",
    "# Repeat for different Ns"
   ]
  },
  {
   "cell_type": "markdown",
   "metadata": {
    "id": "gKPgVCtpuafw"
   },
   "source": [
    "<a id= 'StandardError'> </a>"
   ]
  },
  {
   "cell_type": "markdown",
   "metadata": {
    "id": "jU6LQ3ZLuafw"
   },
   "source": [
    "## 4. Standard Error of the Mean\n",
    "\n",
    "The estimate of the true population mean vary among the samples drawn from the population. As we collect more and more samples it becomes clear that **the sample means *themselves* form a distribution with some variability**. If the sample size N is large enough, most sample means will be close to the true population mean (assuming that the standard deviation of the sample means distribution is small).\n",
    "\n",
    "The standard deviation of the sample means distribution is called *standard error of the mean* and it serves as a measure of how precise our estimation of the true mean is. \n",
    "\n",
    "The effect of sample size on standard error of the mean can be seen by drawing K samples, each of size N, calculating sample means and plot them."
   ]
  },
  {
   "cell_type": "code",
   "execution_count": 10,
   "metadata": {
    "id": "cSPSVlMguafx",
    "outputId": "13f31763-58fe-4a82-a514-396756a5204f"
   },
   "outputs": [
    {
     "name": "stdout",
     "output_type": "stream",
     "text": [
      "Standard error= 6.556780389571192\n",
      "Standard error= 4.167995715668313\n",
      "Standard error= 3.379792985671171\n"
     ]
    },
    {
     "data": {
      "image/png": "[encoded data removed]",
      "text/plain": [
       "<Figure size 432x288 with 1 Axes>"
      ]
     },
     "metadata": {
      "needs_background": "light"
     },
     "output_type": "display_data"
    }
   ],
   "source": [
    "# The effect of sample size on standard error of the mean can be seen \n",
    "# by drawing K samples, each of size N, calculating sample means and plotting them. \n",
    "\n",
    "# K is the number of samples we draw\n",
    "K = 100 \n",
    "\n",
    "# N contains the sample sizes we are comparing\n",
    "N = [10, 20, 30]\n",
    "\n",
    "# Initialize an array for the sample means\n",
    "meanarr = np.zeros(K, float)\n",
    "\n",
    "for i in range(0,len(N)):                                   # For each sample size...\n",
    "    for j in range(0,K):                                    # And for each individual sample of that size...\n",
    "       score=np.random.normal(200,20,N[i])                  # Generate normally-distributed sample vector\n",
    "       meanarr[j] = score.mean()                            # Calculate the sample mean \n",
    "    count, bins, ignored = plt.hist(meanarr, density=True)  # Plot histogram with K means (corresponding to one sample size)\n",
    "    print('Standard error =', meanarr.std())                 # Print the standard error for each sample size\n",
    "\n",
    "plt.ylabel('Occurrences')\n",
    "plt.xlabel('Average Score')\n",
    "plt.show()\n",
    "\n",
    "# The plot shows that the larger samples have means that are closer to the true population mean\n",
    "# Hence they have a higher peak, with lower standard deviation (bell width)"
   ]
  },
    {
   "cell_type": "markdown",
   "metadata": {},
   "source": [
    "\n",
    "For most purposes, however, we approximate the standard error $\\sigma_{\\bar{x}}$ by using the sample standard deviation $s$ and  sample size $N$. \n",
    "\n",
    "\n",
    "$$ \\sigma_{\\bar{x}} =\\frac{s}{\\sqrt{N}}$$ "
   ]
  },
  {
   "cell_type": "markdown",
   "metadata": {
    "id": "v5aamg9juafx"
   },
   "source": [
    "### Try out 9: \n",
    "Change the number of samples drawn (K) in the code above and see how the distribution changes."
   ]
  },
  {
   "cell_type": "code",
   "execution_count": null,
   "metadata": {
    "id": "yyQi_bsAuafx"
   },
   "outputs": [],
   "source": [
    "# Copy the code above but change the number of samples drawn K and see how the distribution changes\n",
    "\n"
   ]
  },
  {
   "cell_type": "markdown",
   "metadata": {
    "id": "_Roq1r_xuafx"
   },
   "source": [
    "### Try out 10: \n",
    "Add additional sample sizes in the array for N and see the effect of the standard error."
   ]
  },
  {
   "cell_type": "code",
   "execution_count": null,
   "metadata": {
    "id": "HMCftLb6uafx"
   },
   "outputs": [],
   "source": [
    "# Copy the code above but add additional sample sizes for N and see the effect of the standard error"
   ]
  },
  {
   "cell_type": "markdown",
   "metadata": {},
   "source": [
    "ANSWER: How does the standard error of the mean change with larger N and K? How does this relate to the histogram of the means?"
   ]
  }
 ],
 "metadata": {
  "colab": {
   "name": "UX3_Descriptive.ipynb",
   "provenance": [
    {
     "file_id": "https://github.com/sofiadahl/Design_and_Analysis_of_Experiments/blob/main/DAE4_Descriptive.ipynb",
     "timestamp": 1620292873567
    }
   ]
  },
  "kernelspec": {
   "display_name": "Python 3",
   "language": "python",
   "name": "python3"
  },
  "language_info": {
   "codemirror_mode": {
    "name": "ipython",
    "version": 3
   },
   "file_extension": ".py",
   "mimetype": "text/x-python",
   "name": "python",
   "nbconvert_exporter": "python",
   "pygments_lexer": "ipython3",
   "version": "3.7.4"
  }
 },
 "nbformat": 4,
 "nbformat_minor": 4
}
