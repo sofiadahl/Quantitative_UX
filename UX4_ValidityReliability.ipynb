{
 "cells": [
  {
   "cell_type": "markdown",
   "metadata": {
    "id": "sPscppoC0--f"
   },
   "source": [
    "# UX 4 Validity and Reliability \n",
    "\n",
    "Author:\n",
    "- |\n",
    "    Sofia Dahl, sof@create.aau.dk\\\n",
    "    Dept. Architecture, Design and Media Technology, Aalborg University Copenhagen\n",
    "---\n",
    "\n",
    "## Learning Goals\n",
    "After working your way through this notebook you should be able to\n",
    "\n",
    "- Explain the difference between experimental and correlational studies\n",
    "- Explain (and give examples of how we improve)\n",
    "  + Reliability\n",
    "  + Validity\n",
    "- Calculate confidence intervals \n",
    "- Explain concept of an operational definition\n",
    "\n",
    "\n",
    "## Table of Contents\n",
    "- [1. Knowing what we measure](#Measuring)\n",
    "    - [1.1 Operational Definition](#Operational)\n",
    "    - [1.2 Measurement Error and Precision](#ErrorPrecision)\n",
    "    - [1.3 Confidence Intervals (continous data)](#ConfidenceIntervals)\n",
    "    - [1.4 Cofindence intervals for small sample sizes](#ConfidenceSmallSample)\n",
    "- [2. Reliability and validity](#Reliability)\n",
    "    - [2.1 Measurement Error and Reliability](#Error)\n",
    "    - [2.2 Internal and External Validity](#Validity)\n",
    "\n",
    "- [3. Likert Items and Scales](#Likert)"
   ]
  },
  {
   "cell_type": "code",
   "execution_count": 2,
   "metadata": {
    "executionInfo": {
     "elapsed": 1804,
     "status": "ok",
     "timestamp": 1620208124162,
     "user": {
      "displayName": "",
      "photoUrl": "",
      "userId": ""
     },
     "user_tz": -120
    },
    "id": "joBe11xy0--o"
   },
   "outputs": [],
   "source": [
    "%matplotlib inline\n",
    "import numpy as np\n",
    "import pandas as pd\n",
    "import matplotlib.pyplot as plt\n",
    "import scipy.stats as stats"
   ]
  },
  {
   "cell_type": "markdown",
   "metadata": {
    "id": "v2VSNdxU0--t"
   },
   "source": [
    "<a id= 'Measuring'> </a>"
   ]
  },
  {
   "cell_type": "markdown",
   "metadata": {},
   "source": [
    "## 1. Knowing what we measure\n",
    "The basis for the scientific method is to make experiments and observations. In a proper experiment we manipulate the independent variable (e.g. which interface users are asked to try out) and measure the dependent variable (e.g. how fast they complete a task). \n",
    "\n",
    "Because we make a manipulation, the method allow us to deduct something about the true relationship between the variables (which might not be there).\n",
    "\n",
    "\n",
    "![](./UXfigures/ScientificIdea.png \"Title\")\n",
    "\n",
    "*If we can measure an effect on the dependent variable AND exclude \n",
    "ALL other possible influences the effect should be due to our manipulation!*\n",
    "\n",
    "\n",
    "**BUT** the reality is of course less straight forward. There can be confounding variables we have not anticipated or that we are not able to control for. And we are not able to measure without some error.\n",
    "\n",
    "![](./UXfigures/ScientificReality.png \"Title\")\n",
    "\n",
    "In order to have a true experiment, participants must also be randomly assigned to the experimental or control condition (i.e. the condition we manipulate through the independent variable). Otherwise the design is called quasi-experimental."
   ]
  },
  {
   "cell_type": "markdown",
   "metadata": {},
   "source": [
    "Correlational studies are not proper experiments because they just measure a possible relationship between two variables. But without the direct manipulation we cannot be completely sure that changes in one variable actually cause the variation in the other. A measured change in the dependent variable can instead be due to confounding variables that cause the change. \n",
    "\n",
    "Still, correlational studies are used because in some cases it is simply not possible or ethical to control for all factors and randomly assign participants to groups (e.g. when investigating effect of parents' drug abuse on children's wellbeing). "
   ]
  },
  {
   "cell_type": "markdown",
   "metadata": {
    "id": "nxf9SuFR0--q"
   },
   "source": [
    "<a id= 'Operational'> </a>"
   ]
  },
  {
   "cell_type": "markdown",
   "metadata": {
    "id": "NwonJJEZ0--s"
   },
   "source": [
    "### 1.1 Operational Definition\n",
    "\n",
    "It is not enough to measure with some precision, we also need to know that our measure reflects the right thing.\n",
    "\n",
    "Before you ask a participant:\n",
    "\n",
    "*Are you a musician?*\n",
    "<YES/NO>\n",
    "\n",
    "You'd better be sure that this is the information that is of interest to you.\n",
    "Perhaps you ask this because you're interested in understanding whether participants with musical skill would have an easier task than musically untrained participants. But does your question give you this information? Consider what use the answer is ...\n",
    "\n",
    "- If the participant has played piano since young age but does not consider themself a musician?\n",
    "- If the participant does not play a musical instrument, but has been an active music consumer/listener for many years?\n",
    "\n",
    " \n",
    "As we ask, so we get answers. Hence, we'd better make sure that the question is rightly put.\n",
    "\n",
    "\n",
    "We may have a general understanding of what we mean when we say \"musician\", but in experiments we need to define it further so that it is clear. In other words, we must make *operational definitions* of concepts.  \n",
    "\n",
    "The operational definition of a musician could be, for example, \"someone who can earn money by playing music\". \n",
    "\n",
    "Note that this definition excludes a lot of persons that would probably be adept at, for instance, differentiating and recognizing musical structures. But if it is these skills we are really after, we had better measure them instead."
   ]
  },
  {
   "cell_type": "markdown",
   "metadata": {
    "id": "INbSU2dC0--s"
   },
   "source": [
    "### Try out 1: \n",
    "Make operational definitions that clarify the following hypothesis:\n",
    "\n",
    "- H1: Experienced gamers have lower reaction times than non-gamers in a \"go\" - \"no go\" task."
   ]
  },
  {
   "cell_type": "markdown",
   "metadata": {},
   "source": []
  },
  {
   "cell_type": "markdown",
   "metadata": {
    "id": "v2VSNdxU0--t"
   },
   "source": [
    "<a id= 'ErrorPrecision'> </a>"
   ]
  },
  {
   "cell_type": "markdown",
   "metadata": {},
   "source": [
    "### 1.2 Measurement error and precision.\n",
    "It's not only in quantum physics that measuring is a tricky business. Everytime we measure something, there is some error involved. In statistics, this error is typically considered to have random characteristics and it is part of evaluating statistical models (often denoted $ \\varepsilon$).\n",
    "\n",
    "So we always expect our *true* value to be muddled up with some measurement error. In the previous chapter, we could see how the *standard error of the mean* decreased with increasing sample sizes. For small samples our estimate of the true population mean is not very accurate. The larger the sample size, the closer we get to the true population mean - but for most practical purposes it is okay not to be extremely precise. Especially if larger sample sizes are connected to high costs in resources (which they typically are). \n",
    "\n",
    "In engineering, the precision of a measure is expressed as a certain *tolerance* (e.g. $\\pm 0.02$) that indicates the size of the error or how much the value is allowed to vary (without affecting the functionality). The smaller the range of tolerance, the more precise the measurement will be."
   ]
  },
  {
   "cell_type": "markdown",
   "metadata": {
    "id": "v2VSNdxU0--t"
   },
   "source": [
    "<a id= 'ConfidenceIntervals'> </a>"
   ]
  },
  {
   "cell_type": "markdown",
   "metadata": {},
   "source": [
    "### 1.3 Confidence intervals (continuous data)\n",
    "We cannot be sure about the exactness of the true value, but we can calculate confidence intervals around it. The confidence interval gives a range within which we, with some confidence, would expect the true value to end up. The width of this interval is dependent on the variation in the population (which we estimate from the sample standard deviation); the size of the sample size (as mentioned above); and the level of confidence.\n",
    "\n",
    "A *95% confidence interval* tells us that if we were to draw samples of this population 100 times, we would expect that **in 95 of these 100 samples, the true population mean would fall within the range given by the confidence interval.** \n",
    "The 95% level is common, but we are free to calculate another level, depending on how strict we need to be. \n",
    "\n",
    "We cannot control the variability in the population we sample from, so if we need to keep the confidence level fixed, the only thing left to affect the width of the confidence interval is the size of the sample.\n",
    "\n",
    "Depending on the type of data (continous, discrete, distribution, etc.) there are different ways to calculate the confidence intervals. For continuous data we can relate back to the standard error of the mean, which is the standard deviation for the distribution of sample means. Since this is normally distributed, we know that 95% of values lie within  $\\pm 1.96 \\sigma_{\\bar{x}}$  on each side. So a rough estimate of the 95% confidence interval is four times the standard error around the sample mean."
   ]
  },
  {
   "cell_type": "markdown",
   "metadata": {
    "id": "00WWs2Et0--p"
   },
   "source": [
    "<a id= 'Measuring'> </a>"
   ]
  },
  {
   "cell_type": "markdown",
   "metadata": {
    "id": "Vu1UP8ch0--q"
   },
   "source": [
    "### Try out 2\n",
    "Estimate the 95% confidence interval based on the standard error of the mean\n",
    "($ \\sigma_{\\bar{x}} =\\frac{s}{\\sqrt{n}}$)\n",
    "for the following:\n",
    "\n",
    "   - Sample mean $\\bar{x}$ 3.27\n",
    "   - Sample standard deviation s: 2.02\n",
    "   - Sample size n: 15\n",
    "\n"
   ]
  },
  {
   "cell_type": "code",
   "execution_count": 23,
   "metadata": {},
   "outputs": [
    {
     "data": {
      "text/plain": [
       "0.5215617572892655"
      ]
     },
     "execution_count": 23,
     "metadata": {},
     "output_type": "execute_result"
    }
   ],
   "source": [
    "# Use the formula above to calculate the standard error\n",
    "# Then estimate confidence interval using 1.96 times the standard error on each side of the mean\n",
    "\n",
    "x_mean = 3.27\n",
    "s = 2.02\n",
    "n = 15\n",
    "\n",
    "# Estimate standard error of mean\n",
    "st_err = s/np.sqrt(n)  \n",
    "\n",
    "st_err\n",
    "\n",
    "# Now use 1.96 to find the upper and lower limits in relation to x_mean\n",
    "\n",
    "\n"
   ]
  },
  {
   "cell_type": "markdown",
   "metadata": {
    "id": "Vu1UP8ch0--q"
   },
   "source": [
    "### Try out 3:\n",
    "Redo the above calculation for the following n:\n",
    "\n",
    " - n = 5\n",
    " - n = 30\n",
    " - n = 100\n",
    " \n",
    "ANSWER: What happens to the width of the confidence interval as n increases? "
   ]
  },
  {
   "cell_type": "code",
   "execution_count": null,
   "metadata": {},
   "outputs": [],
   "source": []
  },
  {
   "cell_type": "markdown",
   "metadata": {
    "id": "v2VSNdxU0--t"
   },
   "source": [
    "<a id= 'ConfidenceSmallSample'> </a>"
   ]
  },
  {
   "cell_type": "markdown",
   "metadata": {},
   "source": [
    "### 1.4 Cofindence intervals for small sample sizes\n",
    "We already know that small samples are inaccurate. Instead of relying on the normal distribution, another distribution called the *t-distribution* is often used, specifically for small $n$. T-distribution is symmetric and bellshaped, but its shape is slightly different for small sample sizes. Because the shape of the t-distribution is more spread out for small samples (small degrees of freedom) it helps to compensate for the underestimation in variability that is bound to happen when we do not have enough data.\n",
    "\n",
    "Here is the probability density of the t-distribution (red) for n = 2 (1 degree of freedom) compared to the normal distribution (red):\n",
    "![](https://upload.wikimedia.org/wikipedia/commons/c/cf/T_distribution_1df_enhanced.svg \"Title\")\n",
    "\n",
    "IkamusumeFan, CC BY-SA 3.0 <https://creativecommons.org/licenses/by-sa/3.0>, via Wikimedia Commons\n",
    "\n",
    "Therefore, if we want to make a more accurate estimation of confidence intervals we use the value of the t-distribution (instead of the normal) for the critical value (or $\\alpha$ level) that we are interested in. \n",
    "$$ \\bar{x}\\pm t_{(1-\\frac{\\alpha}{2})}\\frac{s}{\\sqrt{n}}$$\n",
    "\n",
    "To find the value of the t-distribution for  $\\alpha$ = 0.05, we can use functions such as [scipy.stats.t.ppf()](https://docs.scipy.org/doc/scipy/reference/generated/scipy.stats.t.html)."
   ]
  },
  {
   "cell_type": "markdown",
   "metadata": {
    "id": "Vu1UP8ch0--q"
   },
   "source": [
    "### Try out 4\n",
    "Find the t-statistic for n = 15 and  $\\alpha$ = 0.05 \n"
   ]
  },
  {
   "cell_type": "code",
   "execution_count": 12,
   "metadata": {},
   "outputs": [
    {
     "name": "stdout",
     "output_type": "stream",
     "text": [
      "-1.7613101357748564\n"
     ]
    }
   ],
   "source": [
    "# Find t-statsistic for critical value (alpha level) of 0.05\n",
    "\n",
    "crit = 0.05 # Critical value (our cut-off point in the distribution)\n",
    "n = 15      # Number of values in sample\n",
    "df = n-1    # Remaining degrees of freedom\n",
    "\n",
    "t_out = stats.t.ppf(crit, df)\n",
    "print(t_out)"
   ]
  },
  {
   "cell_type": "markdown",
   "metadata": {},
   "source": [
    "However, what is needed in order to calculate our 95% confidence interval,  is the t-value for $1-\\frac{\\alpha}{2}$"
   ]
  },
  {
   "cell_type": "code",
   "execution_count": 19,
   "metadata": {},
   "outputs": [
    {
     "name": "stdout",
     "output_type": "stream",
     "text": [
      "2.14\n"
     ]
    }
   ],
   "source": [
    "# Find t-statsistic for critical value of upper tail where p = 0.025\n",
    "\n",
    "crit = 1 - (0.05) / 2 # Critical value (our cut-off point in the distribution)\n",
    "n = 15                # Number of values in sample\n",
    "df = n-1              # Remaining degrees of freedom\n",
    "\n",
    "t_out = stats.t.ppf(crit, df)\n",
    "print(round(t_out, ndigits = 2)) # We round off the result to make it more readable"
   ]
  },
  {
   "cell_type": "markdown",
   "metadata": {
    "id": "Vu1UP8ch0--q"
   },
   "source": [
    "We can now modify the above code to get t-values and recalculate the confidence interval in *Try out 2*:"
   ]
  },
  {
   "cell_type": "code",
   "execution_count": 42,
   "metadata": {},
   "outputs": [
    {
     "name": "stdout",
     "output_type": "stream",
     "text": [
      "confidence interval lower\n",
      "2.15\n",
      "confidence interval upper\n",
      "4.39\n"
     ]
    }
   ],
   "source": [
    "x_mean = 3.27\n",
    "s = 2.02\n",
    "crit = 1 - (0.05) / 2 # Critical value (our cut-off point in the distribution)\n",
    "n = 15                # Number of values in sample\n",
    "df = n-1              # Remaining degrees of freedom\n",
    "\n",
    "# Estimate standard error of mean\n",
    "st_err = s / np.sqrt(n)  \n",
    "\n",
    "t_out = stats.t.ppf(crit, df)\n",
    "\n",
    "print(\"confidence interval lower\")\n",
    "print(round(x_mean - t_out * st_err, ndigits = 2))\n",
    "print(\"confidence interval upper\")\n",
    "print(round(x_mean + t_out * st_err, ndigits = 2))"
   ]
  },
  {
   "cell_type": "markdown",
   "metadata": {},
   "source": [
    "So this means that the true mean is likely to be in the interval between 2.15 and 4.39.\n",
    "\n",
    "Now, statistical packages typically do all the hard work for you. You just have to be careful that you know what you ask the functions to do (use the help and documentation!).  This is example 2 from the book:"
   ]
  },
  {
   "cell_type": "code",
   "execution_count": 39,
   "metadata": {},
   "outputs": [
    {
     "data": {
      "text/plain": [
       "(2.149912031053861, 4.383421302279473)"
      ]
     },
     "execution_count": 39,
     "metadata": {},
     "output_type": "execute_result"
    }
   ],
   "source": [
    "data = np.array([3,5,3,7,1,6,2,5,1,1,3,2,6,2,2])\n",
    "\n",
    "# Create 95% confidence interval for population mean\n",
    "stats.t.interval(alpha=0.95, df=len(data)-1, loc=np.mean(data), scale=stats.sem(data))\n"
   ]
  },
  {
   "cell_type": "markdown",
   "metadata": {},
   "source": [
    "### Try out 5\n",
    "Recalculate the confidence interval i *Try out 3*.\n",
    "\n",
    "ANSWER: is the confidence interval based on t-values larger or smaller compared to that based on 1.96 * standard error? \n",
    " - n = 5\n",
    " - n = 30\n",
    " - n = 100"
   ]
  },
  {
   "cell_type": "code",
   "execution_count": null,
   "metadata": {},
   "outputs": [],
   "source": []
  },
  {
   "cell_type": "markdown",
   "metadata": {
    "id": "v2VSNdxU0--t"
   },
   "source": [
    "<a id= 'Reliability'> </a>"
   ]
  },
  {
   "cell_type": "markdown",
   "metadata": {
    "id": "_SO4lU9J0--u"
   },
   "source": [
    "## 2. Reliability and Validity\n",
    "\n",
    "A good experiment should collect measurements that are *reliable* and *valid*. \n",
    "\n",
    "*Reliability:* Means that the measure can produce the same results on repeating the experiment under the same conditions. \n",
    "\n",
    "\n",
    "*Validity:* Means that we are measuring what we intend to measure.\n",
    "\n",
    "The two concepts can be illustrated in the following way, where the \"Bull's Eye\" would be the question that we are actually after. Although a measure can be very unreliable (lots of measurement error) it can still be valid, in that the \"center\" of the measurement is aimed at the right thing. But if the reliability is poor, it will be difficult nonetheless.\n",
    "\n",
    "![](./UXfigures/Reliability_and_validity.png \"Title\")\n",
    "\n",
    "\n",
    "© Nevit Dilmen, CC BY-SA 3.0 <https://creativecommons.org/licenses/by-sa/3.0>, via Wikimedia Commons\n",
    "\n",
    "https://upload.wikimedia.org/wikipedia/commons/5/5d/Reliability_and_validity.svg"
   ]
  },
  {
   "cell_type": "markdown",
   "metadata": {
    "id": "QngdeR-S0--v"
   },
   "source": [
    "<a id= 'Error'> </a>"
   ]
  },
  {
   "cell_type": "markdown",
   "metadata": {
    "id": "3TL3CTzs0--w"
   },
   "source": [
    "### 2.1  Reliability\n",
    "We can test, and retest, a technical system to see that the same input consistently gives the same output - that it is reliable. \n",
    "But how can we assess reliability when collecting data from human participants? Also here, we can estimate the consistency by *measuring and re-measuring*. For instance, by asking a participants to rate the same stimulus several times to check test-retest reliability. Either on different test occasions or by repeating the same task on the same test occasion (Preferably mixed with other stimuli so that the repetition is not too obvious). You can also look for inter-rater reliability by comparing ratings from several people. If the ratings are the same, or very similar, you have a reliable measure (similar to the points gathered close together in the target images)."
   ]
  },
  {
   "cell_type": "markdown",
   "metadata": {
    "id": "SsHTZbQ50--x"
   },
   "source": [
    "### Try out 6: \n",
    "Return to the hypothesis H1 in *Try out 1* above and think of where you are likely to have measurement error. How can you assess whether your measure is reliable?"
   ]
  },
  {
   "cell_type": "markdown",
   "metadata": {},
   "source": []
  },
  {
   "cell_type": "markdown",
   "metadata": {
    "id": "0WWzQs2m0--y"
   },
   "source": [
    "### Try out 7: \n",
    "Measure the following types of data seven (7) times each:\n",
    "\n",
    "- Measure the length of your index finger in mm with a ruler. \n",
    "- Your reaction time 7 times (e.g. here https://humanbenchmark.com/tests/reactiontime )\n",
    "- Download speed of your internet connection (e.g. here https://tjekbredbaand.dk/hastighedstest )\n",
    "\n",
    "Enter the data in arrays and plot in the code below. How big a measurement error would you say you have?\n",
    "How reliable would you say your measurement is? \n"
   ]
  },
  {
   "cell_type": "code",
   "execution_count": 3,
   "metadata": {
    "colab": {
     "base_uri": "https://localhost:8080/",
     "height": 282
    },
    "executionInfo": {
     "elapsed": 1254,
     "status": "ok",
     "timestamp": 1620208824519,
     "user": {
      "displayName": "",
      "photoUrl": "",
      "userId": ""
     },
     "user_tz": -120
    },
    "id": "smFaAxeg0--z",
    "outputId": "7be5b33a-a2f2-441e-a260-db40641f2eee"
   },
   "outputs": [
    {
     "data": {
      "text/plain": [
       "Text(0, 0.5, 'Download Speed (Mbps)')"
      ]
     },
     "execution_count": 3,
     "metadata": {},
     "output_type": "execute_result"
    },
    {
     "data": {
      "image/png": "[encoded data removed]",
      "text/plain": [
       "<Figure size 864x288 with 3 Axes>"
      ]
     },
     "metadata": {
      "needs_background": "light"
     },
     "output_type": "display_data"
    }
   ],
   "source": [
    "# Measure the length seven times and enter in the variable Len (e.g. 9.0, 9.1,9.11, ...)\n",
    "Len = np.array([])\n",
    "\n",
    "# Record reacation time 7 times and enter in variable RT\n",
    "RT = np.array([])\n",
    "\n",
    "# Record Download speed time 7 times and enter in variable Speed\n",
    "Speed = np.array([])\n",
    "\n",
    "fig,(ax1, ax2, ax3) = plt.subplots(1, 3, figsize=(12.0, 4.0))\n",
    "\n",
    "ax1.plot(Len,'r+') #scatter plot with red crosses \n",
    "ax2.plot(RT, 'b*') #scatter plot in blue \n",
    "ax3.plot(Speed, 'ko') #scatter plot in black \n",
    "\n",
    "ax1.set_ylabel('Length (mm)')\n",
    "ax2.set_ylabel('Reaction time (ms)')\n",
    "ax3.set_ylabel('Download Speed (Mbps)')\n"
   ]
  },
  {
   "cell_type": "markdown",
   "metadata": {},
   "source": [
    "Task time and reaction time data often show positively skewed distributions, which means that arithmetic means are less suitable. As [Sauro & Lewis](https://books.google.dk/books?hl=en&lr=&id=USPfCQAAQBAJ&oi=fnd&pg=PP1&dq=Quantifying+the+User+Experience+Practical+Statistics+for+User+Research&ots=Vy_iZ_dmMj&sig=4VbjNb1uUOsABOLFmGGaqpziuLk&redir_esc=y#v=onepage&q=Quantifying%20the%20User%20Experience%20Practical%20Statistics%20for%20User%20Research&f=false) argue, the geometric mean makes a better estimate (in particular for small sample sizes) and the confidence interval calculations should be based on the t-value for *log transformed* data.\n",
    "\n",
    "For your download time variable (Speed) the logarithmic transformation (and back) can look like this: "
   ]
  },
  {
   "cell_type": "code",
   "execution_count": 33,
   "metadata": {},
   "outputs": [
    {
     "data": {
      "text/plain": [
       "[<matplotlib.lines.Line2D at 0x7fe9e13ea7f0>]"
      ]
     },
     "execution_count": 33,
     "metadata": {},
     "output_type": "execute_result"
    },
    {
     "data": {
      "image/png": "[encoded data removed]",
      "text/plain": [
       "<Figure size 864x288 with 2 Axes>"
      ]
     },
     "metadata": {
      "needs_background": "light"
     },
     "output_type": "display_data"
    }
   ],
   "source": [
    "# Logarithmically transformed values\n",
    "log_Speed = np.log(Speed) \n",
    "\n",
    "fig,(ax1,ax2) = plt.subplots(1, 2, figsize=(12.0, 4.0))\n",
    "\n",
    "ax1.set_ylabel('Download Speed (Mbps)')\n",
    "ax2.set_ylabel('Logtransformed Speed')\n",
    "\n",
    "ax1.plot(Speed, 'ko') # Scatter plot in black \n",
    "ax2.plot(log_Speed, 'bo')  # Note difference on y-axis\n",
    "\n",
    "# Re-transformed data\n",
    "retrans_Speed = np.exp(log_Speed)\n",
    "\n",
    "ax1.plot(retrans_Speed, 'r+') # Plot and check that values are the same as original"
   ]
  },
  {
   "cell_type": "markdown",
   "metadata": {},
   "source": [
    "### Try out 8:\n",
    "Calculate geometric mean and confidence interval for your collected sample of reaction times."
   ]
  },
  {
   "cell_type": "code",
   "execution_count": 35,
   "metadata": {},
   "outputs": [],
   "source": [
    "# Get the geometric mean from original data\n",
    "# RT_gmean = stats.gmean(RT)\n",
    "\n",
    "# Log-transform original data\n",
    "# np.log(RT)\n",
    "\n",
    "\n",
    "# Then proceed as before with t-distribution:\n",
    "# find confidence intervals based on transformed values\n",
    "# use np.exp() to exponentiate these bounds back to original time scale"
   ]
  },
  {
   "cell_type": "markdown",
   "metadata": {
    "id": "4HBTOi3W0--1"
   },
   "source": [
    "<a id= 'Validity'> </a>"
   ]
  },
  {
   "cell_type": "markdown",
   "metadata": {
    "id": "1aG7sQL80--1"
   },
   "source": [
    "### 2.2  Internal and External Validity\n",
    "\n",
    "We can have highly reliable but invalid results if we, for example, recruit participants that are systematically different from the intended population. This would yield a problem with *external validity*, as the results do not generalize to the larger population.\n",
    "\n",
    "Badly planned experiments can also have problem with *internal validity*. One example of this would be if there are unintended systematic differences between experimental and control groups (other than by our manipulation). For instance, data would likely be invalid if we recruit participants to the control group from passers-by in the street, but the experimental group consists of our friends and colleagues.\n",
    "\n",
    "How can we check for validity? In the case of finding out if someone has musical skill, we can compare their self-report of musical skill with the judgments of experts. For instance, by letting several music teachers independently assess the participant's skill. If their assessments agree with the self-report, there is good support for the validity of our measurement instrument. "
   ]
  },
  {
   "cell_type": "markdown",
   "metadata": {},
   "source": [
    "## 2.3 Likert items and Scales\n",
    "\n",
    "From the above, we've learned that it is important that we measure what we set out to capture, and that the reliability of the measure is good enough to avoid excessive measurement error.\n",
    "\n",
    "Likert scales attempt to do this by combining *multiple* ratings of statements (items) that contribute toward one *construct* that we are interested in measuring. The idea is to reduce the measurement error by having many items targeting the same question as in this case:\n",
    "\n",
    "<img src=\"https://upload.wikimedia.org/wikipedia/commons/3/38/Multi-item_psychometric_scale.jpg\" width=\"500\">\n",
    "Mark Robinson, CC BY 4.0 <https://creativecommons.org/licenses/by/4.0>, via Wikimedia Commons\n",
    "\n",
    "\n"
   ]
  },
  {
   "cell_type": "markdown",
   "metadata": {},
   "source": [
    "An example of a Likert scale is [The System Usability Scale (SUS)](https://en.wikipedia.org/wiki/System_usability_scale), which consists of 10 items with statements that are rated from 1 (strongly disagree) to 5 (strongly agree). All items are targeting the experienced usability (and learnability) of the system and contribute toward a combined score. Note that the scale is *balanced* in that there are both positively and negatively formulated statements. When scoring, the ratings of negative items needs to be \"inverted\" or \"flipped\".\n",
    "\n",
    "The SUS has been validated against other measures. By calculating measures for internal consistency (such as Cronbach alpha) and testing and re-testing, the reliability is assessed.\n",
    "\n",
    "If we do not use the FULL scale, including all the items, the reliability and validity of the measure instrument is likely to be affected. "
   ]
  }
 ],
 "metadata": {
  "colab": {
   "name": "UX4_ValidityReliability.ipynb",
   "provenance": [
    {
     "file_id": "https://github.com/sofiadahl/Design_and_Analysis_of_Experiments/blob/main/DAE3_MeasuringValidityReliability.ipynb",
     "timestamp": 1620209439124
    }
   ]
  },
  "kernelspec": {
   "display_name": "Python 3",
   "language": "python",
   "name": "python3"
  },
  "language_info": {
   "codemirror_mode": {
    "name": "ipython",
    "version": 3
   },
   "file_extension": ".py",
   "mimetype": "text/x-python",
   "name": "python",
   "nbconvert_exporter": "python",
   "pygments_lexer": "ipython3",
   "version": "3.7.4"
  }
 },
 "nbformat": 4,
 "nbformat_minor": 4
}
