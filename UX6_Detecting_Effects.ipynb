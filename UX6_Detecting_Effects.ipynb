{
 "cells": [
  {
   "cell_type": "markdown",
   "metadata": {
    "id": "oljV2Xl36il0"
   },
   "source": [
    "# UX 6 Detecting Effects\n",
    "\n",
    "Author:\n",
    "- |\n",
    "    Sofia Dahl, sof@create.aau.dk\\\n",
    "    Dept. Architecture, Design and Media Technology, Aalborg University Copenhagen\n",
    "---\n",
    "\n",
    "After working your way through this notebook you should be able to..\n",
    "-   Explain the rationale for statistical testing\n",
    "-   Give examples of Type I and Type II errors       \n",
    "-   Perform Chi-square test on contingency table categorical data\n",
    "\n",
    "  Table of Contents\n",
    "  -----\n",
    "- [1 Detecting effects](#Effects)\n",
    "    - [1.1 Comparing Game scores of two groups](#GameScores)\n",
    "    - [1.2 Systematic and Unsystematic Variance](#SystematicUnsystematic)\n",
    "- [2. Statistical Testing](#Stattest)\n",
    "    - [2.1 Type I and II errors](#Errors)\n",
    "    - [2.2 Effect Size](#Effectsize)\n",
    "    - [2.3 Statistical Power ](#Power)\n",
    "- [3 Comparing Categorical Response Variables](#CategoricalResponses)\n",
    "    - [3.1 Chi-Square Test](#Chi-Square)\n",
    "    - [3.2 Degrees of Freedom for Contingency Tables](#dof) \n",
    "    - [3.3 N-1 Chi-square test](#ChiN-1) \n",
    "    "
   ]
  },
  {
   "cell_type": "code",
   "execution_count": 3,
   "metadata": {
    "executionInfo": {
     "elapsed": 876,
     "status": "ok",
     "timestamp": 1620903929429,
     "user": {
      "displayName": "Prithvi Kantan",
      "photoUrl": "https://lh3.googleusercontent.com/a-/AOh14GiCLUP5h_S53ydSDrgq_SLOZBd5_3wFs87fFb5XQA=s64",
      "userId": "18111691564717832004"
     },
     "user_tz": -120
    },
    "id": "ZwTdsVAW6il9"
   },
   "outputs": [],
   "source": [
    "%matplotlib inline\n",
    "\n",
    "import numpy as np\n",
    "import pandas as pd\n",
    "import matplotlib.pyplot as plt\n",
    "import scipy.stats as stats"
   ]
  },
  {
   "cell_type": "code",
   "execution_count": null,
   "metadata": {},
   "outputs": [],
   "source": [
    "from google.colab import files\n",
    "\n",
    "uploaded = files.upload()"
   ]
  },
  {
   "cell_type": "markdown",
   "metadata": {
    "id": "OPyVKhVjDQO_"
   },
   "source": [
    "## 1. Detecting effects\n",
    "In the previous chapter, we looked qt Gaussian heights curves for males and females. We can view this  as comparison of data sets from two groups (males and females), where the change of an independent variable (a chromosome) result in a measurable effect that differentiates the two data sets. For the \n",
    "two height curves shown, the chromosome (x or y) is typically not something we manipulate in an experiment. Neither is nutruition or some other factors related to height. Let us stay with the normally distributed data, but take other examples of data."
   ]
  },
  {
   "cell_type": "markdown",
   "metadata": {},
   "source": [
    "<a id= 'GameScores'> </a>"
   ]
  },
  {
   "cell_type": "markdown",
   "metadata": {},
   "source": [
    "### 1.1 Comparing Game scores of two groups\n",
    "Let us take an example of game scores for an experimental and a control group. In the experimental group, additional audio cues were given whereas the control group received none. \n",
    "Did the additional cues (independent variable) have an effect on the resulting scores (dependent variable)?\n",
    "\n",
    "Below is the code to plot hypothetical normal distributions for the scores of the two groups. \n",
    "Note that the curves are overlapping to some extent, depending on the mean and standard deviation of the two distributions. The smaller the standard deviation of the distributions and the further apart the mean values are, the more evident the difference between them becomes. \n"
   ]
  },
  {
   "cell_type": "code",
   "execution_count": 4,
   "metadata": {
    "colab": {
     "base_uri": "https://localhost:8080/",
     "height": 265
    },
    "executionInfo": {
     "elapsed": 1215,
     "status": "ok",
     "timestamp": 1620475038845,
     "user": {
      "displayName": "Prithvi Kantan",
      "photoUrl": "https://lh3.googleusercontent.com/a-/AOh14GiCLUP5h_S53ydSDrgq_SLOZBd5_3wFs87fFb5XQA=s64",
      "userId": "18111691564717832004"
     },
     "user_tz": -120
    },
    "id": "4WsTHqiUDQO_",
    "outputId": "6cf7dd7e-d49b-44a6-cd93-d0b6a7ae0041"
   },
   "outputs": [
    {
     "data": {
      "image/png": "[encoded data removed]",
      "text/plain": [
       "<Figure size 432x288 with 1 Axes>"
      ]
     },
     "metadata": {
      "needs_background": "light"
     },
     "output_type": "display_data"
    }
   ],
   "source": [
    "# Generate an x-vector of scores\n",
    "score = np.arange(0, 1500, 1)\n",
    "\n",
    "# Make up scores of control group\n",
    "cont_m=500\n",
    "cont_std=210\n",
    "\n",
    "from scipy.stats import norm\n",
    "\n",
    "# Plot the probability density function for control group\n",
    "control = norm.pdf(score, loc = cont_m, scale = cont_std)  \n",
    "plt.plot(score,control, c='orange') # Plot the control group\n",
    "plt.axvline(cont_m, 0, 1, c='orange') # Mark the aveage\n",
    "\n",
    "# Make up scores of experimental group\n",
    "exper_m=830\n",
    "exper_std=205\n",
    "\n",
    "# Plot the probability density function for experimental group\n",
    "exper = norm.pdf(score , loc = exper_m, scale = exper_std)\n",
    "plt.plot(score, exper, c='blue') # Plot the experimental group\n",
    "plt.axvline(exper_m, 0, 1, c='blue') # Mark the aveage\n",
    "\n",
    "plt.xlabel('Game scores') \n",
    "\n",
    "# Let us also mark the upper 5% in the control group\n",
    "plt.axvline(cont_m+1.96*cont_std, 0, 0.2, c='orange')\n",
    "\n",
    "plt.show()"
   ]
  },
  {
   "cell_type": "markdown",
   "metadata": {
    "id": "Go05dKjPDQO_"
   },
   "source": [
    "\n",
    "As can be seen, the experimental group performs better overall. But still the overlap between the curves is such that the probability of obtaining the **blue mean value** from the **orange curve** is more than 0.05 (corresponding to 5%). \n",
    "\n",
    "### Try out 1:\n",
    "Copy the code and redo the plot but reduce the standard deviation to half. What is the position of the mean value of the experimental group in relation to the critical value (the line calculated from significance level) now?\n"
   ]
  },
  {
   "cell_type": "code",
   "execution_count": null,
   "metadata": {},
   "outputs": [],
   "source": []
  },
  {
   "cell_type": "markdown",
   "metadata": {},
   "source": [
    "<a id= 'SystematicUnsystematic'> </a>"
   ]
  },
  {
   "cell_type": "markdown",
   "metadata": {
    "id": "YwdF08aoDQPA"
   },
   "source": [
    "### 1.2 Systematic and Unsystematic Variance\n",
    "\n",
    "In a well-controlled experiment, the systematic variance should *only* be due to the manipulation of the independent variable. Otherwise we will have difficulties in interpreting the results correctly (see Chapter 4 on Validity and Reliability). But we will still have other variability, and this is our unsystematic variability. \n",
    "\n",
    "- Unsystematic variance in data is essentially random variability. It can be due to preferences, measurement errors etc. \n",
    "\n",
    "- Systematic variance, on the other hand, is something that causes a systematic difference in measurements between groups. \n",
    "\n",
    "\n",
    "We can return to the game scores above to illustrate these variances. If the null hypothesis was true *(\"There are no differences in game scores between experimental and control group\")*, we would consider all the collected data points to belong to *one* distribution rather than to two different populations with different means. When you manipulated the standard deviation in Try out 1, you saw the effect of reducing the unsystematic variance.  \n",
    "\n",
    "### Try out 2:\n",
    "Change the mean values for the two groups and redo the plots. Have you manipulated the systematic or unsystematic variance?\n"
   ]
  },
  {
   "cell_type": "markdown",
   "metadata": {},
   "source": [
    "<a id= 'Stattest'> </a>"
   ]
  },
  {
   "cell_type": "markdown",
   "metadata": {},
   "source": [
    "## 2. Statistical testing\n",
    "\n",
    "We have already used z-scores and a single sample t-test. The rationale behind several statistical tests used to compare groups (experimental and control) is very similar: \n",
    "\n",
    "First we calculate a statistic suitable to the data that we have collected.  We then determine if it falls in the *critical region*. That is, if the difference between the values is so large that the statistic is unlikely to pop up by chance. That is, the *statistic* itself has a distribution, and it is now in that distribution we check what the probability is to randomly draw that value. \n",
    "\n",
    "Here is an example of chi-square ($\\chi^2$) distribution that we will use a bit further down in this notebook: \n",
    "\n",
    "<a title=\"Geek3, CC BY 3.0 &lt;https://creativecommons.org/licenses/by/3.0&gt;, via Wikimedia Commons\" href=\"https://commons.wikimedia.org/wiki/File:Chi-square_pdf.svg\"><img width=\"512\" alt=\"Chi-square pdf\" src=\"https://upload.wikimedia.org/wikipedia/commons/thumb/3/35/Chi-square_pdf.svg/512px-Chi-square_pdf.svg.png\"></a>\n",
    "\n",
    "You can look up the critical value, the cut-off point for the critical region, in a table. This value depend on the chosen significance level (\"alpha\", $\\alpha$) and the *degrees of freedom* (df). Now, most test functions perform this look-up for you, and report the probability directly. Note, however, that when reporting statistical results, one is expected not only to report the probability and whether this is below the chosen criteria for significance, but also the actual test statistics and degrees of freedom (so that the reader can check that the results appear sound).\n"
   ]
  },
  {
   "cell_type": "markdown",
   "metadata": {
    "id": "21yDWP8XDQPG"
   },
   "source": [
    "<a id= 'Errors'> </a>"
   ]
  },
  {
   "cell_type": "markdown",
   "metadata": {
    "id": "tC147ToeDQPG"
   },
   "source": [
    "### 2.1 Type I and II errors \n",
    "\n",
    "As we stated earlier, the chosen significance level ($\\alpha$-level) is a criterion for what we are willing to accept as rejecting the null hypothesis on false grounds. This is one of two errors we can make in inferential statistics:\n",
    "\n",
    "- Type I: Falsely stating that there is a statistically significant effect when, in truth, the result occured by chance.\n",
    "- Type II: Falsely stating that there is NO statistically significant effect when there actually is an effect.\n",
    "\n",
    "By chosing the 0.05 criteria, we accept that 5% of the time, we will reject the null hypothesis and be utterly wrong.\n",
    "We can select a stricter significance level. If we use an $\\alpha$-level of 0.01, we will only make a Type I error 1% of the time, but on the other hand the probability of making a Type II error (we call this $\\beta$) is now increased.\n",
    "\n",
    "Both these can be problematic and the context and consequences of the error must decide what criteria that makes sense to use. \n",
    "\n"
   ]
  },
  {
   "cell_type": "markdown",
   "metadata": {
    "id": "OUUiW07MDQPA"
   },
   "source": [
    "<a id= 'Effectsize'> </a>"
   ]
  },
  {
   "cell_type": "markdown",
   "metadata": {
    "id": "FbQh2CL9DQPA"
   },
   "source": [
    "### 2.2 Effect size\n",
    "As we have touched upon earlier, the cut-off point of the statistical significance can be adjusted, and the actual critical value also depends on the size of the sample and its spread. In cases where we find that the experimental group has scores different from the control group, we also want to know the size of the effect. This helps us to interpret and make decisions based on the results. Is it really worth the cost of implementing the audio cues in the game? Does the effect warrant an investment in high quality headphones? \n",
    "\n",
    "The *effect size* gives us a measure of **how much of the variability in the data the effect accounts for**. Or simply put, how much of the total variability in data that the systematic variance can explain.\n",
    "\n",
    "In the first plot with the game scores, it corresponds to the difference between experimental and control group means. There are different ways to calculate the actual effect size but for now we can think of it as a distance between the means of the two groups. "
   ]
  },
  {
   "cell_type": "markdown",
   "metadata": {
    "id": "m_xJ-sFLDQPG"
   },
   "source": [
    "<a id= 'Power'> </a>"
   ]
  },
  {
   "cell_type": "markdown",
   "metadata": {
    "id": "cLaPXgwVDQPG"
   },
   "source": [
    "### 2.3 Statistical power\n",
    "The *power* of a test is the probability of detecting an effect (if it really exists). The probability of **not detecting a genuine effect** is $\\beta$ and so the probability of actually detecting it is 1-$\\beta$. \n",
    "Several resarchers think a reasonable rule of thumb is to detect the actual effect 80% of times ($1-\\beta=0.8$).\n",
    "\n",
    "The power will vary some with the actual statistical tests we use (e.g. parametric or non parametric). More imporantly, having made up our mind about the criteria to select for $\\alpha$ and $\\beta$, and with some idea about the effect size (either from pilot data or earlier literature), we can use this to calculate the sample size needed to actually detect the effect (if any). This is very useful, because it takes time and resources to collect and analyze data. If the effect is small (r=0.1) we would need to recruit 783 participants to detect it with $\\alpha=0.05$ and $\\beta=0.2$. It is therefore a good investment to estimate the effect size and go through a series of pilot tests to see if changing instructions, making special recruitment criteria or similar can reduce variability and increase effect size."
   ]
  },
  {
   "cell_type": "markdown",
   "metadata": {
    "id": "Dvv1EwSy6imH"
   },
   "source": [
    "<a id= 'CategoricalResponses'> </a>"
   ]
  },
  {
   "cell_type": "markdown",
   "metadata": {
    "id": "1c_t2y1x6imH"
   },
   "source": [
    "## 3. Comparing categorical response variables\n",
    "\n",
    "What about when we have data in response categories, for instance completion rates? If we have larger samples where these can be viewed as proportions/percentages the data becomes more continous. But we can also perform comparions with discrete binary data by testing whether one condition is occurring more than the others. \n",
    "\n",
    "For instance, if users are testing two designs and asked to pick which one they prefer we can compare the number of times the design 'X'  was selected compared to the alternative 'Y'. We then compare this with what would have been expected *if the selection had been random*. That is, if participants had just randomly picked one of the designs without even bothering to try them out.\n",
    "\n",
    "Let us take an example where participants have tried out one of two different designs (A or B) and we record their completion (pass, fail)"
   ]
  },
  {
   "cell_type": "code",
   "execution_count": 5,
   "metadata": {
    "colab": {
     "base_uri": "https://localhost:8080/",
     "height": 166
    },
    "executionInfo": {
     "elapsed": 512,
     "status": "ok",
     "timestamp": 1620908801732,
     "user": {
      "displayName": "Prithvi Kantan",
      "photoUrl": "https://lh3.googleusercontent.com/a-/AOh14GiCLUP5h_S53ydSDrgq_SLOZBd5_3wFs87fFb5XQA=s64",
      "userId": "18111691564717832004"
     },
     "user_tz": -120
    },
    "id": "nuEqLeadC07B",
    "outputId": "85ac793a-536c-4876-a6a3-3f710d533b13"
   },
   "outputs": [
    {
     "data": {
      "text/html": [
       "<div>\n",
       "<style scoped>\n",
       "    .dataframe tbody tr th:only-of-type {\n",
       "        vertical-align: middle;\n",
       "    }\n",
       "\n",
       "    .dataframe tbody tr th {\n",
       "        vertical-align: top;\n",
       "    }\n",
       "\n",
       "    .dataframe thead th {\n",
       "        text-align: right;\n",
       "    }\n",
       "</style>\n",
       "<table border=\"1\" class=\"dataframe\">\n",
       "  <thead>\n",
       "    <tr style=\"text-align: right;\">\n",
       "      <th></th>\n",
       "      <th>Participant</th>\n",
       "      <th>Design</th>\n",
       "      <th>Success</th>\n",
       "    </tr>\n",
       "  </thead>\n",
       "  <tbody>\n",
       "    <tr>\n",
       "      <th>0</th>\n",
       "      <td>1</td>\n",
       "      <td>A</td>\n",
       "      <td>Pass</td>\n",
       "    </tr>\n",
       "    <tr>\n",
       "      <th>1</th>\n",
       "      <td>2</td>\n",
       "      <td>A</td>\n",
       "      <td>Fail</td>\n",
       "    </tr>\n",
       "    <tr>\n",
       "      <th>2</th>\n",
       "      <td>3</td>\n",
       "      <td>A</td>\n",
       "      <td>Fail</td>\n",
       "    </tr>\n",
       "    <tr>\n",
       "      <th>3</th>\n",
       "      <td>4</td>\n",
       "      <td>A</td>\n",
       "      <td>Pass</td>\n",
       "    </tr>\n",
       "  </tbody>\n",
       "</table>\n",
       "</div>"
      ],
      "text/plain": [
       "   Participant Design Success\n",
       "0            1      A    Pass\n",
       "1            2      A    Fail\n",
       "2            3      A    Fail\n",
       "3            4      A    Pass"
      ]
     },
     "execution_count": 5,
     "metadata": {},
     "output_type": "execute_result"
    }
   ],
   "source": [
    "# The data for the different participants and their completion could look something like this: \n",
    "df = pd.DataFrame({'Participant': [1, 2, 3, 4, 5, 6, 7, 8, 9, 10,\n",
    "                            11, 12, 13, 14, 15, 16, 17, 18, 19, 20],\n",
    "                 'Design': ['A', 'A', 'A', 'A', 'B', 'B', 'B', 'B', 'B', 'B', 'B',\n",
    "                            'B', 'A', 'B', 'B', 'B', 'A', 'A', 'A', 'A'],\n",
    "                   'Success': ['Pass', 'Fail', 'Fail', 'Pass', 'Pass', 'Fail',\n",
    "                               'Fail', 'Fail', 'Fail', 'Fail', 'Pass', 'Pass', 'Pass',\n",
    "                               'Pass', 'Pass', 'Pass', 'Pass', 'Pass', 'Fail', 'Pass']})\n",
    "# Print out the first four participants\n",
    "df.head(4)"
   ]
  },
  {
   "cell_type": "markdown",
   "metadata": {
    "id": "7mDnAWXgC07B"
   },
   "source": [
    "This can now be summarized in a contingency table with Designs in the rows, and completion success in columns."
   ]
  },
  {
   "cell_type": "code",
   "execution_count": 6,
   "metadata": {
    "colab": {
     "base_uri": "https://localhost:8080/",
     "height": 136
    },
    "executionInfo": {
     "elapsed": 468,
     "status": "ok",
     "timestamp": 1620908878287,
     "user": {
      "displayName": "Prithvi Kantan",
      "photoUrl": "https://lh3.googleusercontent.com/a-/AOh14GiCLUP5h_S53ydSDrgq_SLOZBd5_3wFs87fFb5XQA=s64",
      "userId": "18111691564717832004"
     },
     "user_tz": -120
    },
    "id": "WtiKmjYpC07C",
    "outputId": "680ecd9e-62c7-4e5d-dee4-9219de85aa95"
   },
   "outputs": [
    {
     "data": {
      "text/html": [
       "<div>\n",
       "<style scoped>\n",
       "    .dataframe tbody tr th:only-of-type {\n",
       "        vertical-align: middle;\n",
       "    }\n",
       "\n",
       "    .dataframe tbody tr th {\n",
       "        vertical-align: top;\n",
       "    }\n",
       "\n",
       "    .dataframe thead th {\n",
       "        text-align: right;\n",
       "    }\n",
       "</style>\n",
       "<table border=\"1\" class=\"dataframe\">\n",
       "  <thead>\n",
       "    <tr style=\"text-align: right;\">\n",
       "      <th>Success</th>\n",
       "      <th>Fail</th>\n",
       "      <th>Pass</th>\n",
       "      <th>All</th>\n",
       "    </tr>\n",
       "    <tr>\n",
       "      <th>Design</th>\n",
       "      <th></th>\n",
       "      <th></th>\n",
       "      <th></th>\n",
       "    </tr>\n",
       "  </thead>\n",
       "  <tbody>\n",
       "    <tr>\n",
       "      <th>A</th>\n",
       "      <td>3</td>\n",
       "      <td>6</td>\n",
       "      <td>9</td>\n",
       "    </tr>\n",
       "    <tr>\n",
       "      <th>B</th>\n",
       "      <td>5</td>\n",
       "      <td>6</td>\n",
       "      <td>11</td>\n",
       "    </tr>\n",
       "    <tr>\n",
       "      <th>All</th>\n",
       "      <td>8</td>\n",
       "      <td>12</td>\n",
       "      <td>20</td>\n",
       "    </tr>\n",
       "  </tbody>\n",
       "</table>\n",
       "</div>"
      ],
      "text/plain": [
       "Success  Fail  Pass  All\n",
       "Design                  \n",
       "A           3     6    9\n",
       "B           5     6   11\n",
       "All         8    12   20"
      ]
     },
     "execution_count": 6,
     "metadata": {},
     "output_type": "execute_result"
    }
   ],
   "source": [
    "# Create contingency table with Designs as rows, and completion success in columns\n",
    "\n",
    "Tasktable = pd.crosstab(df.Design, [df.Success], margins = True)\n",
    "# Margins = True adds the row and column sums\n",
    "\n",
    "Tasktable"
   ]
  },
  {
   "cell_type": "markdown",
   "metadata": {},
   "source": [
    "Later on, we will refer to the cells in this table where the top row\n",
    "\n",
    " - a = number of Fails for Design A\n",
    " - b = number of Pass for Design A\n",
    " - c = number of Fails for Design B\n",
    " - d = number of Pass for Design B\n",
    " \n",
    " and\n",
    " - m = total for upper row (Design A)\n",
    " - n = total for lower row (Design B) \n",
    " - r = total for Fails  (first column)\n",
    " - s = total for Pass  (second column) \n",
    "\n",
    "|Success |Fail |Pass |Total|\n",
    "|-----|--------|-----|-----|\n",
    "|A   |a      |b  |m  |\n",
    "|B   |c      |d  |n  |\n",
    "|Total   |r      |s  |N  |"
   ]
  },
  {
   "cell_type": "markdown",
   "metadata": {},
   "source": [
    "<a id= 'Chi-Square'> </a>"
   ]
  },
  {
   "cell_type": "markdown",
   "metadata": {
    "id": "iZl18pW1C07D"
   },
   "source": [
    "### 3.1 Chi-Square Test\n",
    "\n",
    "The chi-square test can be used for non numerical and non-normally distributed data where there are categories or different options. The chi-square statistic is calculated as the squared difference between *observed* frequency  $f_o$ and *expected* frequency $f_e$ , divided by the latter:\n",
    "\n",
    "$$\\chi^2= \\sum{{(f_o - f_e)^2}\\over{f_e}}$$\n",
    "\n",
    "Let us say we have a selection test for two different designs, X and Y. After 144 trials  we imagine a contingency table where either X or Y was selected to look like this:\n",
    "\n",
    "|Design X |Design Y|Total|\n",
    "|-----|--------|-----|\n",
    "|80   |64      |144  |\n",
    "\n",
    "\n",
    "The expected frequency $f_e$, if people were randomly picking one of the two designs, would have been equally distributed:\n",
    "\n",
    "|Design X |Design Y|Total|\n",
    "|-----|--------|-----|\n",
    "|72   |72      |144  |"
   ]
  },
  {
   "cell_type": "markdown",
   "metadata": {
    "id": "uA8QXOSHC07D"
   },
   "source": [
    "### Try out 3:\n",
    "Calculate $\\chi^2$ for the example test between X and Y designs above.\n"
   ]
  },
  {
   "cell_type": "code",
   "execution_count": null,
   "metadata": {
    "id": "kLDh9wMFC07E"
   },
   "outputs": [],
   "source": [
    "# The task is almost as easily done by hand, but here are some starting hints for using Python.\n",
    "\n",
    "# fo_correct=\n",
    "# fo_incorrect=\n",
    "# fe_correct=\n",
    "# fe_incorrect=\n",
    "\n",
    "# Square the difference between observed and expected\n",
    "# (fo_correct - fe_correct) ** 2\n",
    "# (fo_incorrect - fe_incorrect) ** 2\n",
    "\n",
    "#"
   ]
  },
  {
   "cell_type": "markdown",
   "metadata": {
    "id": "KISZptDYC07E"
   },
   "source": [
    "Much like the we discussed we now want to determine whether the calculated statistic falls in the *critical region*. That is, if the difference between the expected and observed value is so large that it is unlikely to occur by chance. Similar to the t- tests, the cut-off point for the critical region depends on the significance level (alpha, $\\alpha$) and the *degrees of freedom* (df). However, we calculate degrees of freedom a bit differently for contingency tables."
   ]
  },
  {
   "cell_type": "markdown",
   "metadata": {
    "id": "WNHUYCbtC07E"
   },
   "source": [
    "<a id= 'dof'> </a>"
   ]
  },
  {
   "cell_type": "markdown",
   "metadata": {
    "id": "NCsKY1NAC07E"
   },
   "source": [
    "### 3.2 Degrees of Freedom for Contingency Tables\n",
    "\n",
    "The degrees of freedom for a chi-square test relate to the number of choices or options in the contingency table: \n",
    "\n",
    "$$df=(R-1)(C-1)$$\n",
    "\n",
    "Note that this is different from  many other statistics, for instance sample variance, where $df$ is related to the sample size.\n",
    "\n",
    "For the special case of only one row, the first factor is not considered. For instance, in a test involving participants' selection of singers as being either male or female, there are two possible options to chose from, resulting in two categories (C) and   $df =$ $C-1=2-1=1$\n",
    "\n"
   ]
  },
  {
   "cell_type": "markdown",
   "metadata": {
    "id": "DGjKJEYQC07F"
   },
   "source": [
    "### Try out 4: \n",
    "Calculate the degrees of freedom for the completion task (pass/fail) contingency table."
   ]
  },
  {
   "cell_type": "code",
   "execution_count": 4,
   "metadata": {
    "colab": {
     "base_uri": "https://localhost:8080/"
    },
    "executionInfo": {
     "elapsed": 836,
     "status": "ok",
     "timestamp": 1620911016465,
     "user": {
      "displayName": "Prithvi Kantan",
      "photoUrl": "https://lh3.googleusercontent.com/a-/AOh14GiCLUP5h_S53ydSDrgq_SLOZBd5_3wFs87fFb5XQA=s64",
      "userId": "18111691564717832004"
     },
     "user_tz": -120
    },
    "id": "IN9bIOOTC07F",
    "outputId": "8d86db34-a68e-4ea3-a5d6-0a5f3e81768d"
   },
   "outputs": [
    {
     "data": {
      "text/plain": [
       "(2, 3)"
      ]
     },
     "execution_count": 4,
     "metadata": {
      "tags": []
     },
     "output_type": "execute_result"
    }
   ],
   "source": [
    "# Get the rows and columns from the table\n",
    "# Tasktable.shape"
   ]
  },
  {
   "cell_type": "markdown",
   "metadata": {
    "id": "YtU8CTeYC07F"
   },
   "source": [
    "So with the $\\chi^2$ and the degrees of freedom, we can look up the probability of achieving this statistic and its relation to the critical value. There are plenty of actual tables to do this, but, like most other statistical packages, Python has functions that does the looking-up-job for us.\n"
   ]
  },
  {
   "cell_type": "code",
   "execution_count": 39,
   "metadata": {
    "id": "OVMxVYEpC07F",
    "outputId": "edf7c0de-4773-4a2d-f488-62036b75401c"
   },
   "outputs": [
    {
     "name": "stdout",
     "output_type": "stream",
     "text": [
      "Chi-square Statistic=2.107, p=0.910\n"
     ]
    }
   ],
   "source": [
    "# The scipy.stats function chi2_contingency give us the chisquare test from the observed contingency table\n",
    "# based on the marginal sums (calculated totals) it calculates the expected frequencies \n",
    "# and returns the chi-square statistic, probability, as well as degrees of freedom\n",
    "stat, p, dof, expected = stats.chi2_contingency(Interfacetable)\n",
    "\n",
    "print('Chi-square Statistic=%.3f, p=%.3f' % (stat, p))"
   ]
  },
  {
   "cell_type": "markdown",
   "metadata": {
    "id": "ithG8bKMC07G"
   },
   "source": [
    "### Try out 5: \n",
    "Print the degrees of freedom output from the chi2_contingency function and compare to what you calculated in Try out 4."
   ]
  },
  {
   "cell_type": "code",
   "execution_count": null,
   "metadata": {
    "id": "9UU4rBPdC07G"
   },
   "outputs": [],
   "source": [
    "# print('Degrees of freedom=%i '  % (dof))"
   ]
  },
  {
   "cell_type": "markdown",
   "metadata": {},
   "source": [
    "<a id= 'ChiN-1'> </a>"
   ]
  },
  {
   "cell_type": "markdown",
   "metadata": {},
   "source": [
    "### 3.3 N-1 Chi-square test\n",
    "\n",
    "When expeted cell counts are small (some mean \"small\" means lower than 5), it is not too accurate. As long as we have cell counts larger than 1, a corrected version performs just as well or better:\n",
    "\n",
    "$$\\chi^2= \\frac{(ad - bc)^2(N-1)}{mnrs}$$"
   ]
  },
  {
   "cell_type": "markdown",
   "metadata": {},
   "source": [
    "### Try out 6: \n",
    "Calculate this corrected Chi-square for the Tasktable and compare to the one by the chi2_contingency function."
   ]
  },
  {
   "cell_type": "code",
   "execution_count": null,
   "metadata": {},
   "outputs": [],
   "source": []
  }
 ],
 "metadata": {
  "colab": {
   "collapsed_sections": [],
   "name": "UX6_Detecting_Effects.ipynb",
   "provenance": [
    {
     "file_id": "https://github.com/sofiadahl/Design_and_Analysis_of_Experiments/blob/main/DAE7_parametric.ipynb",
     "timestamp": 1620476828358
    }
   ]
  },
  "kernelspec": {
   "display_name": "Python 3",
   "language": "python",
   "name": "python3"
  },
  "language_info": {
   "codemirror_mode": {
    "name": "ipython",
    "version": 3
   },
   "file_extension": ".py",
   "mimetype": "text/x-python",
   "name": "python",
   "nbconvert_exporter": "python",
   "pygments_lexer": "ipython3",
   "version": "3.7.4"
  }
 },
 "nbformat": 4,
 "nbformat_minor": 4
}
