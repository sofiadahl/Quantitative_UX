{
 "cells": [
  {
   "cell_type": "markdown",
   "id": "a974d473-b672-4bc9-9961-f66aa4b674d7",
   "metadata": {},
   "source": [
    "# UX 10 Repeated Measures ANOVA\n",
    "\n",
    "author:\n",
    "\n",
    "    Sofia Dahl, sof@create.aau.dk\\\n",
    "    Dept. Architecture, Design and Media Technology, Aalborg University Copenhagen\n",
    "---\n",
    "\n",
    "## Learning goals\n",
    "\n",
    "After working your way through this notebook you should be able to..\n",
    "- Explain when to use repeated measures ANOVA\n",
    "- Perform check of assumptions for repeated measures ANOVA\n",
    "- Perform and interpret a one-way repeated measures ANOVA\n",
    "\n",
    "  \n",
    "## Table of Contents\n",
    "- [1. Several dependent measures](#SeveralMeasures)\n",
    "- [2. Assumptions for Repeated measures ANOVA](#assumptions)\n",
    "    - [2.1 Normality](#normality)\n",
    "    - [2.2 Sphericity](#sphericity)\n",
    "- [3. One-way Repeated Measures ANOVA](#repANOVA)\n",
    "    - [3.1 Within factors](#Withinfactors)\n",
    "    - [ 3.2 Interpreting the Output](#interpret)\n",
    "    - [3.3 Pairwise comparisons](#pairwise)\n",
    "    - [3.4 Reporting results](#reporting) \n",
    "- [4. Choosing analysis](#choosing)"
   ]
  },
  {
   "cell_type": "code",
   "execution_count": 2,
   "id": "8a2592b0-5b0a-45fe-b5d1-718798377512",
   "metadata": {},
   "outputs": [],
   "source": [
    "%matplotlib inline\n",
    "import numpy as np\n",
    "import pandas as pd\n",
    "import matplotlib.pyplot as plt\n",
    "import scipy.stats as stats\n",
    "import pingouin as pg"
   ]
  },
  {
   "cell_type": "markdown",
   "id": "cbea4d4c-e644-4f58-a960-d4b2b10feb3c",
   "metadata": {},
   "source": [
    "<a id= 'SeveralMeasures'> </a> "
   ]
  },
  {
   "cell_type": "markdown",
   "id": "af0b1d15-6518-4fab-b6f4-f34ac71a6cf4",
   "metadata": {},
   "source": [
    "## 1. Several dependent measures \n",
    "In many cases, we ask the same participant to participant in all the conditions because this reduces the effect of individual variability (as discussed in an earlier chapter). \n",
    "Whenever we have the same participant playing three instruments/games with different controllers, the data points are *related* because we repeated our measure for the same person. \n",
    "\n",
    "Let us set up some fictive data for this situation."
   ]
  },
  {
   "cell_type": "code",
   "execution_count": 3,
   "id": "cdcd3d40-1501-4c69-8165-4a6633062757",
   "metadata": {},
   "outputs": [
    {
     "data": {
      "text/html": [
       "<div>\n",
       "<style scoped>\n",
       "    .dataframe tbody tr th:only-of-type {\n",
       "        vertical-align: middle;\n",
       "    }\n",
       "\n",
       "    .dataframe tbody tr th {\n",
       "        vertical-align: top;\n",
       "    }\n",
       "\n",
       "    .dataframe thead th {\n",
       "        text-align: right;\n",
       "    }\n",
       "</style>\n",
       "<table border=\"1\" class=\"dataframe\">\n",
       "  <thead>\n",
       "    <tr style=\"text-align: right;\">\n",
       "      <th></th>\n",
       "      <th>Participant</th>\n",
       "      <th>Controller</th>\n",
       "      <th>Score</th>\n",
       "    </tr>\n",
       "  </thead>\n",
       "  <tbody>\n",
       "    <tr>\n",
       "      <th>0</th>\n",
       "      <td>1</td>\n",
       "      <td>W</td>\n",
       "      <td>8</td>\n",
       "    </tr>\n",
       "    <tr>\n",
       "      <th>1</th>\n",
       "      <td>1</td>\n",
       "      <td>X</td>\n",
       "      <td>5</td>\n",
       "    </tr>\n",
       "    <tr>\n",
       "      <th>2</th>\n",
       "      <td>1</td>\n",
       "      <td>Y</td>\n",
       "      <td>8</td>\n",
       "    </tr>\n",
       "    <tr>\n",
       "      <th>3</th>\n",
       "      <td>1</td>\n",
       "      <td>Z</td>\n",
       "      <td>4</td>\n",
       "    </tr>\n",
       "    <tr>\n",
       "      <th>4</th>\n",
       "      <td>2</td>\n",
       "      <td>W</td>\n",
       "      <td>9</td>\n",
       "    </tr>\n",
       "  </tbody>\n",
       "</table>\n",
       "</div>"
      ],
      "text/plain": [
       "   Participant Controller  Score\n",
       "0            1          W      8\n",
       "1            1          X      5\n",
       "2            1          Y      8\n",
       "3            1          Z      4\n",
       "4            2          W      9"
      ]
     },
     "execution_count": 3,
     "metadata": {},
     "output_type": "execute_result"
    }
   ],
   "source": [
    "df = pd.DataFrame( {\n",
    "    'Participant':        [1,1,1,1,2,2,2,2,3,3,3,3,4,4,4,4,5,5,5,5],\n",
    "    'Controller': ['W','X','Y','Z','W','X','Y','Z','W','X',\n",
    "                       'Y','Z','W','X','Y','Z','W','X','Y','Z'],\n",
    "    'Score':         [8,5,8,4,9,10,7,5,7,6,5,4,8,7,4,5,9,8,6,6]\n",
    "} )\n",
    "df.head()"
   ]
  },
  {
   "cell_type": "markdown",
   "id": "1da988f2-14b8-40b9-94f1-4073eedd9ef2",
   "metadata": {},
   "source": [
    "Note that the first rows show data for the *same* participant. Since the same person tested several controllers the scores for the different controllers in our tests are *not* independent. We want to compare scores within the same participant for different controllers. We cannot use the classic ANOVA for this since it requires values to be independent. But multiple dependent t-tests are also increasing the risk of Type I errors. Instead we use repeated measures ANOVA as omnibus test.\n",
    "\n",
    "Let's first have a look at what scores for the different controllers look like. "
   ]
  },
  {
   "cell_type": "code",
   "execution_count": 80,
   "id": "c302b100-3674-4ae1-b866-22cee2e285ab",
   "metadata": {},
   "outputs": [
    {
     "data": {
      "image/png": "[encoded data removed]",
      "text/plain": [
       "<Figure size 640x480 with 1 Axes>"
      ]
     },
     "metadata": {},
     "output_type": "display_data"
    }
   ],
   "source": [
    "ax = df.boxplot(column=['Score'],by=\"Controller\")\n",
    "plt.show()"
   ]
  },
  {
   "cell_type": "markdown",
   "id": "c1c646f2-944a-4529-a7cd-4afaf994697b",
   "metadata": {},
   "source": [
    "From the box plot we can see that there are some overlap between values for different controllers."
   ]
  },
  {
   "cell_type": "markdown",
   "id": "c4cea426-a855-46b8-bd7e-0fcef7077172",
   "metadata": {},
   "source": [
    "### Try out 1:\n",
    "Recall what the different parts of the box plot stands for and reason about whether you expect to see significant differences in a test."
   ]
  },
  {
   "cell_type": "markdown",
   "id": "624b1f1a-1ac7-411e-a163-b9ae6ed105e7",
   "metadata": {},
   "source": [
    "<a id= 'assumptions'> </a> "
   ]
  },
  {
   "cell_type": "markdown",
   "id": "ab951942-8c21-4202-bfe8-70ac4df8156d",
   "metadata": {},
   "source": [
    "## 2. Assumptions for Repeated measures ANOVA\n",
    "\n",
    "Repeated measures ANOVA is a parametric test and also assumes data to come from normal distributions, but other assuptions differ compared to the classic ANOVA. In classic ANOVA it is important that values are independent, but in repeated measures ANOVA the whole point is that measures are  dependent. On the other hand, the data must be randomly sampled so that measures from DIFFERENT participants are not related. \n",
    "\n",
    "In classic ANOVA it is important that variability is approximately equal between groups. The box plot show that variability in data is different between controllers, but since we compare ratings for the same person, it is these differences that must be approximately equal in repeated measures ANOVA. This is called the assumption of shericity.  "
   ]
  },
  {
   "cell_type": "markdown",
   "id": "d959d65f-f799-4f9e-aa3f-6eeb3e20d22c",
   "metadata": {},
   "source": [
    "<a id='normality'> </a>"
   ]
  },
  {
   "cell_type": "markdown",
   "id": "bbb620fa-55ef-45bf-89a1-b0ff88534227",
   "metadata": {},
   "source": [
    "### 2.1 Normality\n",
    "To check whether data comes from a normal distribution we first do Q-Q plots for the scores of the different controllers. "
   ]
  },
  {
   "cell_type": "code",
   "execution_count": 4,
   "id": "b8cb8bf9-d555-4e33-bea4-69ff7d94fea4",
   "metadata": {},
   "outputs": [
    {
     "data": {
      "image/png": "[encoded data removed]",
      "text/plain": [
       "<Figure size 640x480 with 1 Axes>"
      ]
     },
     "metadata": {},
     "output_type": "display_data"
    }
   ],
   "source": [
    "#Q-Q plots\n",
    "stats.probplot(df[df['Controller']=='W'].Score, plot=plt);\n",
    "\n",
    "plt.show() "
   ]
  },
  {
   "cell_type": "markdown",
   "id": "4a244431-4b2c-4a16-90b3-4573953f8300",
   "metadata": {},
   "source": [
    "### Try out 2:\n",
    "Plot and check Q-Q plots for the other three controllers as well."
   ]
  },
  {
   "cell_type": "markdown",
   "id": "83802a3f-ac9c-4b42-adf0-c624bbf6d6f5",
   "metadata": {},
   "source": [
    "\n",
    "In addition to the Q-Q plots we can use Shapiro-Wilk tests to test the null hypothesis that our data is drawn from a normal distribution."
   ]
  },
  {
   "cell_type": "code",
   "execution_count": 94,
   "id": "82542ade-953c-46b7-adfe-6dd52b5b5f25",
   "metadata": {},
   "outputs": [
    {
     "data": {
      "text/plain": [
       "(ShapiroResult(statistic=0.8810376385817489, pvalue=0.3140395561440371),\n",
       " ShapiroResult(statistic=0.9787161500642191, pvalue=0.9276364233495382),\n",
       " ShapiroResult(statistic=0.986762155211559, pvalue=0.9671739349728582),\n",
       " ShapiroResult(statistic=0.8810376385817489, pvalue=0.3140395561440371))"
      ]
     },
     "execution_count": 94,
     "metadata": {},
     "output_type": "execute_result"
    }
   ],
   "source": [
    "# We can get several tests out at once \n",
    "stats.shapiro(df[df['Controller']=='W'].Score), stats.shapiro(df[df['Controller']=='X'].Score), stats.shapiro(df[df['Controller']=='Y'].Score), stats.shapiro(df[df['Controller']=='Z'].Score)"
   ]
  },
  {
   "cell_type": "markdown",
   "id": "1ac1a478-1e7f-4f22-add2-5011d6aafb74",
   "metadata": {},
   "source": [
    "Although W and Z do receive lower scores than the other controllers, it does not appear that the normality assumption is violated. "
   ]
  },
  {
   "cell_type": "markdown",
   "id": "b0a75e0a-ec6f-49d6-8a82-786fd81ab167",
   "metadata": {},
   "source": [
    "<a id= 'sphericity'> </a>"
   ]
  },
  {
   "cell_type": "markdown",
   "id": "f3d8146c-7d0b-4bb8-b88b-197ceb64892d",
   "metadata": {},
   "source": [
    "### 1.2 Sphericity assumption\n",
    "\n",
    "Similar to the paired t-test, a repeated measures ANOVA compares differences between scores for the same participant. This comparison relies on the assumption  of *sphericity*, that is that the variance of these differences are approximately equal. We test the null hypothesis that there is NO violation of sphericity with Mauchly's test. "
   ]
  },
  {
   "cell_type": "code",
   "execution_count": 10,
   "id": "623d7de1-8cb0-40a0-832a-935136b71e05",
   "metadata": {},
   "outputs": [
    {
     "data": {
      "text/plain": [
       "SpherResults(spher=True, W=0.062100549562385504, chi2=7.565056754547511, dof=5, pval=0.20708214225927313)"
      ]
     },
     "execution_count": 10,
     "metadata": {},
     "output_type": "execute_result"
    }
   ],
   "source": [
    "\n",
    "pg.sphericity( dv='Score', within='Controller', subject='Participant', method='mauchly', data=df )"
   ]
  },
  {
   "cell_type": "markdown",
   "id": "a8ba47ba-d94d-46a9-9f53-fbb657e6eb50",
   "metadata": {},
   "source": [
    " Had the assumption been violated, the usual procedure is to apply corrections to the data (typically Greenhouse-Geisser or Huynd-Feldt corrections is used in statistical softwares)."
   ]
  },
  {
   "cell_type": "markdown",
   "id": "333c352e-6917-40da-910c-bb02081490db",
   "metadata": {},
   "source": [
    "<a id= 'repANOVA'> </a> "
   ]
  },
  {
   "cell_type": "markdown",
   "id": "a22eea1c-f40f-4a81-aa99-81d259320507",
   "metadata": {},
   "source": [
    "## 3. One-way Repeated Measures ANOVA\n",
    "\n",
    "With the assumptions checked, we are now ready to set up our analysis. \n"
   ]
  },
  {
   "cell_type": "markdown",
   "id": "3d10d60f-5173-4aa1-aa19-75cd001edaf1",
   "metadata": {},
   "source": [
    "<a id= 'Withinfactors'> </a>"
   ]
  },
  {
   "cell_type": "markdown",
   "id": "219b23b3-beba-4f93-baef-d60768f99468",
   "metadata": {},
   "source": [
    "### 3.1 Within factors\n",
    "\n",
    "The model we set up for repeated measures ANOVA is very similar to that of the classic 1-way ANOVA,\n",
    "\n",
    "Score ~ Controller\n",
    "\n",
    "but now we must also define a *within* factor. The software does not typically keep track of this unless we define it. In our example case, the within factor is the different controllers. That is, instead of having different groups contrasted, we now need to compare each individual participant's score in the different cases. \n",
    "\n",
    "Different software handles this in different ways and several (such as SPSS) require aggregated values in pivot tables for repeated measures. Statmodels in python has a particular class AnovaRM where this aggregation is taken care of.\n",
    "\n"
   ]
  },
  {
   "cell_type": "markdown",
   "id": "6d8e773f-2243-406a-bde7-499b224a78b5",
   "metadata": {},
   "source": [
    "<a id= 'interpreting'> </a>"
   ]
  },
  {
   "cell_type": "markdown",
   "id": "2b05d0b9-a925-4d68-b18c-d53d1c936cc9",
   "metadata": {},
   "source": [
    "### 3.2 Interpreting the Output\n",
    "\n",
    "To run the repeated measures ANOVA we define the actual dependent variable, the within factor and which variable that has information on partipants."
   ]
  },
  {
   "cell_type": "code",
   "execution_count": 21,
   "id": "f16db57d-6e60-4e38-a3a6-8e1db56a253a",
   "metadata": {},
   "outputs": [
    {
     "data": {
      "text/html": [
       "<div>\n",
       "<style scoped>\n",
       "    .dataframe tbody tr th:only-of-type {\n",
       "        vertical-align: middle;\n",
       "    }\n",
       "\n",
       "    .dataframe tbody tr th {\n",
       "        vertical-align: top;\n",
       "    }\n",
       "\n",
       "    .dataframe thead th {\n",
       "        text-align: right;\n",
       "    }\n",
       "</style>\n",
       "<table border=\"1\" class=\"dataframe\">\n",
       "  <thead>\n",
       "    <tr style=\"text-align: right;\">\n",
       "      <th></th>\n",
       "      <th>Source</th>\n",
       "      <th>ddof1</th>\n",
       "      <th>ddof2</th>\n",
       "      <th>F</th>\n",
       "      <th>p-unc</th>\n",
       "      <th>ng2</th>\n",
       "      <th>eps</th>\n",
       "    </tr>\n",
       "  </thead>\n",
       "  <tbody>\n",
       "    <tr>\n",
       "      <th>0</th>\n",
       "      <td>Controller</td>\n",
       "      <td>3</td>\n",
       "      <td>12</td>\n",
       "      <td>5.117647</td>\n",
       "      <td>0.016501</td>\n",
       "      <td>0.430267</td>\n",
       "      <td>0.541199</td>\n",
       "    </tr>\n",
       "  </tbody>\n",
       "</table>\n",
       "</div>"
      ],
      "text/plain": [
       "       Source  ddof1  ddof2         F     p-unc       ng2       eps\n",
       "0  Controller      3     12  5.117647  0.016501  0.430267  0.541199"
      ]
     },
     "execution_count": 21,
     "metadata": {},
     "output_type": "execute_result"
    }
   ],
   "source": [
    "pg.rm_anova(data=df, dv='Score', within='Controller', subject='Participant', detailed=False )"
   ]
  },
  {
   "cell_type": "markdown",
   "id": "e003d518-011d-4622-bf80-c8701f52775e",
   "metadata": {},
   "source": [
    "Again, we get more output that we need in order to understand and interpret the data. \n",
    "- Source is the independent variable with the different controllers\n",
    "- ddof1 are the degrees of freedom for the independent variable (how many controllers)\n",
    "- ddof2 are the degrees of freedom for the dependent variable (the scores)\n",
    "- F is the value of the F statistic\n",
    "- p-unc is the uncorrected p-value telling us the probability of obtaining the F statistic given the H0\n",
    "- ng2 is a measure of the effect size (generalized eta squared)\n",
    "- eps is an index of sphericity, the closer to 1 the better.\n",
    "\n",
    "So with this output, we have some information also on the size of the effect and whether the data is sound in terms of sphericity. Note that this is the less detailed output, the function can return several more measures (see help(pg.rm_anova) ).\n",
    "\n",
    "The p-value indicates a main effect of controller so we should investigate what this comes from by using paired comparisons."
   ]
  },
  {
   "cell_type": "markdown",
   "id": "8e064056-aa05-40ae-aa0d-26a0eec7ed7e",
   "metadata": {},
   "source": [
    "<a id= 'pairwise'></a> "
   ]
  },
  {
   "cell_type": "markdown",
   "id": "ff3411d3-bce4-440d-b37b-0a67d30c88f4",
   "metadata": {},
   "source": [
    "### 3.3 Pairwise comparisons\n",
    "\n",
    "As in the other ANOVA, we need some tests that will help us understand what differences that contributed to the main effect. "
   ]
  },
  {
   "cell_type": "code",
   "execution_count": 15,
   "id": "656fd8f7-e89a-4111-ad7e-3b8ab30172a0",
   "metadata": {},
   "outputs": [
    {
     "data": {
      "text/html": [
       "<div>\n",
       "<style scoped>\n",
       "    .dataframe tbody tr th:only-of-type {\n",
       "        vertical-align: middle;\n",
       "    }\n",
       "\n",
       "    .dataframe tbody tr th {\n",
       "        vertical-align: top;\n",
       "    }\n",
       "\n",
       "    .dataframe thead th {\n",
       "        text-align: right;\n",
       "    }\n",
       "</style>\n",
       "<table border=\"1\" class=\"dataframe\">\n",
       "  <thead>\n",
       "    <tr style=\"text-align: right;\">\n",
       "      <th></th>\n",
       "      <th>Contrast</th>\n",
       "      <th>A</th>\n",
       "      <th>B</th>\n",
       "      <th>Paired</th>\n",
       "      <th>Parametric</th>\n",
       "      <th>T</th>\n",
       "      <th>dof</th>\n",
       "      <th>alternative</th>\n",
       "      <th>p-unc</th>\n",
       "      <th>BF10</th>\n",
       "      <th>hedges</th>\n",
       "    </tr>\n",
       "  </thead>\n",
       "  <tbody>\n",
       "    <tr>\n",
       "      <th>0</th>\n",
       "      <td>Controller</td>\n",
       "      <td>W</td>\n",
       "      <td>X</td>\n",
       "      <td>True</td>\n",
       "      <td>True</td>\n",
       "      <td>0.301511</td>\n",
       "      <td>4.0</td>\n",
       "      <td>two-sided</td>\n",
       "      <td>0.778050</td>\n",
       "      <td>0.413</td>\n",
       "      <td>0.127735</td>\n",
       "    </tr>\n",
       "    <tr>\n",
       "      <th>1</th>\n",
       "      <td>Controller</td>\n",
       "      <td>W</td>\n",
       "      <td>Y</td>\n",
       "      <td>True</td>\n",
       "      <td>True</td>\n",
       "      <td>2.064187</td>\n",
       "      <td>4.0</td>\n",
       "      <td>two-sided</td>\n",
       "      <td>0.107939</td>\n",
       "      <td>1.291</td>\n",
       "      <td>1.068711</td>\n",
       "    </tr>\n",
       "    <tr>\n",
       "      <th>2</th>\n",
       "      <td>Controller</td>\n",
       "      <td>W</td>\n",
       "      <td>Z</td>\n",
       "      <td>True</td>\n",
       "      <td>True</td>\n",
       "      <td>10.614456</td>\n",
       "      <td>4.0</td>\n",
       "      <td>two-sided</td>\n",
       "      <td>0.000446</td>\n",
       "      <td>68.116</td>\n",
       "      <td>3.321121</td>\n",
       "    </tr>\n",
       "    <tr>\n",
       "      <th>3</th>\n",
       "      <td>Controller</td>\n",
       "      <td>X</td>\n",
       "      <td>Y</td>\n",
       "      <td>True</td>\n",
       "      <td>True</td>\n",
       "      <td>1.077632</td>\n",
       "      <td>4.0</td>\n",
       "      <td>two-sided</td>\n",
       "      <td>0.341851</td>\n",
       "      <td>0.607</td>\n",
       "      <td>0.615597</td>\n",
       "    </tr>\n",
       "    <tr>\n",
       "      <th>4</th>\n",
       "      <td>Controller</td>\n",
       "      <td>X</td>\n",
       "      <td>Z</td>\n",
       "      <td>True</td>\n",
       "      <td>True</td>\n",
       "      <td>3.538607</td>\n",
       "      <td>4.0</td>\n",
       "      <td>two-sided</td>\n",
       "      <td>0.024044</td>\n",
       "      <td>3.746</td>\n",
       "      <td>1.461491</td>\n",
       "    </tr>\n",
       "    <tr>\n",
       "      <th>5</th>\n",
       "      <td>Controller</td>\n",
       "      <td>Y</td>\n",
       "      <td>Z</td>\n",
       "      <td>True</td>\n",
       "      <td>True</td>\n",
       "      <td>1.394972</td>\n",
       "      <td>4.0</td>\n",
       "      <td>two-sided</td>\n",
       "      <td>0.235496</td>\n",
       "      <td>0.765</td>\n",
       "      <td>0.856875</td>\n",
       "    </tr>\n",
       "  </tbody>\n",
       "</table>\n",
       "</div>"
      ],
      "text/plain": [
       "     Contrast  A  B  Paired  Parametric          T  dof alternative     p-unc  \\\n",
       "0  Controller  W  X    True        True   0.301511  4.0   two-sided  0.778050   \n",
       "1  Controller  W  Y    True        True   2.064187  4.0   two-sided  0.107939   \n",
       "2  Controller  W  Z    True        True  10.614456  4.0   two-sided  0.000446   \n",
       "3  Controller  X  Y    True        True   1.077632  4.0   two-sided  0.341851   \n",
       "4  Controller  X  Z    True        True   3.538607  4.0   two-sided  0.024044   \n",
       "5  Controller  Y  Z    True        True   1.394972  4.0   two-sided  0.235496   \n",
       "\n",
       "     BF10    hedges  \n",
       "0   0.413  0.127735  \n",
       "1   1.291  1.068711  \n",
       "2  68.116  3.321121  \n",
       "3   0.607  0.615597  \n",
       "4   3.746  1.461491  \n",
       "5   0.765  0.856875  "
      ]
     },
     "execution_count": 15,
     "metadata": {},
     "output_type": "execute_result"
    }
   ],
   "source": [
    "\n",
    "post_hocs = pg.pairwise_tests(dv='Score', within='Controller', subject='Participant', data=df)\n",
    "post_hocs"
   ]
  },
  {
   "cell_type": "markdown",
   "id": "d80f1385-f2a2-4d62-aefd-4a6f68242eaa",
   "metadata": {},
   "source": [
    "The function returns paired compairisons with t-tests by default (so this is up to us to check, if data is *NOT* we should set the parametric=False and Mann-Whitney tests should be used."
   ]
  },
  {
   "cell_type": "code",
   "execution_count": 56,
   "id": "f14e903a-dc03-4c2f-a780-54b374b7751c",
   "metadata": {},
   "outputs": [],
   "source": [
    "#help(pg.pairwise_tests)"
   ]
  },
  {
   "cell_type": "markdown",
   "id": "6ca57c03-dd54-4620-95b3-c22a989bddd8",
   "metadata": {},
   "source": [
    "Based on this, the main effect is due to a difference between Controller W and Z. Looking back at the box plots, we can see that these are the scores that differ most from each other. However, we should calculate the mean and standard errors and estimate confidence intervals. "
   ]
  },
  {
   "cell_type": "code",
   "execution_count": 129,
   "id": "4021b9a8-b939-4c3d-9061-893b28f7e332",
   "metadata": {},
   "outputs": [
    {
     "data": {
      "text/html": [
       "<div>\n",
       "<style scoped>\n",
       "    .dataframe tbody tr th:only-of-type {\n",
       "        vertical-align: middle;\n",
       "    }\n",
       "\n",
       "    .dataframe tbody tr th {\n",
       "        vertical-align: top;\n",
       "    }\n",
       "\n",
       "    .dataframe thead th {\n",
       "        text-align: right;\n",
       "    }\n",
       "</style>\n",
       "<table border=\"1\" class=\"dataframe\">\n",
       "  <thead>\n",
       "    <tr style=\"text-align: right;\">\n",
       "      <th></th>\n",
       "      <th>Score</th>\n",
       "    </tr>\n",
       "    <tr>\n",
       "      <th>Controller</th>\n",
       "      <th></th>\n",
       "    </tr>\n",
       "  </thead>\n",
       "  <tbody>\n",
       "    <tr>\n",
       "      <th>W</th>\n",
       "      <td>8.2</td>\n",
       "    </tr>\n",
       "    <tr>\n",
       "      <th>X</th>\n",
       "      <td>7.2</td>\n",
       "    </tr>\n",
       "    <tr>\n",
       "      <th>Y</th>\n",
       "      <td>6.0</td>\n",
       "    </tr>\n",
       "    <tr>\n",
       "      <th>Z</th>\n",
       "      <td>4.8</td>\n",
       "    </tr>\n",
       "  </tbody>\n",
       "</table>\n",
       "</div>"
      ],
      "text/plain": [
       "            Score\n",
       "Controller       \n",
       "W             8.2\n",
       "X             7.2\n",
       "Y             6.0\n",
       "Z             4.8"
      ]
     },
     "execution_count": 129,
     "metadata": {},
     "output_type": "execute_result"
    }
   ],
   "source": [
    "#mean values grouped per controller\n",
    "cont_mean=df[[\"Controller\", \"Score\"]].groupby(\"Controller\").mean()\n",
    "cont_mean"
   ]
  },
  {
   "cell_type": "code",
   "execution_count": 130,
   "id": "c29ee57d-cc89-4d28-81f8-63908e855a9d",
   "metadata": {},
   "outputs": [
    {
     "data": {
      "text/html": [
       "<div>\n",
       "<style scoped>\n",
       "    .dataframe tbody tr th:only-of-type {\n",
       "        vertical-align: middle;\n",
       "    }\n",
       "\n",
       "    .dataframe tbody tr th {\n",
       "        vertical-align: top;\n",
       "    }\n",
       "\n",
       "    .dataframe thead th {\n",
       "        text-align: right;\n",
       "    }\n",
       "</style>\n",
       "<table border=\"1\" class=\"dataframe\">\n",
       "  <thead>\n",
       "    <tr style=\"text-align: right;\">\n",
       "      <th></th>\n",
       "      <th>Score</th>\n",
       "    </tr>\n",
       "    <tr>\n",
       "      <th>Controller</th>\n",
       "      <th></th>\n",
       "    </tr>\n",
       "  </thead>\n",
       "  <tbody>\n",
       "    <tr>\n",
       "      <th>W</th>\n",
       "      <td>0.374166</td>\n",
       "    </tr>\n",
       "    <tr>\n",
       "      <th>X</th>\n",
       "      <td>0.860233</td>\n",
       "    </tr>\n",
       "    <tr>\n",
       "      <th>Y</th>\n",
       "      <td>0.707107</td>\n",
       "    </tr>\n",
       "    <tr>\n",
       "      <th>Z</th>\n",
       "      <td>0.374166</td>\n",
       "    </tr>\n",
       "  </tbody>\n",
       "</table>\n",
       "</div>"
      ],
      "text/plain": [
       "               Score\n",
       "Controller          \n",
       "W           0.374166\n",
       "X           0.860233\n",
       "Y           0.707107\n",
       "Z           0.374166"
      ]
     },
     "execution_count": 130,
     "metadata": {},
     "output_type": "execute_result"
    }
   ],
   "source": [
    "# standard error of mean for the different controllers\n",
    "cont_sem=df[[\"Controller\", \"Score\"]].groupby(\"Controller\").sem()\n",
    "cont_sem"
   ]
  },
  {
   "cell_type": "code",
   "execution_count": 143,
   "id": "92682312-06cc-48aa-b1d0-dadc50ad7fe1",
   "metadata": {},
   "outputs": [
    {
     "name": "stdout",
     "output_type": "stream",
     "text": [
      "95% confidence intervals for W: [7.16114937] [9.23885063]\n"
     ]
    }
   ],
   "source": [
    "#We can now calculate confidence intervals\n",
    "W_lo, W_hi =stats.t.interval(confidence=0.95, df=4, loc=cont_mean.iloc[0], scale=cont_sem.iloc[0])\n",
    "\n",
    "print(\"95% confidence intervals for W:\",W_lo, W_hi)"
   ]
  },
  {
   "cell_type": "markdown",
   "id": "2fcc4010-446e-4842-b081-d400f8be3cb3",
   "metadata": {},
   "source": [
    "### Try out 3:\n",
    "Proceed to calculate confidence intervals for the three other controllers and collect in a data frame. Compare to the box plot we plotted earlier. "
   ]
  },
  {
   "cell_type": "code",
   "execution_count": null,
   "id": "25ff2526-a63e-48f0-ad4c-5c6485005f2e",
   "metadata": {},
   "outputs": [],
   "source": [
    "# collecing upper and lower confidence intervals\n",
    "\n",
    "#controllers = pd.DataFrame( {\n",
    "#    'Controller': ['W','X','Y','Z'],\n",
    "#    'Mean':         [cont_mean],\n",
    "#    'Lower':       [W_lo, X_lo, Y_lo, Z_lo],\n",
    "#    'Higher':       [W_hi, X_hi, Y_hi, Z_hi],\n",
    "#} )\n"
   ]
  },
  {
   "cell_type": "markdown",
   "id": "523635e7-50a3-4dfe-9c1e-cdae5f36b698",
   "metadata": {},
   "source": [
    "<a id= 'reporting'> </a> "
   ]
  },
  {
   "cell_type": "markdown",
   "id": "d5628523-81b6-467a-a081-74f6b6ccbd89",
   "metadata": {},
   "source": [
    "### 3.4 Reporting results\n",
    "\n",
    "After all this analysis, we can finally report our results in style: \n",
    "\n",
    "A one-way repeated measures ANOVA on scores with controller as within factor showed a main effect of controller F(3,12)=5.12, p=0.02. Post-hoc pairwise comparisons revealed controller W (mean= 8.2, CI= 7.2-9.2) to receive higher scored than controller Z  (mean= 4.8, CI= xx-yy), t(4)=10.61 , p=0.0004.\n",
    "\n",
    "Of course, it is always nice with a plot showing all the means and confidence intervals as well.\n",
    "\n",
    "### Try out 4:\n",
    "Place the correct values in the above text to complete the report of the results in written form.\n",
    "\n",
    "### Try out 5:\n",
    "Change the below code to plot all four controllers (using the new data frame you saved in Try out 3)."
   ]
  },
  {
   "cell_type": "code",
   "execution_count": 181,
   "id": "a6f58db4-12bb-41f5-9500-f5fb4e8de46f",
   "metadata": {},
   "outputs": [
    {
     "data": {
      "image/png": "[encoded data removed]",
      "text/plain": [
       "<Figure size 640x480 with 1 Axes>"
      ]
     },
     "metadata": {},
     "output_type": "display_data"
    }
   ],
   "source": [
    "# Plot the controllers on X-axis and the mean and confidence intervals on the y-axis\n",
    "plt.errorbar(df.Controller[0], cont_mean.iloc[0], yerr=[W_lo, W_hi]) #plot confidence intervals as error bars around mean\n",
    "plt.plot(df.Controller[0], cont_mean.iloc[0], 'o', color='#f44336') # mark the mean value with a different colour\n",
    "plt.show() "
   ]
  },
  {
   "cell_type": "markdown",
   "id": "95df01dd-bd1b-48da-b4af-daa8172476cb",
   "metadata": {},
   "source": [
    "<a id= 'choosing'> </a> "
   ]
  },
  {
   "cell_type": "markdown",
   "id": "bb03370b-2d74-42d0-8a84-15d7f99fa3b7",
   "metadata": {},
   "source": [
    "## 4. Choosing analysis\n",
    "\n",
    "\n",
    "We have now completed a classic one-way ANOVA and a one-way repeated measures ANOVA. Understanding what types of analysis that is suitable and how to interpret the results takes time to get acquainted with. There are practical flow-charts useful to find the right analysis for the type of data collected, like this supplied by Pingouin https://pingouin-stats.org/build/html/guidelines.html#anova\n",
    "\n",
    "![flowchart_one_way_ANOVA](https://pingouin-stats.org/build/html/_images/flowchart_one_way_ANOVA.svg)\n",
    "\n",
    "The examples we have worked with for classic ANOVA and repeated measures ANOVA are quite simple with only one factor (one-way). If we have more than one factor, we would have factorial ANOVA. This could, for instance have an additional hypothesis, that the scores might be affected by the level of experience or the type of instrument that participants were trained on. To investigate this, we add and additional independent variable \"Instrument\" where participants were recruited among different groups of instrumentalists. If we include three controllers and three different instrumentalists we would have a 2-way ANOVA. In addition to any *main effect* of instrument group or controller, it is also likely that we would like to investigate the  *interaction effects* where there is effect of the controller and instrument *combined*. This would be called a factorial 3 $\\times$ 3 ANOVA.\n",
    "\n",
    "There are two things to keep in mind when designing these kinds of studies:\n",
    "- The more factors you involve, the more difficult it will be to interpret any interaction effects.\n",
    "- The more factors, the more participants are needed in between-group studies.\n",
    "\n",
    "With respect to participants, it could make sense to have the controller as a within factor, and have all participants from the three groups of instrumentalists try all kinds of controllers. This would be a 2-way Mixed ANOVA. \n",
    "\n",
    "\n",
    "As you probably have gathered by now, there are many different possibilities, and many things to be cautious about when setting up your test. You will have to consult other books for the details on these statistical methods. And when you do, also do yourself the favor of investigating that you are able to conduct the analysis (including assumptions check) within the software."
   ]
  },
  {
   "cell_type": "code",
   "execution_count": null,
   "id": "86b0591f-a71a-45a9-a8c9-6673c67e8c48",
   "metadata": {},
   "outputs": [],
   "source": []
  }
 ],
 "metadata": {
  "kernelspec": {
   "display_name": "Python 3 (ipykernel)",
   "language": "python",
   "name": "python3"
  },
  "language_info": {
   "codemirror_mode": {
    "name": "ipython",
    "version": 3
   },
   "file_extension": ".py",
   "mimetype": "text/x-python",
   "name": "python",
   "nbconvert_exporter": "python",
   "pygments_lexer": "ipython3",
   "version": "3.12.7"
  }
 },
 "nbformat": 4,
 "nbformat_minor": 5
}
