{
 "cells": [
  {
   "cell_type": "markdown",
   "metadata": {
    "id": "fVtR9dssyY_r"
   },
   "source": [
    "# UX 8 Correlation and Regression\n",
    "\n",
    "Author:\n",
    "- |\n",
    "    Sofia Dahl, sof@create.aau.dk\\\n",
    "    Dept. Architecture, Design and Media Technology, Aalborg University Copenhagen\n",
    "---\n",
    "\n",
    "## Learning goals\n",
    "After working your way through this notebook you should be able to..\n",
    "- Explain what correlation can measure and when it is useful\n",
    "- Calculate the Pearson correlation coefficient \n",
    "- Make simple linear regression\n",
    "\n",
    "## Table of Contents\n",
    "- [1 Relationship between Variables](#Relationships)  \n",
    "- [2 Covariance](#Covariance)\n",
    "- [3 Correlation Coefficient](#Coefficient)\n",
    "    - [3.1 Interpreting the Correlation Coefficient](#InterpretCorr)\n",
    "    - [3.2 Correlation as a measure of Reliability](#ReliableCorr)\n",
    "    - [3.3 Linear Fit](#LinearFit)\n",
    "- [4 Linear Regression](#Regression)\n",
    "- [5 Variance Explained by Model](#VarianceExplained)"
   ]
  },
  {
   "cell_type": "markdown",
   "metadata": {
    "id": "F06koeLNyY_y"
   },
   "source": [
    "<a id= 'Summarizing'> </a>"
   ]
  },
  {
   "cell_type": "code",
   "execution_count": 1,
   "metadata": {
    "executionInfo": {
     "elapsed": 3067,
     "status": "ok",
     "timestamp": 1620373627954,
     "user": {
      "displayName": "",
      "photoUrl": "",
      "userId": ""
     },
     "user_tz": -120
    },
    "id": "Sh0bmNU3yY_z"
   },
   "outputs": [],
   "source": [
    "%matplotlib inline\n",
    "import numpy as np\n",
    "import pandas as pd\n",
    "import matplotlib.pyplot as plt"
   ]
  },
  {
   "cell_type": "code",
   "execution_count": null,
   "metadata": {},
   "outputs": [],
   "source": [
    "from google.colab import files\n",
    "\n",
    "uploaded = files.upload()"
   ]
  },
  {
   "cell_type": "markdown",
   "metadata": {
    "id": "d94_Lv6uyY_z"
   },
   "source": [
    "<a id= 'Relationships'> </a>"
   ]
  },
  {
   "cell_type": "markdown",
   "metadata": {
    "id": "bQNhmy3pyY_0"
   },
   "source": [
    "### 1. Relationship between Variables\n",
    "\n",
    "We are often interested in seeing whether independent and dependent variables have some kind of relationship with each other or among themselves. A good way to study this is to plot the concerned variables against each other. "
   ]
  },
  {
   "cell_type": "code",
   "execution_count": 5,
   "metadata": {
    "colab": {
     "base_uri": "https://localhost:8080/",
     "height": 284
    },
    "executionInfo": {
     "elapsed": 589,
     "status": "ok",
     "timestamp": 1620373795206,
     "user": {
      "displayName": "",
      "photoUrl": "",
      "userId": ""
     },
     "user_tz": -120
    },
    "id": "mHMigm30yY_0",
    "outputId": "85845b5d-9575-4454-c848-1c25a54fa5ae"
   },
   "outputs": [
    {
     "data": {
      "text/html": [
       "<div>\n",
       "<style scoped>\n",
       "    .dataframe tbody tr th:only-of-type {\n",
       "        vertical-align: middle;\n",
       "    }\n",
       "\n",
       "    .dataframe tbody tr th {\n",
       "        vertical-align: top;\n",
       "    }\n",
       "\n",
       "    .dataframe thead th {\n",
       "        text-align: right;\n",
       "    }\n",
       "</style>\n",
       "<table border=\"1\" class=\"dataframe\">\n",
       "  <thead>\n",
       "    <tr style=\"text-align: right;\">\n",
       "      <th></th>\n",
       "      <th>Scale1</th>\n",
       "      <th>Scale2</th>\n",
       "    </tr>\n",
       "  </thead>\n",
       "  <tbody>\n",
       "    <tr>\n",
       "      <th>count</th>\n",
       "      <td>18.000000</td>\n",
       "      <td>18.000000</td>\n",
       "    </tr>\n",
       "    <tr>\n",
       "      <th>mean</th>\n",
       "      <td>69.722222</td>\n",
       "      <td>44.111111</td>\n",
       "    </tr>\n",
       "    <tr>\n",
       "      <th>std</th>\n",
       "      <td>20.415696</td>\n",
       "      <td>28.445798</td>\n",
       "    </tr>\n",
       "    <tr>\n",
       "      <th>min</th>\n",
       "      <td>30.000000</td>\n",
       "      <td>0.000000</td>\n",
       "    </tr>\n",
       "    <tr>\n",
       "      <th>25%</th>\n",
       "      <td>56.000000</td>\n",
       "      <td>21.500000</td>\n",
       "    </tr>\n",
       "    <tr>\n",
       "      <th>50%</th>\n",
       "      <td>73.500000</td>\n",
       "      <td>37.500000</td>\n",
       "    </tr>\n",
       "    <tr>\n",
       "      <th>75%</th>\n",
       "      <td>84.500000</td>\n",
       "      <td>56.250000</td>\n",
       "    </tr>\n",
       "    <tr>\n",
       "      <th>max</th>\n",
       "      <td>100.000000</td>\n",
       "      <td>100.000000</td>\n",
       "    </tr>\n",
       "  </tbody>\n",
       "</table>\n",
       "</div>"
      ],
      "text/plain": [
       "           Scale1      Scale2\n",
       "count   18.000000   18.000000\n",
       "mean    69.722222   44.111111\n",
       "std     20.415696   28.445798\n",
       "min     30.000000    0.000000\n",
       "25%     56.000000   21.500000\n",
       "50%     73.500000   37.500000\n",
       "75%     84.500000   56.250000\n",
       "max    100.000000  100.000000"
      ]
     },
     "execution_count": 5,
     "metadata": {},
     "output_type": "execute_result"
    }
   ],
   "source": [
    "# In this example we have data from 18 participants and two rating scales (0-100)\n",
    "\n",
    "data= pd.DataFrame([[83,37],\n",
    "       [93,23],\n",
    "       [60,40],\n",
    "       [47,16],\n",
    "       [59,59],\n",
    "       [77,34],\n",
    "       [30,21],\n",
    "       [75,45],\n",
    "       [86,91],\n",
    "       [100,75],\n",
    "       [71,0],\n",
    "       [85,100],\n",
    "       [75,20],\n",
    "       [55,38],\n",
    "       [47,20], \n",
    "       [40,37],\n",
    "       [72,48],                    \n",
    "       [100,90]], \n",
    "       columns=([\"Scale1\",\"Scale2\"]), \n",
    "       index=[1,2,3,4,5,6,7,8,9,10,11,12,13,14,15,16,17,18])\n",
    "\n",
    "# Check dimensions of the data structure\n",
    "data.describe()"
   ]
  },
  {
   "cell_type": "markdown",
   "metadata": {
    "id": "NIG3r6zuyY_1"
   },
   "source": [
    "### Try out 1:\n",
    "Plot the variables against each other in the form of a scatter plot to see if there is a relationship between them (Scale1 and Scale2)."
   ]
  },
  {
   "cell_type": "code",
   "execution_count": 6,
   "metadata": {
    "colab": {
     "base_uri": "https://localhost:8080/",
     "height": 282
    },
    "executionInfo": {
     "elapsed": 576,
     "status": "ok",
     "timestamp": 1620376185732,
     "user": {
      "displayName": "",
      "photoUrl": "",
      "userId": ""
     },
     "user_tz": -120
    },
    "id": "b5ekTsBCyY_1",
    "outputId": "59440ecc-5437-4947-8503-2da31c9b887a"
   },
   "outputs": [
    {
     "data": {
      "text/plain": [
       "[<matplotlib.lines.Line2D at 0x7f82c3726590>]"
      ]
     },
     "execution_count": 6,
     "metadata": {},
     "output_type": "execute_result"
    },
    {
     "data": {
      "image/png": "[encoded data removed]",
      "text/plain": [
       "<Figure size 432x288 with 1 Axes>"
      ]
     },
     "metadata": {
      "needs_background": "light"
     },
     "output_type": "display_data"
    }
   ],
   "source": [
    "# Is there a relationship between the two variables (Scale1 and Scale2)?\n",
    "plt.plot(data.iloc[:,0], data.iloc[:,1], 'k*')"
   ]
  },
  {
   "cell_type": "markdown",
   "metadata": {
    "id": "cHZf0UrfyY_1"
   },
   "source": [
    "The scatter plot indicates a tendency for high ratings on one scale to be accompanied by high ratings on the other, and vice versa. But how do we quantify this tendency?"
   ]
  },
  {
   "cell_type": "markdown",
   "metadata": {
    "id": "jAYHJ0bDyY_1"
   },
   "source": [
    "<a id= 'Covariance'> </a>"
   ]
  },
  {
   "cell_type": "markdown",
   "metadata": {
    "id": "cm7klOc5yY_2"
   },
   "source": [
    "## 2. Covariance\n",
    "\n",
    "In the case of the variance of one variable, we summed the squared distance between each observation and the mean. To see whether two variables x and y *covary* (vary similarly), we apply a similar formula: \n",
    "\n",
    "$$cov(x,y)  =\\frac {\\sum{ (x_i - \\bar{x}) (y_i - \\bar{y})} } {N-1}$$\n",
    "\n",
    "Where $\\bar{x},\\bar{y}$ are the means of x and y respectively, while $x_i,y_i$ are the data points, and N the sample size. \n",
    "\n",
    "In general, if $x_i$ exceeds $\\bar{x},$ and $y_i$ simultaneously exceeds $\\bar{y}$ (and vice versa), this will result in a *positive* covariance value. This means that x and y vary similarly.\n",
    "\n",
    "**Note that this does not mean that a change in x *causes* y to vary!**"
   ]
  },
  {
   "cell_type": "code",
   "execution_count": 8,
   "metadata": {
    "colab": {
     "base_uri": "https://localhost:8080/",
     "height": 106
    },
    "executionInfo": {
     "elapsed": 510,
     "status": "ok",
     "timestamp": 1620374784818,
     "user": {
      "displayName": "",
      "photoUrl": "",
      "userId": ""
     },
     "user_tz": -120
    },
    "id": "7iigB0pAyY_2",
    "outputId": "d5e52d72-7f84-413c-a53d-920b22021323"
   },
   "outputs": [
    {
     "data": {
      "text/html": [
       "<div>\n",
       "<style scoped>\n",
       "    .dataframe tbody tr th:only-of-type {\n",
       "        vertical-align: middle;\n",
       "    }\n",
       "\n",
       "    .dataframe tbody tr th {\n",
       "        vertical-align: top;\n",
       "    }\n",
       "\n",
       "    .dataframe thead th {\n",
       "        text-align: right;\n",
       "    }\n",
       "</style>\n",
       "<table border=\"1\" class=\"dataframe\">\n",
       "  <thead>\n",
       "    <tr style=\"text-align: right;\">\n",
       "      <th></th>\n",
       "      <th>Scale1</th>\n",
       "      <th>Scale2</th>\n",
       "    </tr>\n",
       "  </thead>\n",
       "  <tbody>\n",
       "    <tr>\n",
       "      <th>Scale1</th>\n",
       "      <td>416.800654</td>\n",
       "      <td>317.562092</td>\n",
       "    </tr>\n",
       "    <tr>\n",
       "      <th>Scale2</th>\n",
       "      <td>317.562092</td>\n",
       "      <td>809.163399</td>\n",
       "    </tr>\n",
       "  </tbody>\n",
       "</table>\n",
       "</div>"
      ],
      "text/plain": [
       "            Scale1      Scale2\n",
       "Scale1  416.800654  317.562092\n",
       "Scale2  317.562092  809.163399"
      ]
     },
     "execution_count": 8,
     "metadata": {},
     "output_type": "execute_result"
    }
   ],
   "source": [
    "# Get the covariance matrix of the whole data\n",
    "data.cov()"
   ]
  },
  {
   "cell_type": "markdown",
   "metadata": {
    "id": "OR8MabupyY_2"
   },
   "source": [
    "### Try out 2:\n",
    "Calculate the mean of the two scales and add as another variable \"Scale 3\" in the data frame. Calculate the covariance matrix and compare. "
   ]
  },
  {
   "cell_type": "code",
   "execution_count": 12,
   "metadata": {
    "colab": {
     "base_uri": "https://localhost:8080/",
     "height": 132
    },
    "executionInfo": {
     "elapsed": 916,
     "status": "error",
     "timestamp": 1620374822498,
     "user": {
      "displayName": "",
      "photoUrl": "",
      "userId": ""
     },
     "user_tz": -120
    },
    "id": "PrztoITHyY_2",
    "outputId": "f9e713db-0f2e-4ada-c18d-419dc7ca7d0e"
   },
   "outputs": [],
   "source": [
    "# Add another variable consisting of the mean data of Scale1 and Scale2\n",
    "#data['Scale3']=(data.Scale1 + data.Scale2)/2\n",
    "#data\n",
    "\n",
    "# calculate covariance matrix\n",
    "#data.cov()"
   ]
  },
  {
   "cell_type": "markdown",
   "metadata": {
    "id": "raHuq2Y5yY_3"
   },
   "source": [
    "<a id= 'Coefficient'> </a>"
   ]
  },
  {
   "cell_type": "markdown",
   "metadata": {
    "id": "rhDc4jjWyY_3"
   },
   "source": [
    "## 3. Correlation coefficient\n",
    "Covariance is useful, but not suitable to compare between different kinds of values and units. We can get around this if we standardize with the sample standard deviations for x and y and get a coefficient we call r:\n",
    "\n",
    "$$r =  \\frac {cov_{xy}} {s_x s_y} =\\frac {\\sum{ (x_i - \\bar{x}) (y_i - \\bar{y})} } {(N-1){s_x s_y}}$$\n",
    "\n",
    "where $s_x$ and $s_y$ are the sample standard deviations for x and y. \n",
    "\n",
    "The standard deviations $s_x$ and $s_y$, in turn, are containing the \"Sum of squares\" ($SS$). That is, the squared differences between the mean and individual data points for x and y, respectively: $SS_{xx}=\\sum{ (x_i - \\bar{x})^2}$\n",
    "and $SS_{yy}=\\sum{ (y_i - \\bar{y})^2}$.\n",
    "And when we look at our definition of covariance, we see that this contains something similar to a sum of squares - but where the \"squaring\" is a crossproduct between two variables: $SS_{xy}=\\sum{ (x_i - \\bar{x}) (y_i - \\bar{y})}$. \n",
    "We will return to this in a bit, but first we present....(drumroll)\n",
    "\n",
    "The *Pearson Product-Moment Correlation Coefficient* (or \"correlation coefficient\" for short):\n",
    "$$r =  \\frac {SS_{xy}} {\\sqrt{(SS_{xx})(SS_{yy})}}$$\n",
    "\n",
    "$r$ is a standardized measure of the *linear* relationship between two variables and is very handy for correlation. \n",
    "\n",
    "The degree to which the relationship can be explained by a linear model is expressed by the coefficient, $r$, as follows:\n",
    "\n",
    "\n",
    "If $r$ = 1, x and y are positively correlated (perfectly)\n",
    "\n",
    "If $r$ = -1, x and y are negatively correlated (perfectly)\n",
    "\n",
    "If $r$ = 0, x and y have no linear correlation\n",
    "\n",
    "If $r$ > 0 and $r$ < 1, x and y are positively correlated (but not perfectly)\n",
    "\n",
    "If $r$ < 0 and $r$ > -1, x and y are negatively correlated (but not perfectly)\n"
   ]
  },
  {
   "cell_type": "code",
   "execution_count": 9,
   "metadata": {
    "colab": {
     "base_uri": "https://localhost:8080/",
     "height": 106
    },
    "executionInfo": {
     "elapsed": 995,
     "status": "ok",
     "timestamp": 1620374982282,
     "user": {
      "displayName": "",
      "photoUrl": "",
      "userId": ""
     },
     "user_tz": -120
    },
    "id": "c7KTUdEByY_4",
    "outputId": "d2a17115-3dd2-4fc6-f140-3df142f90675"
   },
   "outputs": [
    {
     "data": {
      "text/html": [
       "<div>\n",
       "<style scoped>\n",
       "    .dataframe tbody tr th:only-of-type {\n",
       "        vertical-align: middle;\n",
       "    }\n",
       "\n",
       "    .dataframe tbody tr th {\n",
       "        vertical-align: top;\n",
       "    }\n",
       "\n",
       "    .dataframe thead th {\n",
       "        text-align: right;\n",
       "    }\n",
       "</style>\n",
       "<table border=\"1\" class=\"dataframe\">\n",
       "  <thead>\n",
       "    <tr style=\"text-align: right;\">\n",
       "      <th></th>\n",
       "      <th>Scale1</th>\n",
       "      <th>Scale2</th>\n",
       "    </tr>\n",
       "  </thead>\n",
       "  <tbody>\n",
       "    <tr>\n",
       "      <th>Scale1</th>\n",
       "      <td>1.000000</td>\n",
       "      <td>0.546822</td>\n",
       "    </tr>\n",
       "    <tr>\n",
       "      <th>Scale2</th>\n",
       "      <td>0.546822</td>\n",
       "      <td>1.000000</td>\n",
       "    </tr>\n",
       "  </tbody>\n",
       "</table>\n",
       "</div>"
      ],
      "text/plain": [
       "          Scale1    Scale2\n",
       "Scale1  1.000000  0.546822\n",
       "Scale2  0.546822  1.000000"
      ]
     },
     "execution_count": 9,
     "metadata": {},
     "output_type": "execute_result"
    }
   ],
   "source": [
    "data.corr()"
   ]
  },
  {
   "cell_type": "markdown",
   "metadata": {},
   "source": [
    "Just as in the covariance matrix, the value of $r$(Scale1,Scale2) is the same as $r$(Scale2,Scale1) and the diagonal is all 1. Because of the symmetry one therefore frequently sees correlation matrixes where the numbers above or below the diagonal are omitted. "
   ]
  },
  {
   "cell_type": "markdown",
   "metadata": {},
   "source": [
    "<a id= 'InterpretCorr'> </a>"
   ]
  },
  {
   "cell_type": "markdown",
   "metadata": {},
   "source": [
    "### 3.1 Interpreting the correlation coefficient\n",
    "So now we have a standardized measure (the Pearson correlation coefficient) to measure the strength of linear relationships between variables. If the relationship is really strong, the data points of x and y would form a straight diagonal when plottted against each other. But most data points will not be exactly on the line unless we have perfect correlation (r=1). In the case of Scale 1 and Scale 2 above, we can clearly see that there is a distance between most data points and the diagonal (in Try out 1). Thus, the straight line accounts for some of the systematic variation in the data, while other variability is not accounted for (the error, or unsystematic variation).\n",
    "\n",
    "Hopefully this now rings a bit familiiar.  The Pearson correlation coefficient is, in fact, a measure of the effect size, which also makes it possible to compare across different experiments. Commonly, researchers follow the guidelines of Cohen who suggested the following interpretations for r:\n",
    "\n",
    "- Small r = 0.1\n",
    "- Medium r = 0.3\n",
    "- Large r = 0.5\n",
    "\n",
    "So the correlation between Scale 1 and Scale 2 above would be considered large. *However,* just like other statistics we have calculated before, it would be sensible to investigate the confidence intervals before drawing too many conclusions. If the 95% confidence interval ranges between 0.1 and 0.9 we cannot be very sure about the true strength of the relationship.\n",
    "\n",
    "To test that our correlation is significantly different from zero, we can calculate the t-statistic. [Sauro & Lewis](https://books.google.dk/books?hl=en&lr=&id=USPfCQAAQBAJ&oi=fnd&pg=PP1&dq=Quantifying+the+User+Experience+Practical+Statistics+for+User+Research&ots=Vy_iZ_dmMj&sig=4VbjNb1uUOsABOLFmGGaqpziuLk&redir_esc=y#v=onepage&q=Quantifying%20the%20User%20Experience%20Practical%20Statistics%20for%20User%20Research&f=false) show how to do this. But many statistical packages will also report the probability of obtaining the correlation by chance. "
   ]
  },
  {
   "cell_type": "code",
   "execution_count": 7,
   "metadata": {},
   "outputs": [
    {
     "data": {
      "text/plain": [
       "(0.5468224583320977, 0.01885668866904329)"
      ]
     },
     "execution_count": 7,
     "metadata": {},
     "output_type": "execute_result"
    }
   ],
   "source": [
    "# We import the stats package to use the pearsonr function\n",
    "\n",
    "from scipy import stats\n",
    "\n",
    "stats.pearsonr(data.Scale1, data.Scale2)\n",
    "# As before, we get r, but also the p-value"
   ]
  },
  {
   "cell_type": "markdown",
   "metadata": {},
   "source": [
    "<a id= 'ReliableCorr'> </a>"
   ]
  },
  {
   "cell_type": "markdown",
   "metadata": {
    "id": "B2yrhGVayY_4"
   },
   "source": [
    "### 3.2 Correlation as a Measure of Reliability\n",
    "Now we have an idea of whether users have a tendency to rate Scale 1 and Scale 2 in a similar way. If, for instance Scale 1 are users' responses to \"How would you rate the quality of the product?\" and Scale 2 is \"How likely are you to buy this product?\" we can see to what degree these two correlate. If they would be perfectly correlated for a number of users, perhaps we could only be asking one instead of two questions? That is, is Scale 1  a reliable measure of Scale 2? This is typically something one would investigate when checking reliability for self-report measurement instruments.\n",
    "\n",
    "We can also measure reliability by calculating the correlation coefficient for different ratings of the same stimuli. For instance, $r$ can indicate the degree to which users tend to rate a particular stimulus the same way when presented with it several times. \n",
    "\n",
    "If $r$ is close to 1, it implies that the measure is reliable, as the ratings of the same stimulus show small variability.\n",
    "\n",
    "If $r$ is close to 0, it implies that the measure is unreliable and noisy, i.e. with large variability."
   ]
  },
  {
   "cell_type": "markdown",
   "metadata": {
    "id": "RkPJyXYxyY_5"
   },
   "source": [
    "### Try out 3:\n",
    "When converting analog signals to digital, there are limited values that can be represented in the computer. \n",
    "In this case, we have data from a distance sensor, the produced voltage output (analog), and the converted ADC (digital) value. Plot the two latter and calculate their correlation coefficient.\n"
   ]
  },
  {
   "cell_type": "code",
   "execution_count": 3,
   "metadata": {
    "colab": {
     "base_uri": "https://localhost:8080/",
     "height": 300
    },
    "executionInfo": {
     "elapsed": 1086,
     "status": "ok",
     "timestamp": 1620375724117,
     "user": {
      "displayName": "",
      "photoUrl": "",
      "userId": ""
     },
     "user_tz": -120
    },
    "id": "uj4bAikQyY_5",
    "outputId": "6f81337f-9d12-499c-df87-a43a5b2bce4f"
   },
   "outputs": [
    {
     "name": "stdout",
     "output_type": "stream",
     "text": [
      "(31, 3)\n"
     ]
    },
    {
     "data": {
      "text/plain": [
       "Text(0, 0.5, 'Voltage')"
      ]
     },
     "execution_count": 3,
     "metadata": {},
     "output_type": "execute_result"
    },
    {
     "data": {
      "image/png": "[encoded data removed]",
      "text/plain": [
       "<Figure size 432x288 with 1 Axes>"
      ]
     },
     "metadata": {
      "needs_background": "light"
     },
     "output_type": "display_data"
    }
   ],
   "source": [
    "# Here is an excerpt from the data:\n",
    "array=np.array([[1200,94,0.46],\n",
    "[1210,93,0.45],\n",
    "[1220,93,0.45],\n",
    "[1230,92,0.45],\n",
    "[1240,90,0.44],\n",
    "[1250,89,0.43],\n",
    "[1260,89,0.43],\n",
    "[1270,89,0.43],\n",
    "[1280,88,0.43],\n",
    "[1290,86,0.42],\n",
    "[1300,85,0.42],\n",
    "[1310,85,0.42],\n",
    "[1320,85,0.42],\n",
    "[1330,84,0.41],\n",
    "[1340,83,0.41],\n",
    "[1350,82,0.40],\n",
    "[1360,81,0.40],\n",
    "[1370,81,0.40],\n",
    "[1380,80,0.39],\n",
    "[1390,80,0.39],\n",
    "[1400,77,0.38],\n",
    "[1410,77,0.38],\n",
    "[1420,76,0.37],\n",
    "[1430,76,0.37],\n",
    "[1440,76,0.37],\n",
    "[1450,76,0.37],\n",
    "[1460,75,0.37],\n",
    "[1470,74,0.36],\n",
    "[1480,73,0.36],\n",
    "[1490,72,0.35],\n",
    "[1500,72,0.35]])\n",
    "\n",
    "# And to make it convenient we put this in a data frame with index for the participants\n",
    "index = [f'participant_{num}' for num in range(array.shape[0])] #generate row index for all entries\n",
    "\n",
    "sensor= pd.DataFrame(array, columns=([\"Distance\",\"ADC\", \"Voltage\"]), index=index)\n",
    "\n",
    "#check the format of data frame\n",
    "print(sensor.shape)\n",
    "\n",
    "sensor.describe()\n",
    "\n",
    "#one way to plot\n",
    "plt.plot(sensor.ADC, sensor.Voltage, '+')\n",
    "\n",
    "plt.xlabel('ADC')\n",
    "plt.ylabel('Voltage')\n",
    "\n",
    "#calculate correlation as above"
   ]
  },
  {
   "cell_type": "markdown",
   "metadata": {
    "id": "zRQfvtODyY_6"
   },
   "source": [
    "As expected (and hoped for), the values are highly correlated. "
   ]
  },
  {
   "cell_type": "markdown",
   "metadata": {},
   "source": [
    "<a id= 'LinearFit'> </a>"
   ]
  },
  {
   "cell_type": "markdown",
   "metadata": {
    "id": "1LzdZSMRyY_6"
   },
   "source": [
    "### 3.3 Linear Fit\n",
    "It is good to know that our measures are reliable, but we can use the concept of linear relationship for other things. \n",
    "\n",
    "For instance, if we want use the distance sensor in an application to measure distance, it would be highly useful to know how the ADC values correspond to physical distance (mm). One way is to plot the values."
   ]
  },
  {
   "cell_type": "code",
   "execution_count": null,
   "metadata": {
    "id": "WhY4r3TdyY_7",
    "outputId": "7707d96d-9015-4812-e6ea-31a16a8fe921"
   },
   "outputs": [
    {
     "data": {
      "image/png": "[encoded data removed]",
      "text/plain": [
       "<Figure size 432x288 with 1 Axes>"
      ]
     },
     "metadata": {
      "needs_background": "light",
      "tags": []
     },
     "output_type": "display_data"
    }
   ],
   "source": [
    "plt.scatter(sensor.ADC,sensor.Distance)\n",
    "plt.xlabel('Analogue to Digital Conversion (ADC value)')\n",
    "plt.ylabel('Distance (mm)')\n",
    "plt.show()"
   ]
  },
  {
   "cell_type": "markdown",
   "metadata": {
    "id": "lSI5Q_79yY_7"
   },
   "source": [
    "From this plot, we could find the correspondance between the ADC and distance. But more convenient would be to make a model using linear regression and *fit* a line to the points. This way, we could get the right relationship for any value of either."
   ]
  },
  {
   "cell_type": "markdown",
   "metadata": {
    "id": "SqnOGiOuyY_6"
   },
   "source": [
    "<a id= 'Regression'> </a>"
   ]
  },
  {
   "cell_type": "markdown",
   "metadata": {
    "id": "6HCsuEK3yY_6"
   },
   "source": [
    "## 4. Linear Regression\n",
    "The relationship between $x$ and $y$ can be modelled using a straight line equation that expresses $y$ in terms of $x$. In other words, variable $y$ is predicted by $x$ in terms of a linear relationship between the two. The method finds the straight line that best fits the data points, and expresses it as follows:\n",
    "\n",
    "$$\\hat y=a+bx + e$$\n",
    "\n",
    "Where the constant $a$ is the *intercept* (the value of $y$ when $x=0$, sometimes denoted $b_0$), and the constant $b$ is a measure of the *inclination* (the \"steepness\" or \"slope\" or \"gradient\" of the line). And then there is $e$, the error - because of course our model will not be perfect. The error is also called the residual.\n",
    "\n",
    "We can get the slope a from the correlation coefficient and sample standard deviations ($s_x$ and $s_y$)of the variables x and y:\n",
    "$$b=r \\frac{s_y}{s_x}$$\n",
    "\n",
    "And the intercept from the slope and mean values of x and y:\n",
    "$$a=\\bar y -b \\bar x$$\n"
   ]
  },
  {
   "cell_type": "markdown",
   "metadata": {
    "id": "8jqaxglyyY_7"
   },
   "source": [
    "### Try out 4:\n",
    "Apply a linear fit, print the output and identify $a$ and $b$ in the equation\n",
    " $Distance= a*ADC + b$"
   ]
  },
  {
   "cell_type": "code",
   "execution_count": 14,
   "metadata": {
    "colab": {
     "base_uri": "https://localhost:8080/"
    },
    "executionInfo": {
     "elapsed": 660,
     "status": "ok",
     "timestamp": 1620376677489,
     "user": {
      "displayName": "",
      "photoUrl": "",
      "userId": ""
     },
     "user_tz": -120
    },
    "id": "k1iKRsZuyY_7",
    "outputId": "4766172a-a034-424a-d94f-a4dea1715a48"
   },
   "outputs": [
    {
     "name": "stdout",
     "output_type": "stream",
     "text": [
      "[ -13.35905977 2450.18321291]\n"
     ]
    }
   ],
   "source": [
    "distmodel=np.polyfit(sensor.ADC,sensor.Distance,1)\n",
    "\n",
    "# 1st order polynomial = Line, for more info see:\n",
    "# help(np.polyfit)\n",
    "\n",
    "print(distmodel)  \n",
    "# for  decrease of 1 ADC the corresponding distance increases by... (first number)\n",
    "# for  0 ADC output the corresponding distance would be... (second)"
   ]
  },
  {
   "cell_type": "markdown",
   "metadata": {
    "id": "nZC7K0J-yY_8"
   },
   "source": [
    "It is important to check whether the output of the model makes sense in relation to the data. \n",
    "\n",
    "We can also check the prediction of our model by producing values according to it, and plot it with the original data."
   ]
  },
  {
   "cell_type": "code",
   "execution_count": 13,
   "metadata": {
    "colab": {
     "base_uri": "https://localhost:8080/",
     "height": 279
    },
    "executionInfo": {
     "elapsed": 886,
     "status": "ok",
     "timestamp": 1620376266267,
     "user": {
      "displayName": "",
      "photoUrl": "",
      "userId": ""
     },
     "user_tz": -120
    },
    "id": "9Sv7sdicyY_8",
    "outputId": "8e3f80b8-c578-417c-f597-996044136b96"
   },
   "outputs": [
    {
     "data": {
      "image/png": "[encoded data removed]",
      "text/plain": [
       "<Figure size 432x288 with 1 Axes>"
      ]
     },
     "metadata": {
      "needs_background": "light",
      "tags": []
     },
     "output_type": "display_data"
    }
   ],
   "source": [
    "Distpred=np.poly1d(distmodel) # construct predicted output based on model\n",
    "\n",
    "D_lin_reg=Distpred(sensor.ADC)\n",
    "plt.scatter(sensor.ADC,sensor.Distance)\n",
    "plt.plot(sensor.ADC,D_lin_reg, c='r')\n",
    "\n",
    "plt.xlabel('Analogue to Digital Conversion (ADC value)')\n",
    "plt.ylabel('Distance (mm)')\n",
    "plt.show()"
   ]
  },
  {
   "cell_type": "markdown",
   "metadata": {
    "id": "ObmvIv4vyY_8"
   },
   "source": [
    "The difference between the red line and the actual data points give us a sense of the error in our model. The best-fitting line minimizes the error.\n",
    "\n",
    "The regression model, and prediction of data based on it, is a fundamental concept of statistics and machine learning so there are plenty of packages to choose from. Often the data and models are often much more complex (involving more variables). \n",
    "\n",
    "It is important to stress that both correlation and linear regression express the *LINEAR* relationship between variables. There can be other, non-linear relationships in data that we should not use these methods for.\n",
    "\n",
    "In the above plot, we have quite a good fit. But in our example, we have only used a only a small portion of the sensor range. We could use the full data available and see whether our model would also be useful for other ranges."
   ]
  },
  {
   "cell_type": "markdown",
   "metadata": {
    "id": "PJzOxbJOyY_8"
   },
   "source": [
    "### Try out 5:\n",
    "Get the full data (Data_GP2Y0A02YK.csv,  https://lucidar.me/en/arduino/files/SHARP_Distance_Sensors.zip from https://lucidar.me/en/arduino/arduino-accurate-distance-measurement-sharp-GP2Y0A21YK/)\n",
    "Load it and plot. Would it be suitable to perform a linear regression on the data? "
   ]
  },
  {
   "cell_type": "code",
   "execution_count": 1,
   "metadata": {
    "colab": {
     "base_uri": "https://localhost:8080/",
     "height": 455
    },
    "executionInfo": {
     "elapsed": 532,
     "status": "error",
     "timestamp": 1620376847545,
     "user": {
      "displayName": "",
      "photoUrl": "",
      "userId": ""
     },
     "user_tz": -120
    },
    "id": "NDFRACoByY_8",
    "outputId": "3ecc3d00-1634-4284-b94c-050e836fc6be"
   },
   "outputs": [],
   "source": [
    "# Load the data. You can use pd.read_csv like the suggstion here:\n",
    "# Sharp = pd.read_csv('Data_GP2Y0A02YK.csv', delimiter = '\\t',names=('Distance', 'ADC','Voltage'))\n",
    "\n",
    "# remember to check shape and content of the data frame once loaded\n",
    "\n",
    "# see what the correlation function and linear regression would put out."
   ]
  },
  {
   "cell_type": "markdown",
   "metadata": {},
   "source": [
    "<a id= 'VarianceExplained'> </a>"
   ]
  },
  {
   "cell_type": "markdown",
   "metadata": {
    "id": "gWpoyJgsDQPD"
   },
   "source": [
    "## 5. Variance explained by model\n",
    "\n",
    "As we have seen, the prediction line accounts for some of the systematic variation in the data, while other variability is not accounted for (the error). A recurrent question is how much of the variability in data that the model accounts for, the variance explained. \n",
    "\n",
    "Now we will return to the *sums of squares*, because after all that is basically how we calculate the variance: as the squared distance between each data point and the mean.\n",
    "\n",
    "One way to do this is to compare the total sum of squares $SS_T$ of all scores (the squared distance from all scores to the grand mean) with that of the model $SS_M$. \n",
    "\n",
    "Above we we have a linear regression model for related measurements, but the concept applies also to comparisons between experimental and control groups. "
   ]
  },
  {
   "cell_type": "code",
   "execution_count": 15,
   "metadata": {
    "colab": {
     "base_uri": "https://localhost:8080/"
    },
    "executionInfo": {
     "elapsed": 491,
     "status": "ok",
     "timestamp": 1620475043014,
     "user": {
      "displayName": "Prithvi Kantan",
      "photoUrl": "https://lh3.googleusercontent.com/a-/AOh14GiCLUP5h_S53ydSDrgq_SLOZBd5_3wFs87fFb5XQA=s64",
      "userId": "18111691564717832004"
     },
     "user_tz": -120
    },
    "id": "Me-FeG16DQPA",
    "outputId": "fb2b832a-595a-4ea8-d6b1-d5ebe62049f8"
   },
   "outputs": [],
   "source": [
    "# We generate some fake data for our example, 50 scores per group\n",
    "# Make up scores of control group\n",
    "cont_m=400\n",
    "cont_std=210\n",
    "\n",
    "# Make up scores of experimental group\n",
    "exper_m=740\n",
    "exper_std=205\n",
    "\n",
    "Control_data=pd.Series(np.random.normal(cont_m, cont_std, 50))\n",
    "Exper_data=pd.Series(np.random.normal(exper_m, exper_std, 50))\n",
    "\n",
    "# We now concatenate all these data points into one Series\n",
    "All_data=pd.concat([Control_data, Exper_data], axis=0) # axis 1 would mean we end up with two columns\n",
    "\n",
    "# Get the description of all the data\n",
    "all_stats=All_data.describe()\n",
    "all_stats\n",
    "\n",
    "All_mean=all_stats.iloc[1]\n",
    "All_std=all_stats.iloc[2]"
   ]
  },
  {
   "cell_type": "markdown",
   "metadata": {},
   "source": [
    "How much of the variance that we have is explained by the simple fact that we think the experimental and control group belong to different distributions?\n",
    "\n",
    "Let's start with the total sum of squares\n",
    "$$SS_T  =\\sum{ (x_n - \\bar{x})^2 }$$"
   ]
  },
  {
   "cell_type": "code",
   "execution_count": 16,
   "metadata": {
    "executionInfo": {
     "elapsed": 529,
     "status": "ok",
     "timestamp": 1620475339274,
     "user": {
      "displayName": "Prithvi Kantan",
      "photoUrl": "https://lh3.googleusercontent.com/a-/AOh14GiCLUP5h_S53ydSDrgq_SLOZBd5_3wFs87fFb5XQA=s64",
      "userId": "18111691564717832004"
     },
     "user_tz": -120
    },
    "id": "Bdb8din7DQPD"
   },
   "outputs": [],
   "source": [
    "# Sum of squares for all data points\n",
    "SS_T=sum((All_data-All_mean)**2)"
   ]
  },
  {
   "cell_type": "markdown",
   "metadata": {
    "id": "p8YA0Ph1DQPF"
   },
   "source": [
    "And then we have our model with two means different from the total mean. So the sum of squares simply squares the difference between the group means and the total, multiplied by the number in each group (no summation needed):\n",
    "\n",
    "$$SS_M  =N_{cont}*(\\bar{x}_{cont} - \\bar{x})^2  +N_{exp}* (\\bar{x}_{exp} - \\bar{x})^2 $$\n"
   ]
  },
  {
   "cell_type": "code",
   "execution_count": 17,
   "metadata": {
    "executionInfo": {
     "elapsed": 562,
     "status": "ok",
     "timestamp": 1620475571353,
     "user": {
      "displayName": "Prithvi Kantan",
      "photoUrl": "https://lh3.googleusercontent.com/a-/AOh14GiCLUP5h_S53ydSDrgq_SLOZBd5_3wFs87fFb5XQA=s64",
      "userId": "18111691564717832004"
     },
     "user_tz": -120
    },
    "id": "Q0tiNfmhDQPF"
   },
   "outputs": [],
   "source": [
    "# The between-group sum of square is actually simpler\n",
    "SS_M=Control_data.shape[0] * (cont_m-All_mean)**2 + Exper_data.shape[0] *(exper_m-All_mean)**2 \n"
   ]
  },
  {
   "cell_type": "markdown",
   "metadata": {},
   "source": [
    "If our model is any good, it should account for a big portion of the variance in the data. That is, the data points should be close to the mean for that particular group."
   ]
  },
  {
   "cell_type": "markdown",
   "metadata": {
    "id": "oE9OJkd4DQPF"
   },
   "source": [
    "We can now calculate the proportion of variance accounted for by the model compared to the total. This is also called Coefficient of determination $r^2$ (or  $R^2$):\n",
    "\n",
    "$$ r^2 =\\frac{SS_M}{SS_T}$$"
   ]
  },
  {
   "cell_type": "markdown",
   "metadata": {
    "id": "dABkRvTjDQPF"
   },
   "source": [
    "Again we meet r as the measure the strength of linear relationships between variables. By squaring it, we have a proportion (or percentage) of the total variation the moddel accounts for. \n"
   ]
  },
  {
   "cell_type": "code",
   "execution_count": 15,
   "metadata": {},
   "outputs": [
    {
     "name": "stdout",
     "output_type": "stream",
     "text": [
      "R_square: 0.4691800513001405\n"
     ]
    }
   ],
   "source": [
    "# Coefficient of determination\n",
    "\n",
    "print('R_square:', SS_M/SS_T)"
   ]
  },
  {
   "cell_type": "markdown",
   "metadata": {
    "id": "H-l54WuRDQPF"
   },
   "source": [
    "### Try out 6:\n",
    "Calculate the effect size $r$ using the two Sum of Squares above (note that you must take the square root of $r^2$). Is the effect small, medium or large?"
   ]
  },
  {
   "cell_type": "code",
   "execution_count": null,
   "metadata": {},
   "outputs": [],
   "source": []
  }
 ],
 "metadata": {
  "colab": {
   "name": "UX8_Correlation.ipynb",
   "provenance": [
    {
     "file_id": "https://github.com/sofiadahl/Design_and_Analysis_of_Experiments/blob/main/DAE5_Correlation.ipynb",
     "timestamp": 1620376918292
    }
   ]
  },
  "kernelspec": {
   "display_name": "Python 3",
   "language": "python",
   "name": "python3"
  },
  "language_info": {
   "codemirror_mode": {
    "name": "ipython",
    "version": 3
   },
   "file_extension": ".py",
   "mimetype": "text/x-python",
   "name": "python",
   "nbconvert_exporter": "python",
   "pygments_lexer": "ipython3",
   "version": "3.7.4"
  }
 },
 "nbformat": 4,
 "nbformat_minor": 4
}
